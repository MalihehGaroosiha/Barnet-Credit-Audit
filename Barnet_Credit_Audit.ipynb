{
  "nbformat": 4,
  "nbformat_minor": 0,
  "metadata": {
    "colab": {
      "provenance": [],
      "toc_visible": true,
      "include_colab_link": true
    },
    "kernelspec": {
      "name": "python3",
      "display_name": "Python 3"
    },
    "language_info": {
      "name": "python"
    }
  },
  "cells": [
    {
      "cell_type": "markdown",
      "metadata": {
        "id": "view-in-github",
        "colab_type": "text"
      },
      "source": [
        "<a href=\"https://colab.research.google.com/github/MalihehGaroosiha/Barnet-Credit-Audit/blob/main/Barnet_Credit_Audit.ipynb\" target=\"_parent\"><img src=\"https://colab.research.google.com/assets/colab-badge.svg\" alt=\"Open In Colab\"/></a>"
      ]
    },
    {
      "cell_type": "code",
      "source": [
        "#pip install sklearn"
      ],
      "metadata": {
        "id": "7mupdXUV680-"
      },
      "execution_count": null,
      "outputs": []
    },
    {
      "cell_type": "code",
      "source": [
        "import pandas as pd\n",
        "import random\n",
        "import numpy as np\n",
        "import matplotlib.pyplot as plt\n",
        "from sklearn.cluster import KMeans\n",
        "from sklearn.datasets import make_blobs\n",
        "%matplotlib inline\n",
        "import seaborn as sns"
      ],
      "metadata": {
        "id": "a-V4ytNB7BPO"
      },
      "execution_count": null,
      "outputs": []
    },
    {
      "cell_type": "markdown",
      "source": [
        "# New Section"
      ],
      "metadata": {
        "id": "dWXBK6u9ma0K"
      }
    },
    {
      "cell_type": "code",
      "source": [
        "df1=pd.read_csv(\"Purchasing Card Data 2014.csv\")"
      ],
      "metadata": {
        "id": "Spci-pUYnpJ-",
        "outputId": "a1cc11ca-b710-40b8-b6f3-ea520ce15eee",
        "colab": {
          "base_uri": "https://localhost:8080/",
          "height": 304
        }
      },
      "execution_count": null,
      "outputs": [
        {
          "output_type": "error",
          "ename": "FileNotFoundError",
          "evalue": "[Errno 2] No such file or directory: 'Purchasing Card Data 2014.csv'",
          "traceback": [
            "\u001b[0;31m---------------------------------------------------------------------------\u001b[0m",
            "\u001b[0;31mFileNotFoundError\u001b[0m                         Traceback (most recent call last)",
            "\u001b[0;32m<ipython-input-2-4b36af697ca6>\u001b[0m in \u001b[0;36m<cell line: 1>\u001b[0;34m()\u001b[0m\n\u001b[0;32m----> 1\u001b[0;31m \u001b[0mdf1\u001b[0m\u001b[0;34m=\u001b[0m\u001b[0mpd\u001b[0m\u001b[0;34m.\u001b[0m\u001b[0mread_csv\u001b[0m\u001b[0;34m(\u001b[0m\u001b[0;34m\"Purchasing Card Data 2014.csv\"\u001b[0m\u001b[0;34m)\u001b[0m\u001b[0;34m\u001b[0m\u001b[0;34m\u001b[0m\u001b[0m\n\u001b[0m",
            "\u001b[0;32m/usr/local/lib/python3.10/dist-packages/pandas/io/parsers/readers.py\u001b[0m in \u001b[0;36mread_csv\u001b[0;34m(filepath_or_buffer, sep, delimiter, header, names, index_col, usecols, dtype, engine, converters, true_values, false_values, skipinitialspace, skiprows, skipfooter, nrows, na_values, keep_default_na, na_filter, verbose, skip_blank_lines, parse_dates, infer_datetime_format, keep_date_col, date_parser, date_format, dayfirst, cache_dates, iterator, chunksize, compression, thousands, decimal, lineterminator, quotechar, quoting, doublequote, escapechar, comment, encoding, encoding_errors, dialect, on_bad_lines, delim_whitespace, low_memory, memory_map, float_precision, storage_options, dtype_backend)\u001b[0m\n\u001b[1;32m    946\u001b[0m     \u001b[0mkwds\u001b[0m\u001b[0;34m.\u001b[0m\u001b[0mupdate\u001b[0m\u001b[0;34m(\u001b[0m\u001b[0mkwds_defaults\u001b[0m\u001b[0;34m)\u001b[0m\u001b[0;34m\u001b[0m\u001b[0;34m\u001b[0m\u001b[0m\n\u001b[1;32m    947\u001b[0m \u001b[0;34m\u001b[0m\u001b[0m\n\u001b[0;32m--> 948\u001b[0;31m     \u001b[0;32mreturn\u001b[0m \u001b[0m_read\u001b[0m\u001b[0;34m(\u001b[0m\u001b[0mfilepath_or_buffer\u001b[0m\u001b[0;34m,\u001b[0m \u001b[0mkwds\u001b[0m\u001b[0;34m)\u001b[0m\u001b[0;34m\u001b[0m\u001b[0;34m\u001b[0m\u001b[0m\n\u001b[0m\u001b[1;32m    949\u001b[0m \u001b[0;34m\u001b[0m\u001b[0m\n\u001b[1;32m    950\u001b[0m \u001b[0;34m\u001b[0m\u001b[0m\n",
            "\u001b[0;32m/usr/local/lib/python3.10/dist-packages/pandas/io/parsers/readers.py\u001b[0m in \u001b[0;36m_read\u001b[0;34m(filepath_or_buffer, kwds)\u001b[0m\n\u001b[1;32m    609\u001b[0m \u001b[0;34m\u001b[0m\u001b[0m\n\u001b[1;32m    610\u001b[0m     \u001b[0;31m# Create the parser.\u001b[0m\u001b[0;34m\u001b[0m\u001b[0;34m\u001b[0m\u001b[0m\n\u001b[0;32m--> 611\u001b[0;31m     \u001b[0mparser\u001b[0m \u001b[0;34m=\u001b[0m \u001b[0mTextFileReader\u001b[0m\u001b[0;34m(\u001b[0m\u001b[0mfilepath_or_buffer\u001b[0m\u001b[0;34m,\u001b[0m \u001b[0;34m**\u001b[0m\u001b[0mkwds\u001b[0m\u001b[0;34m)\u001b[0m\u001b[0;34m\u001b[0m\u001b[0;34m\u001b[0m\u001b[0m\n\u001b[0m\u001b[1;32m    612\u001b[0m \u001b[0;34m\u001b[0m\u001b[0m\n\u001b[1;32m    613\u001b[0m     \u001b[0;32mif\u001b[0m \u001b[0mchunksize\u001b[0m \u001b[0;32mor\u001b[0m \u001b[0miterator\u001b[0m\u001b[0;34m:\u001b[0m\u001b[0;34m\u001b[0m\u001b[0;34m\u001b[0m\u001b[0m\n",
            "\u001b[0;32m/usr/local/lib/python3.10/dist-packages/pandas/io/parsers/readers.py\u001b[0m in \u001b[0;36m__init__\u001b[0;34m(self, f, engine, **kwds)\u001b[0m\n\u001b[1;32m   1446\u001b[0m \u001b[0;34m\u001b[0m\u001b[0m\n\u001b[1;32m   1447\u001b[0m         \u001b[0mself\u001b[0m\u001b[0;34m.\u001b[0m\u001b[0mhandles\u001b[0m\u001b[0;34m:\u001b[0m \u001b[0mIOHandles\u001b[0m \u001b[0;34m|\u001b[0m \u001b[0;32mNone\u001b[0m \u001b[0;34m=\u001b[0m \u001b[0;32mNone\u001b[0m\u001b[0;34m\u001b[0m\u001b[0;34m\u001b[0m\u001b[0m\n\u001b[0;32m-> 1448\u001b[0;31m         \u001b[0mself\u001b[0m\u001b[0;34m.\u001b[0m\u001b[0m_engine\u001b[0m \u001b[0;34m=\u001b[0m \u001b[0mself\u001b[0m\u001b[0;34m.\u001b[0m\u001b[0m_make_engine\u001b[0m\u001b[0;34m(\u001b[0m\u001b[0mf\u001b[0m\u001b[0;34m,\u001b[0m \u001b[0mself\u001b[0m\u001b[0;34m.\u001b[0m\u001b[0mengine\u001b[0m\u001b[0;34m)\u001b[0m\u001b[0;34m\u001b[0m\u001b[0;34m\u001b[0m\u001b[0m\n\u001b[0m\u001b[1;32m   1449\u001b[0m \u001b[0;34m\u001b[0m\u001b[0m\n\u001b[1;32m   1450\u001b[0m     \u001b[0;32mdef\u001b[0m \u001b[0mclose\u001b[0m\u001b[0;34m(\u001b[0m\u001b[0mself\u001b[0m\u001b[0;34m)\u001b[0m \u001b[0;34m->\u001b[0m \u001b[0;32mNone\u001b[0m\u001b[0;34m:\u001b[0m\u001b[0;34m\u001b[0m\u001b[0;34m\u001b[0m\u001b[0m\n",
            "\u001b[0;32m/usr/local/lib/python3.10/dist-packages/pandas/io/parsers/readers.py\u001b[0m in \u001b[0;36m_make_engine\u001b[0;34m(self, f, engine)\u001b[0m\n\u001b[1;32m   1703\u001b[0m                 \u001b[0;32mif\u001b[0m \u001b[0;34m\"b\"\u001b[0m \u001b[0;32mnot\u001b[0m \u001b[0;32min\u001b[0m \u001b[0mmode\u001b[0m\u001b[0;34m:\u001b[0m\u001b[0;34m\u001b[0m\u001b[0;34m\u001b[0m\u001b[0m\n\u001b[1;32m   1704\u001b[0m                     \u001b[0mmode\u001b[0m \u001b[0;34m+=\u001b[0m \u001b[0;34m\"b\"\u001b[0m\u001b[0;34m\u001b[0m\u001b[0;34m\u001b[0m\u001b[0m\n\u001b[0;32m-> 1705\u001b[0;31m             self.handles = get_handle(\n\u001b[0m\u001b[1;32m   1706\u001b[0m                 \u001b[0mf\u001b[0m\u001b[0;34m,\u001b[0m\u001b[0;34m\u001b[0m\u001b[0;34m\u001b[0m\u001b[0m\n\u001b[1;32m   1707\u001b[0m                 \u001b[0mmode\u001b[0m\u001b[0;34m,\u001b[0m\u001b[0;34m\u001b[0m\u001b[0;34m\u001b[0m\u001b[0m\n",
            "\u001b[0;32m/usr/local/lib/python3.10/dist-packages/pandas/io/common.py\u001b[0m in \u001b[0;36mget_handle\u001b[0;34m(path_or_buf, mode, encoding, compression, memory_map, is_text, errors, storage_options)\u001b[0m\n\u001b[1;32m    861\u001b[0m         \u001b[0;32mif\u001b[0m \u001b[0mioargs\u001b[0m\u001b[0;34m.\u001b[0m\u001b[0mencoding\u001b[0m \u001b[0;32mand\u001b[0m \u001b[0;34m\"b\"\u001b[0m \u001b[0;32mnot\u001b[0m \u001b[0;32min\u001b[0m \u001b[0mioargs\u001b[0m\u001b[0;34m.\u001b[0m\u001b[0mmode\u001b[0m\u001b[0;34m:\u001b[0m\u001b[0;34m\u001b[0m\u001b[0;34m\u001b[0m\u001b[0m\n\u001b[1;32m    862\u001b[0m             \u001b[0;31m# Encoding\u001b[0m\u001b[0;34m\u001b[0m\u001b[0;34m\u001b[0m\u001b[0m\n\u001b[0;32m--> 863\u001b[0;31m             handle = open(\n\u001b[0m\u001b[1;32m    864\u001b[0m                 \u001b[0mhandle\u001b[0m\u001b[0;34m,\u001b[0m\u001b[0;34m\u001b[0m\u001b[0;34m\u001b[0m\u001b[0m\n\u001b[1;32m    865\u001b[0m                 \u001b[0mioargs\u001b[0m\u001b[0;34m.\u001b[0m\u001b[0mmode\u001b[0m\u001b[0;34m,\u001b[0m\u001b[0;34m\u001b[0m\u001b[0;34m\u001b[0m\u001b[0m\n",
            "\u001b[0;31mFileNotFoundError\u001b[0m: [Errno 2] No such file or directory: 'Purchasing Card Data 2014.csv'"
          ]
        }
      ]
    },
    {
      "cell_type": "code",
      "source": [
        "df1.head()"
      ],
      "metadata": {
        "colab": {
          "base_uri": "https://localhost:8080/",
          "height": 206
        },
        "id": "tRUzuRF4npbh",
        "outputId": "7a5906ef-791a-4c77-c024-1178f06e828b"
      },
      "execution_count": null,
      "outputs": [
        {
          "output_type": "execute_result",
          "data": {
            "text/plain": [
              "         Service Area             Account Description            Creditor  \\\n",
              "0  Childrens Services                     IT Services       123-REG.CO.UK   \n",
              "1  Childrens Services                  Other Services  ACCESS EXPEDITIONS   \n",
              "2  Childrens Services  Equipment and Materials Repair     AFE SERVICELINE   \n",
              "3  Childrens Services  Equipment and Materials Repair     AFE SERVICELINE   \n",
              "4  Childrens Services  Building Repairs & Maintenance    ALLSOP & FRANCIS   \n",
              "\n",
              "  Transaction Date  JV Reference     JV Date  JV Value  \n",
              "0       23/04/2014            93  20/05/2014    143.81  \n",
              "1       03/04/2014           111  20/05/2014  6,000.00  \n",
              "2       02/04/2014             6  20/05/2014    309.38  \n",
              "3       02/04/2014             7  20/05/2014    218.76  \n",
              "4       15/04/2014           381  20/05/2014       306  "
            ],
            "text/html": [
              "\n",
              "  <div id=\"df-adc05880-4247-45b3-9482-083c60add448\" class=\"colab-df-container\">\n",
              "    <div>\n",
              "<style scoped>\n",
              "    .dataframe tbody tr th:only-of-type {\n",
              "        vertical-align: middle;\n",
              "    }\n",
              "\n",
              "    .dataframe tbody tr th {\n",
              "        vertical-align: top;\n",
              "    }\n",
              "\n",
              "    .dataframe thead th {\n",
              "        text-align: right;\n",
              "    }\n",
              "</style>\n",
              "<table border=\"1\" class=\"dataframe\">\n",
              "  <thead>\n",
              "    <tr style=\"text-align: right;\">\n",
              "      <th></th>\n",
              "      <th>Service Area</th>\n",
              "      <th>Account Description</th>\n",
              "      <th>Creditor</th>\n",
              "      <th>Transaction Date</th>\n",
              "      <th>JV Reference</th>\n",
              "      <th>JV Date</th>\n",
              "      <th>JV Value</th>\n",
              "    </tr>\n",
              "  </thead>\n",
              "  <tbody>\n",
              "    <tr>\n",
              "      <th>0</th>\n",
              "      <td>Childrens Services</td>\n",
              "      <td>IT Services</td>\n",
              "      <td>123-REG.CO.UK</td>\n",
              "      <td>23/04/2014</td>\n",
              "      <td>93</td>\n",
              "      <td>20/05/2014</td>\n",
              "      <td>143.81</td>\n",
              "    </tr>\n",
              "    <tr>\n",
              "      <th>1</th>\n",
              "      <td>Childrens Services</td>\n",
              "      <td>Other Services</td>\n",
              "      <td>ACCESS EXPEDITIONS</td>\n",
              "      <td>03/04/2014</td>\n",
              "      <td>111</td>\n",
              "      <td>20/05/2014</td>\n",
              "      <td>6,000.00</td>\n",
              "    </tr>\n",
              "    <tr>\n",
              "      <th>2</th>\n",
              "      <td>Childrens Services</td>\n",
              "      <td>Equipment and Materials Repair</td>\n",
              "      <td>AFE SERVICELINE</td>\n",
              "      <td>02/04/2014</td>\n",
              "      <td>6</td>\n",
              "      <td>20/05/2014</td>\n",
              "      <td>309.38</td>\n",
              "    </tr>\n",
              "    <tr>\n",
              "      <th>3</th>\n",
              "      <td>Childrens Services</td>\n",
              "      <td>Equipment and Materials Repair</td>\n",
              "      <td>AFE SERVICELINE</td>\n",
              "      <td>02/04/2014</td>\n",
              "      <td>7</td>\n",
              "      <td>20/05/2014</td>\n",
              "      <td>218.76</td>\n",
              "    </tr>\n",
              "    <tr>\n",
              "      <th>4</th>\n",
              "      <td>Childrens Services</td>\n",
              "      <td>Building Repairs &amp; Maintenance</td>\n",
              "      <td>ALLSOP &amp; FRANCIS</td>\n",
              "      <td>15/04/2014</td>\n",
              "      <td>381</td>\n",
              "      <td>20/05/2014</td>\n",
              "      <td>306</td>\n",
              "    </tr>\n",
              "  </tbody>\n",
              "</table>\n",
              "</div>\n",
              "    <div class=\"colab-df-buttons\">\n",
              "\n",
              "  <div class=\"colab-df-container\">\n",
              "    <button class=\"colab-df-convert\" onclick=\"convertToInteractive('df-adc05880-4247-45b3-9482-083c60add448')\"\n",
              "            title=\"Convert this dataframe to an interactive table.\"\n",
              "            style=\"display:none;\">\n",
              "\n",
              "  <svg xmlns=\"http://www.w3.org/2000/svg\" height=\"24px\" viewBox=\"0 -960 960 960\">\n",
              "    <path d=\"M120-120v-720h720v720H120Zm60-500h600v-160H180v160Zm220 220h160v-160H400v160Zm0 220h160v-160H400v160ZM180-400h160v-160H180v160Zm440 0h160v-160H620v160ZM180-180h160v-160H180v160Zm440 0h160v-160H620v160Z\"/>\n",
              "  </svg>\n",
              "    </button>\n",
              "\n",
              "  <style>\n",
              "    .colab-df-container {\n",
              "      display:flex;\n",
              "      gap: 12px;\n",
              "    }\n",
              "\n",
              "    .colab-df-convert {\n",
              "      background-color: #E8F0FE;\n",
              "      border: none;\n",
              "      border-radius: 50%;\n",
              "      cursor: pointer;\n",
              "      display: none;\n",
              "      fill: #1967D2;\n",
              "      height: 32px;\n",
              "      padding: 0 0 0 0;\n",
              "      width: 32px;\n",
              "    }\n",
              "\n",
              "    .colab-df-convert:hover {\n",
              "      background-color: #E2EBFA;\n",
              "      box-shadow: 0px 1px 2px rgba(60, 64, 67, 0.3), 0px 1px 3px 1px rgba(60, 64, 67, 0.15);\n",
              "      fill: #174EA6;\n",
              "    }\n",
              "\n",
              "    .colab-df-buttons div {\n",
              "      margin-bottom: 4px;\n",
              "    }\n",
              "\n",
              "    [theme=dark] .colab-df-convert {\n",
              "      background-color: #3B4455;\n",
              "      fill: #D2E3FC;\n",
              "    }\n",
              "\n",
              "    [theme=dark] .colab-df-convert:hover {\n",
              "      background-color: #434B5C;\n",
              "      box-shadow: 0px 1px 3px 1px rgba(0, 0, 0, 0.15);\n",
              "      filter: drop-shadow(0px 1px 2px rgba(0, 0, 0, 0.3));\n",
              "      fill: #FFFFFF;\n",
              "    }\n",
              "  </style>\n",
              "\n",
              "    <script>\n",
              "      const buttonEl =\n",
              "        document.querySelector('#df-adc05880-4247-45b3-9482-083c60add448 button.colab-df-convert');\n",
              "      buttonEl.style.display =\n",
              "        google.colab.kernel.accessAllowed ? 'block' : 'none';\n",
              "\n",
              "      async function convertToInteractive(key) {\n",
              "        const element = document.querySelector('#df-adc05880-4247-45b3-9482-083c60add448');\n",
              "        const dataTable =\n",
              "          await google.colab.kernel.invokeFunction('convertToInteractive',\n",
              "                                                    [key], {});\n",
              "        if (!dataTable) return;\n",
              "\n",
              "        const docLinkHtml = 'Like what you see? Visit the ' +\n",
              "          '<a target=\"_blank\" href=https://colab.research.google.com/notebooks/data_table.ipynb>data table notebook</a>'\n",
              "          + ' to learn more about interactive tables.';\n",
              "        element.innerHTML = '';\n",
              "        dataTable['output_type'] = 'display_data';\n",
              "        await google.colab.output.renderOutput(dataTable, element);\n",
              "        const docLink = document.createElement('div');\n",
              "        docLink.innerHTML = docLinkHtml;\n",
              "        element.appendChild(docLink);\n",
              "      }\n",
              "    </script>\n",
              "  </div>\n",
              "\n",
              "\n",
              "<div id=\"df-71aa01e9-2cc6-4184-81bd-5dc612a2eac9\">\n",
              "  <button class=\"colab-df-quickchart\" onclick=\"quickchart('df-71aa01e9-2cc6-4184-81bd-5dc612a2eac9')\"\n",
              "            title=\"Suggest charts\"\n",
              "            style=\"display:none;\">\n",
              "\n",
              "<svg xmlns=\"http://www.w3.org/2000/svg\" height=\"24px\"viewBox=\"0 0 24 24\"\n",
              "     width=\"24px\">\n",
              "    <g>\n",
              "        <path d=\"M19 3H5c-1.1 0-2 .9-2 2v14c0 1.1.9 2 2 2h14c1.1 0 2-.9 2-2V5c0-1.1-.9-2-2-2zM9 17H7v-7h2v7zm4 0h-2V7h2v10zm4 0h-2v-4h2v4z\"/>\n",
              "    </g>\n",
              "</svg>\n",
              "  </button>\n",
              "\n",
              "<style>\n",
              "  .colab-df-quickchart {\n",
              "      --bg-color: #E8F0FE;\n",
              "      --fill-color: #1967D2;\n",
              "      --hover-bg-color: #E2EBFA;\n",
              "      --hover-fill-color: #174EA6;\n",
              "      --disabled-fill-color: #AAA;\n",
              "      --disabled-bg-color: #DDD;\n",
              "  }\n",
              "\n",
              "  [theme=dark] .colab-df-quickchart {\n",
              "      --bg-color: #3B4455;\n",
              "      --fill-color: #D2E3FC;\n",
              "      --hover-bg-color: #434B5C;\n",
              "      --hover-fill-color: #FFFFFF;\n",
              "      --disabled-bg-color: #3B4455;\n",
              "      --disabled-fill-color: #666;\n",
              "  }\n",
              "\n",
              "  .colab-df-quickchart {\n",
              "    background-color: var(--bg-color);\n",
              "    border: none;\n",
              "    border-radius: 50%;\n",
              "    cursor: pointer;\n",
              "    display: none;\n",
              "    fill: var(--fill-color);\n",
              "    height: 32px;\n",
              "    padding: 0;\n",
              "    width: 32px;\n",
              "  }\n",
              "\n",
              "  .colab-df-quickchart:hover {\n",
              "    background-color: var(--hover-bg-color);\n",
              "    box-shadow: 0 1px 2px rgba(60, 64, 67, 0.3), 0 1px 3px 1px rgba(60, 64, 67, 0.15);\n",
              "    fill: var(--button-hover-fill-color);\n",
              "  }\n",
              "\n",
              "  .colab-df-quickchart-complete:disabled,\n",
              "  .colab-df-quickchart-complete:disabled:hover {\n",
              "    background-color: var(--disabled-bg-color);\n",
              "    fill: var(--disabled-fill-color);\n",
              "    box-shadow: none;\n",
              "  }\n",
              "\n",
              "  .colab-df-spinner {\n",
              "    border: 2px solid var(--fill-color);\n",
              "    border-color: transparent;\n",
              "    border-bottom-color: var(--fill-color);\n",
              "    animation:\n",
              "      spin 1s steps(1) infinite;\n",
              "  }\n",
              "\n",
              "  @keyframes spin {\n",
              "    0% {\n",
              "      border-color: transparent;\n",
              "      border-bottom-color: var(--fill-color);\n",
              "      border-left-color: var(--fill-color);\n",
              "    }\n",
              "    20% {\n",
              "      border-color: transparent;\n",
              "      border-left-color: var(--fill-color);\n",
              "      border-top-color: var(--fill-color);\n",
              "    }\n",
              "    30% {\n",
              "      border-color: transparent;\n",
              "      border-left-color: var(--fill-color);\n",
              "      border-top-color: var(--fill-color);\n",
              "      border-right-color: var(--fill-color);\n",
              "    }\n",
              "    40% {\n",
              "      border-color: transparent;\n",
              "      border-right-color: var(--fill-color);\n",
              "      border-top-color: var(--fill-color);\n",
              "    }\n",
              "    60% {\n",
              "      border-color: transparent;\n",
              "      border-right-color: var(--fill-color);\n",
              "    }\n",
              "    80% {\n",
              "      border-color: transparent;\n",
              "      border-right-color: var(--fill-color);\n",
              "      border-bottom-color: var(--fill-color);\n",
              "    }\n",
              "    90% {\n",
              "      border-color: transparent;\n",
              "      border-bottom-color: var(--fill-color);\n",
              "    }\n",
              "  }\n",
              "</style>\n",
              "\n",
              "  <script>\n",
              "    async function quickchart(key) {\n",
              "      const quickchartButtonEl =\n",
              "        document.querySelector('#' + key + ' button');\n",
              "      quickchartButtonEl.disabled = true;  // To prevent multiple clicks.\n",
              "      quickchartButtonEl.classList.add('colab-df-spinner');\n",
              "      try {\n",
              "        const charts = await google.colab.kernel.invokeFunction(\n",
              "            'suggestCharts', [key], {});\n",
              "      } catch (error) {\n",
              "        console.error('Error during call to suggestCharts:', error);\n",
              "      }\n",
              "      quickchartButtonEl.classList.remove('colab-df-spinner');\n",
              "      quickchartButtonEl.classList.add('colab-df-quickchart-complete');\n",
              "    }\n",
              "    (() => {\n",
              "      let quickchartButtonEl =\n",
              "        document.querySelector('#df-71aa01e9-2cc6-4184-81bd-5dc612a2eac9 button');\n",
              "      quickchartButtonEl.style.display =\n",
              "        google.colab.kernel.accessAllowed ? 'block' : 'none';\n",
              "    })();\n",
              "  </script>\n",
              "</div>\n",
              "\n",
              "    </div>\n",
              "  </div>\n"
            ],
            "application/vnd.google.colaboratory.intrinsic+json": {
              "type": "dataframe",
              "variable_name": "df1",
              "summary": "{\n  \"name\": \"df1\",\n  \"rows\": 4562,\n  \"fields\": [\n    {\n      \"column\": \"Service Area\",\n      \"properties\": {\n        \"dtype\": \"category\",\n        \"num_unique_values\": 23,\n        \"samples\": [\n          \"Children's Family Services\",\n          \"CSG Managed Budget\",\n          \"Childrens Services\"\n        ],\n        \"semantic_type\": \"\",\n        \"description\": \"\"\n      }\n    },\n    {\n      \"column\": \"Account Description\",\n      \"properties\": {\n        \"dtype\": \"category\",\n        \"num_unique_values\": 38,\n        \"samples\": [\n          \"Venue Hire\",\n          \"E19 - Learning Resources\",\n          \"Equipment and Materials Purcha\"\n        ],\n        \"semantic_type\": \"\",\n        \"description\": \"\"\n      }\n    },\n    {\n      \"column\": \"Creditor\",\n      \"properties\": {\n        \"dtype\": \"category\",\n        \"num_unique_values\": 834,\n        \"samples\": [\n          \"HALFORDS 744\",\n          \"Uber BV\",\n          \"WWW.INSPIREMETOYS.C\"\n        ],\n        \"semantic_type\": \"\",\n        \"description\": \"\"\n      }\n    },\n    {\n      \"column\": \"Transaction Date\",\n      \"properties\": {\n        \"dtype\": \"object\",\n        \"num_unique_values\": 237,\n        \"samples\": [\n          \"11/09/2014\",\n          \"25/04/2014\",\n          \"21/01/2015\"\n        ],\n        \"semantic_type\": \"\",\n        \"description\": \"\"\n      }\n    },\n    {\n      \"column\": \"JV Reference\",\n      \"properties\": {\n        \"dtype\": \"number\",\n        \"std\": 1577,\n        \"min\": 1,\n        \"max\": 5272,\n        \"num_unique_values\": 4142,\n        \"samples\": [\n          3344,\n          2130,\n          1759\n        ],\n        \"semantic_type\": \"\",\n        \"description\": \"\"\n      }\n    },\n    {\n      \"column\": \"JV Date\",\n      \"properties\": {\n        \"dtype\": \"object\",\n        \"num_unique_values\": 11,\n        \"samples\": [\n          \"16/10/2014\",\n          \"20/05/2014\",\n          \"17/02/2015\"\n        ],\n        \"semantic_type\": \"\",\n        \"description\": \"\"\n      }\n    },\n    {\n      \"column\": \"JV Value\",\n      \"properties\": {\n        \"dtype\": \"string\",\n        \"num_unique_values\": 2356,\n        \"samples\": [\n          \"306.6\",\n          \"457.95\",\n          \"8.35\"\n        ],\n        \"semantic_type\": \"\",\n        \"description\": \"\"\n      }\n    }\n  ]\n}"
            }
          },
          "metadata": {},
          "execution_count": 199
        }
      ]
    },
    {
      "cell_type": "code",
      "source": [
        "df1.info()"
      ],
      "metadata": {
        "colab": {
          "base_uri": "https://localhost:8080/"
        },
        "id": "_C84secQoWea",
        "outputId": "3611017a-ee55-484e-9138-131780994bc0"
      },
      "execution_count": null,
      "outputs": [
        {
          "output_type": "stream",
          "name": "stdout",
          "text": [
            "<class 'pandas.core.frame.DataFrame'>\n",
            "RangeIndex: 4562 entries, 0 to 4561\n",
            "Data columns (total 7 columns):\n",
            " #   Column               Non-Null Count  Dtype \n",
            "---  ------               --------------  ----- \n",
            " 0   Service Area         4562 non-null   object\n",
            " 1   Account Description  4562 non-null   object\n",
            " 2   Creditor             4562 non-null   object\n",
            " 3   Transaction Date     4562 non-null   object\n",
            " 4   JV Reference         4562 non-null   int64 \n",
            " 5   JV Date              4562 non-null   object\n",
            " 6   JV Value             4562 non-null   object\n",
            "dtypes: int64(1), object(6)\n",
            "memory usage: 249.6+ KB\n"
          ]
        }
      ]
    },
    {
      "cell_type": "markdown",
      "source": [
        "**checked**"
      ],
      "metadata": {
        "id": "7HsgYRKFLDy5"
      }
    },
    {
      "cell_type": "code",
      "source": [
        "df1.shape"
      ],
      "metadata": {
        "colab": {
          "base_uri": "https://localhost:8080/"
        },
        "id": "_XM19JEsJhcY",
        "outputId": "b8bd3bb0-cd9d-45b5-c9e4-168b986b1ec5"
      },
      "execution_count": null,
      "outputs": [
        {
          "output_type": "execute_result",
          "data": {
            "text/plain": [
              "(4562, 7)"
            ]
          },
          "metadata": {},
          "execution_count": 201
        }
      ]
    },
    {
      "cell_type": "code",
      "source": [
        "df1.head()"
      ],
      "metadata": {
        "colab": {
          "base_uri": "https://localhost:8080/",
          "height": 206
        },
        "id": "zj2q4BSpNgdY",
        "outputId": "35ae6ec1-858f-4c04-d92e-698b0ddf69b6"
      },
      "execution_count": null,
      "outputs": [
        {
          "output_type": "execute_result",
          "data": {
            "text/plain": [
              "         Service Area             Account Description            Creditor  \\\n",
              "0  Childrens Services                     IT Services       123-REG.CO.UK   \n",
              "1  Childrens Services                  Other Services  ACCESS EXPEDITIONS   \n",
              "2  Childrens Services  Equipment and Materials Repair     AFE SERVICELINE   \n",
              "3  Childrens Services  Equipment and Materials Repair     AFE SERVICELINE   \n",
              "4  Childrens Services  Building Repairs & Maintenance    ALLSOP & FRANCIS   \n",
              "\n",
              "  Transaction Date  JV Reference     JV Date  JV Value  \n",
              "0       23/04/2014            93  20/05/2014    143.81  \n",
              "1       03/04/2014           111  20/05/2014  6,000.00  \n",
              "2       02/04/2014             6  20/05/2014    309.38  \n",
              "3       02/04/2014             7  20/05/2014    218.76  \n",
              "4       15/04/2014           381  20/05/2014       306  "
            ],
            "text/html": [
              "\n",
              "  <div id=\"df-22179abd-e292-471a-b3a4-1ae55353fe3c\" class=\"colab-df-container\">\n",
              "    <div>\n",
              "<style scoped>\n",
              "    .dataframe tbody tr th:only-of-type {\n",
              "        vertical-align: middle;\n",
              "    }\n",
              "\n",
              "    .dataframe tbody tr th {\n",
              "        vertical-align: top;\n",
              "    }\n",
              "\n",
              "    .dataframe thead th {\n",
              "        text-align: right;\n",
              "    }\n",
              "</style>\n",
              "<table border=\"1\" class=\"dataframe\">\n",
              "  <thead>\n",
              "    <tr style=\"text-align: right;\">\n",
              "      <th></th>\n",
              "      <th>Service Area</th>\n",
              "      <th>Account Description</th>\n",
              "      <th>Creditor</th>\n",
              "      <th>Transaction Date</th>\n",
              "      <th>JV Reference</th>\n",
              "      <th>JV Date</th>\n",
              "      <th>JV Value</th>\n",
              "    </tr>\n",
              "  </thead>\n",
              "  <tbody>\n",
              "    <tr>\n",
              "      <th>0</th>\n",
              "      <td>Childrens Services</td>\n",
              "      <td>IT Services</td>\n",
              "      <td>123-REG.CO.UK</td>\n",
              "      <td>23/04/2014</td>\n",
              "      <td>93</td>\n",
              "      <td>20/05/2014</td>\n",
              "      <td>143.81</td>\n",
              "    </tr>\n",
              "    <tr>\n",
              "      <th>1</th>\n",
              "      <td>Childrens Services</td>\n",
              "      <td>Other Services</td>\n",
              "      <td>ACCESS EXPEDITIONS</td>\n",
              "      <td>03/04/2014</td>\n",
              "      <td>111</td>\n",
              "      <td>20/05/2014</td>\n",
              "      <td>6,000.00</td>\n",
              "    </tr>\n",
              "    <tr>\n",
              "      <th>2</th>\n",
              "      <td>Childrens Services</td>\n",
              "      <td>Equipment and Materials Repair</td>\n",
              "      <td>AFE SERVICELINE</td>\n",
              "      <td>02/04/2014</td>\n",
              "      <td>6</td>\n",
              "      <td>20/05/2014</td>\n",
              "      <td>309.38</td>\n",
              "    </tr>\n",
              "    <tr>\n",
              "      <th>3</th>\n",
              "      <td>Childrens Services</td>\n",
              "      <td>Equipment and Materials Repair</td>\n",
              "      <td>AFE SERVICELINE</td>\n",
              "      <td>02/04/2014</td>\n",
              "      <td>7</td>\n",
              "      <td>20/05/2014</td>\n",
              "      <td>218.76</td>\n",
              "    </tr>\n",
              "    <tr>\n",
              "      <th>4</th>\n",
              "      <td>Childrens Services</td>\n",
              "      <td>Building Repairs &amp; Maintenance</td>\n",
              "      <td>ALLSOP &amp; FRANCIS</td>\n",
              "      <td>15/04/2014</td>\n",
              "      <td>381</td>\n",
              "      <td>20/05/2014</td>\n",
              "      <td>306</td>\n",
              "    </tr>\n",
              "  </tbody>\n",
              "</table>\n",
              "</div>\n",
              "    <div class=\"colab-df-buttons\">\n",
              "\n",
              "  <div class=\"colab-df-container\">\n",
              "    <button class=\"colab-df-convert\" onclick=\"convertToInteractive('df-22179abd-e292-471a-b3a4-1ae55353fe3c')\"\n",
              "            title=\"Convert this dataframe to an interactive table.\"\n",
              "            style=\"display:none;\">\n",
              "\n",
              "  <svg xmlns=\"http://www.w3.org/2000/svg\" height=\"24px\" viewBox=\"0 -960 960 960\">\n",
              "    <path d=\"M120-120v-720h720v720H120Zm60-500h600v-160H180v160Zm220 220h160v-160H400v160Zm0 220h160v-160H400v160ZM180-400h160v-160H180v160Zm440 0h160v-160H620v160ZM180-180h160v-160H180v160Zm440 0h160v-160H620v160Z\"/>\n",
              "  </svg>\n",
              "    </button>\n",
              "\n",
              "  <style>\n",
              "    .colab-df-container {\n",
              "      display:flex;\n",
              "      gap: 12px;\n",
              "    }\n",
              "\n",
              "    .colab-df-convert {\n",
              "      background-color: #E8F0FE;\n",
              "      border: none;\n",
              "      border-radius: 50%;\n",
              "      cursor: pointer;\n",
              "      display: none;\n",
              "      fill: #1967D2;\n",
              "      height: 32px;\n",
              "      padding: 0 0 0 0;\n",
              "      width: 32px;\n",
              "    }\n",
              "\n",
              "    .colab-df-convert:hover {\n",
              "      background-color: #E2EBFA;\n",
              "      box-shadow: 0px 1px 2px rgba(60, 64, 67, 0.3), 0px 1px 3px 1px rgba(60, 64, 67, 0.15);\n",
              "      fill: #174EA6;\n",
              "    }\n",
              "\n",
              "    .colab-df-buttons div {\n",
              "      margin-bottom: 4px;\n",
              "    }\n",
              "\n",
              "    [theme=dark] .colab-df-convert {\n",
              "      background-color: #3B4455;\n",
              "      fill: #D2E3FC;\n",
              "    }\n",
              "\n",
              "    [theme=dark] .colab-df-convert:hover {\n",
              "      background-color: #434B5C;\n",
              "      box-shadow: 0px 1px 3px 1px rgba(0, 0, 0, 0.15);\n",
              "      filter: drop-shadow(0px 1px 2px rgba(0, 0, 0, 0.3));\n",
              "      fill: #FFFFFF;\n",
              "    }\n",
              "  </style>\n",
              "\n",
              "    <script>\n",
              "      const buttonEl =\n",
              "        document.querySelector('#df-22179abd-e292-471a-b3a4-1ae55353fe3c button.colab-df-convert');\n",
              "      buttonEl.style.display =\n",
              "        google.colab.kernel.accessAllowed ? 'block' : 'none';\n",
              "\n",
              "      async function convertToInteractive(key) {\n",
              "        const element = document.querySelector('#df-22179abd-e292-471a-b3a4-1ae55353fe3c');\n",
              "        const dataTable =\n",
              "          await google.colab.kernel.invokeFunction('convertToInteractive',\n",
              "                                                    [key], {});\n",
              "        if (!dataTable) return;\n",
              "\n",
              "        const docLinkHtml = 'Like what you see? Visit the ' +\n",
              "          '<a target=\"_blank\" href=https://colab.research.google.com/notebooks/data_table.ipynb>data table notebook</a>'\n",
              "          + ' to learn more about interactive tables.';\n",
              "        element.innerHTML = '';\n",
              "        dataTable['output_type'] = 'display_data';\n",
              "        await google.colab.output.renderOutput(dataTable, element);\n",
              "        const docLink = document.createElement('div');\n",
              "        docLink.innerHTML = docLinkHtml;\n",
              "        element.appendChild(docLink);\n",
              "      }\n",
              "    </script>\n",
              "  </div>\n",
              "\n",
              "\n",
              "<div id=\"df-f11a93cd-051c-4bce-a8ac-f454dcf514fa\">\n",
              "  <button class=\"colab-df-quickchart\" onclick=\"quickchart('df-f11a93cd-051c-4bce-a8ac-f454dcf514fa')\"\n",
              "            title=\"Suggest charts\"\n",
              "            style=\"display:none;\">\n",
              "\n",
              "<svg xmlns=\"http://www.w3.org/2000/svg\" height=\"24px\"viewBox=\"0 0 24 24\"\n",
              "     width=\"24px\">\n",
              "    <g>\n",
              "        <path d=\"M19 3H5c-1.1 0-2 .9-2 2v14c0 1.1.9 2 2 2h14c1.1 0 2-.9 2-2V5c0-1.1-.9-2-2-2zM9 17H7v-7h2v7zm4 0h-2V7h2v10zm4 0h-2v-4h2v4z\"/>\n",
              "    </g>\n",
              "</svg>\n",
              "  </button>\n",
              "\n",
              "<style>\n",
              "  .colab-df-quickchart {\n",
              "      --bg-color: #E8F0FE;\n",
              "      --fill-color: #1967D2;\n",
              "      --hover-bg-color: #E2EBFA;\n",
              "      --hover-fill-color: #174EA6;\n",
              "      --disabled-fill-color: #AAA;\n",
              "      --disabled-bg-color: #DDD;\n",
              "  }\n",
              "\n",
              "  [theme=dark] .colab-df-quickchart {\n",
              "      --bg-color: #3B4455;\n",
              "      --fill-color: #D2E3FC;\n",
              "      --hover-bg-color: #434B5C;\n",
              "      --hover-fill-color: #FFFFFF;\n",
              "      --disabled-bg-color: #3B4455;\n",
              "      --disabled-fill-color: #666;\n",
              "  }\n",
              "\n",
              "  .colab-df-quickchart {\n",
              "    background-color: var(--bg-color);\n",
              "    border: none;\n",
              "    border-radius: 50%;\n",
              "    cursor: pointer;\n",
              "    display: none;\n",
              "    fill: var(--fill-color);\n",
              "    height: 32px;\n",
              "    padding: 0;\n",
              "    width: 32px;\n",
              "  }\n",
              "\n",
              "  .colab-df-quickchart:hover {\n",
              "    background-color: var(--hover-bg-color);\n",
              "    box-shadow: 0 1px 2px rgba(60, 64, 67, 0.3), 0 1px 3px 1px rgba(60, 64, 67, 0.15);\n",
              "    fill: var(--button-hover-fill-color);\n",
              "  }\n",
              "\n",
              "  .colab-df-quickchart-complete:disabled,\n",
              "  .colab-df-quickchart-complete:disabled:hover {\n",
              "    background-color: var(--disabled-bg-color);\n",
              "    fill: var(--disabled-fill-color);\n",
              "    box-shadow: none;\n",
              "  }\n",
              "\n",
              "  .colab-df-spinner {\n",
              "    border: 2px solid var(--fill-color);\n",
              "    border-color: transparent;\n",
              "    border-bottom-color: var(--fill-color);\n",
              "    animation:\n",
              "      spin 1s steps(1) infinite;\n",
              "  }\n",
              "\n",
              "  @keyframes spin {\n",
              "    0% {\n",
              "      border-color: transparent;\n",
              "      border-bottom-color: var(--fill-color);\n",
              "      border-left-color: var(--fill-color);\n",
              "    }\n",
              "    20% {\n",
              "      border-color: transparent;\n",
              "      border-left-color: var(--fill-color);\n",
              "      border-top-color: var(--fill-color);\n",
              "    }\n",
              "    30% {\n",
              "      border-color: transparent;\n",
              "      border-left-color: var(--fill-color);\n",
              "      border-top-color: var(--fill-color);\n",
              "      border-right-color: var(--fill-color);\n",
              "    }\n",
              "    40% {\n",
              "      border-color: transparent;\n",
              "      border-right-color: var(--fill-color);\n",
              "      border-top-color: var(--fill-color);\n",
              "    }\n",
              "    60% {\n",
              "      border-color: transparent;\n",
              "      border-right-color: var(--fill-color);\n",
              "    }\n",
              "    80% {\n",
              "      border-color: transparent;\n",
              "      border-right-color: var(--fill-color);\n",
              "      border-bottom-color: var(--fill-color);\n",
              "    }\n",
              "    90% {\n",
              "      border-color: transparent;\n",
              "      border-bottom-color: var(--fill-color);\n",
              "    }\n",
              "  }\n",
              "</style>\n",
              "\n",
              "  <script>\n",
              "    async function quickchart(key) {\n",
              "      const quickchartButtonEl =\n",
              "        document.querySelector('#' + key + ' button');\n",
              "      quickchartButtonEl.disabled = true;  // To prevent multiple clicks.\n",
              "      quickchartButtonEl.classList.add('colab-df-spinner');\n",
              "      try {\n",
              "        const charts = await google.colab.kernel.invokeFunction(\n",
              "            'suggestCharts', [key], {});\n",
              "      } catch (error) {\n",
              "        console.error('Error during call to suggestCharts:', error);\n",
              "      }\n",
              "      quickchartButtonEl.classList.remove('colab-df-spinner');\n",
              "      quickchartButtonEl.classList.add('colab-df-quickchart-complete');\n",
              "    }\n",
              "    (() => {\n",
              "      let quickchartButtonEl =\n",
              "        document.querySelector('#df-f11a93cd-051c-4bce-a8ac-f454dcf514fa button');\n",
              "      quickchartButtonEl.style.display =\n",
              "        google.colab.kernel.accessAllowed ? 'block' : 'none';\n",
              "    })();\n",
              "  </script>\n",
              "</div>\n",
              "\n",
              "    </div>\n",
              "  </div>\n"
            ],
            "application/vnd.google.colaboratory.intrinsic+json": {
              "type": "dataframe",
              "variable_name": "df1",
              "summary": "{\n  \"name\": \"df1\",\n  \"rows\": 4562,\n  \"fields\": [\n    {\n      \"column\": \"Service Area\",\n      \"properties\": {\n        \"dtype\": \"category\",\n        \"num_unique_values\": 23,\n        \"samples\": [\n          \"Children's Family Services\",\n          \"CSG Managed Budget\",\n          \"Childrens Services\"\n        ],\n        \"semantic_type\": \"\",\n        \"description\": \"\"\n      }\n    },\n    {\n      \"column\": \"Account Description\",\n      \"properties\": {\n        \"dtype\": \"category\",\n        \"num_unique_values\": 38,\n        \"samples\": [\n          \"Venue Hire\",\n          \"E19 - Learning Resources\",\n          \"Equipment and Materials Purcha\"\n        ],\n        \"semantic_type\": \"\",\n        \"description\": \"\"\n      }\n    },\n    {\n      \"column\": \"Creditor\",\n      \"properties\": {\n        \"dtype\": \"category\",\n        \"num_unique_values\": 834,\n        \"samples\": [\n          \"HALFORDS 744\",\n          \"Uber BV\",\n          \"WWW.INSPIREMETOYS.C\"\n        ],\n        \"semantic_type\": \"\",\n        \"description\": \"\"\n      }\n    },\n    {\n      \"column\": \"Transaction Date\",\n      \"properties\": {\n        \"dtype\": \"object\",\n        \"num_unique_values\": 237,\n        \"samples\": [\n          \"11/09/2014\",\n          \"25/04/2014\",\n          \"21/01/2015\"\n        ],\n        \"semantic_type\": \"\",\n        \"description\": \"\"\n      }\n    },\n    {\n      \"column\": \"JV Reference\",\n      \"properties\": {\n        \"dtype\": \"number\",\n        \"std\": 1577,\n        \"min\": 1,\n        \"max\": 5272,\n        \"num_unique_values\": 4142,\n        \"samples\": [\n          3344,\n          2130,\n          1759\n        ],\n        \"semantic_type\": \"\",\n        \"description\": \"\"\n      }\n    },\n    {\n      \"column\": \"JV Date\",\n      \"properties\": {\n        \"dtype\": \"object\",\n        \"num_unique_values\": 11,\n        \"samples\": [\n          \"16/10/2014\",\n          \"20/05/2014\",\n          \"17/02/2015\"\n        ],\n        \"semantic_type\": \"\",\n        \"description\": \"\"\n      }\n    },\n    {\n      \"column\": \"JV Value\",\n      \"properties\": {\n        \"dtype\": \"string\",\n        \"num_unique_values\": 2356,\n        \"samples\": [\n          \"306.6\",\n          \"457.95\",\n          \"8.35\"\n        ],\n        \"semantic_type\": \"\",\n        \"description\": \"\"\n      }\n    }\n  ]\n}"
            }
          },
          "metadata": {},
          "execution_count": 202
        }
      ]
    },
    {
      "cell_type": "code",
      "source": [
        "df1['Transaction Date'] = df1['Transaction Date'].astype(str)\n",
        "df1['Transaction Date'] = pd.to_datetime(df1['Transaction Date'], format=\"%d/%m/%Y\", dayfirst=True, errors='coerce')"
      ],
      "metadata": {
        "id": "Mu4WB76JTj5q"
      },
      "execution_count": null,
      "outputs": []
    },
    {
      "cell_type": "code",
      "source": [
        "df1['JV Value'] = df1['JV Value'].replace({',': ''}, regex=True).astype(float)"
      ],
      "metadata": {
        "id": "lWR-nT22UNOp"
      },
      "execution_count": null,
      "outputs": []
    },
    {
      "cell_type": "code",
      "source": [
        "df1.info()"
      ],
      "metadata": {
        "colab": {
          "base_uri": "https://localhost:8080/"
        },
        "id": "YNcFGHfbYryq",
        "outputId": "fe110ddf-5c0b-4910-99ef-7a927cb9c82e"
      },
      "execution_count": null,
      "outputs": [
        {
          "output_type": "stream",
          "name": "stdout",
          "text": [
            "<class 'pandas.core.frame.DataFrame'>\n",
            "RangeIndex: 4562 entries, 0 to 4561\n",
            "Data columns (total 7 columns):\n",
            " #   Column               Non-Null Count  Dtype         \n",
            "---  ------               --------------  -----         \n",
            " 0   Service Area         4562 non-null   object        \n",
            " 1   Account Description  4562 non-null   object        \n",
            " 2   Creditor             4562 non-null   object        \n",
            " 3   Transaction Date     4562 non-null   datetime64[ns]\n",
            " 4   JV Reference         4562 non-null   int64         \n",
            " 5   JV Date              4562 non-null   object        \n",
            " 6   JV Value             4562 non-null   float64       \n",
            "dtypes: datetime64[ns](1), float64(1), int64(1), object(4)\n",
            "memory usage: 249.6+ KB\n"
          ]
        }
      ]
    },
    {
      "cell_type": "code",
      "source": [
        "df2=pd.read_csv(\"PCard Transactions 15-16.csv\")"
      ],
      "metadata": {
        "id": "NOi3Cv-5npqd"
      },
      "execution_count": null,
      "outputs": []
    },
    {
      "cell_type": "code",
      "source": [
        "df2.info()"
      ],
      "metadata": {
        "colab": {
          "base_uri": "https://localhost:8080/"
        },
        "id": "btp3pHI2opQi",
        "outputId": "156b1fe8-447b-445b-f24d-8815b249a6fe"
      },
      "execution_count": null,
      "outputs": [
        {
          "output_type": "stream",
          "name": "stdout",
          "text": [
            "<class 'pandas.core.frame.DataFrame'>\n",
            "RangeIndex: 3864 entries, 0 to 3863\n",
            "Data columns (total 6 columns):\n",
            " #   Column               Non-Null Count  Dtype \n",
            "---  ------               --------------  ----- \n",
            " 0   Service Area         3864 non-null   object\n",
            " 1   Account Description  3864 non-null   object\n",
            " 2   Creditor             3864 non-null   object\n",
            " 3   Journal Date         3864 non-null   object\n",
            " 4   Journal Reference    3864 non-null   int64 \n",
            " 5   Total                3864 non-null   object\n",
            "dtypes: int64(1), object(5)\n",
            "memory usage: 181.2+ KB\n"
          ]
        }
      ]
    },
    {
      "cell_type": "code",
      "source": [
        "df2.shape"
      ],
      "metadata": {
        "colab": {
          "base_uri": "https://localhost:8080/"
        },
        "id": "7U1j_3-rKgSq",
        "outputId": "0fd6e1d3-7dc9-4697-c291-8bbde5490a53"
      },
      "execution_count": null,
      "outputs": [
        {
          "output_type": "execute_result",
          "data": {
            "text/plain": [
              "(3864, 6)"
            ]
          },
          "metadata": {},
          "execution_count": 208
        }
      ]
    },
    {
      "cell_type": "code",
      "source": [
        "df2['Journal Date'] = df2['Journal Date'].astype(str)\n",
        "df2['Journal Date'] = pd.to_datetime(df2['Journal Date'], format=\"%d/%m/%Y\", dayfirst=True, errors='coerce')"
      ],
      "metadata": {
        "id": "ktKSElazSnFH"
      },
      "execution_count": null,
      "outputs": []
    },
    {
      "cell_type": "code",
      "source": [
        "df2['Total'] = df2['Total'].replace({',': ''}, regex=True).astype(float)"
      ],
      "metadata": {
        "id": "yrDWbe5PWiWD"
      },
      "execution_count": null,
      "outputs": []
    },
    {
      "cell_type": "code",
      "source": [
        "df2.info()"
      ],
      "metadata": {
        "colab": {
          "base_uri": "https://localhost:8080/"
        },
        "id": "zHXt9we9WwU6",
        "outputId": "edea7255-165d-43cd-9259-3eab85f01161"
      },
      "execution_count": null,
      "outputs": [
        {
          "output_type": "stream",
          "name": "stdout",
          "text": [
            "<class 'pandas.core.frame.DataFrame'>\n",
            "RangeIndex: 3864 entries, 0 to 3863\n",
            "Data columns (total 6 columns):\n",
            " #   Column               Non-Null Count  Dtype         \n",
            "---  ------               --------------  -----         \n",
            " 0   Service Area         3864 non-null   object        \n",
            " 1   Account Description  3864 non-null   object        \n",
            " 2   Creditor             3864 non-null   object        \n",
            " 3   Journal Date         3864 non-null   datetime64[ns]\n",
            " 4   Journal Reference    3864 non-null   int64         \n",
            " 5   Total                3864 non-null   float64       \n",
            "dtypes: datetime64[ns](1), float64(1), int64(1), object(3)\n",
            "memory usage: 181.2+ KB\n"
          ]
        }
      ]
    },
    {
      "cell_type": "code",
      "source": [
        "df2.tail(5)"
      ],
      "metadata": {
        "colab": {
          "base_uri": "https://localhost:8080/",
          "height": 206
        },
        "id": "MyUGAVVFvci2",
        "outputId": "23555be1-7144-4853-e45a-089297b918b3"
      },
      "execution_count": null,
      "outputs": [
        {
          "output_type": "execute_result",
          "data": {
            "text/plain": [
              "                    Service Area Account Description         Creditor  \\\n",
              "3859  Children's Family Services          Food Costs  ZAHRA NEWSAGENT   \n",
              "3860  Children's Family Services          Food Costs  ZAHRA NEWSAGENT   \n",
              "3861  Children's Family Services          Food Costs  ZAHRA NEWSAGENT   \n",
              "3862  Children's Family Services          Food Costs  ZAHRA NEWSAGENT   \n",
              "3863  Children's Family Services          Food Costs  ZAHRA NEWSAGENT   \n",
              "\n",
              "     Journal Date  Journal Reference  Total  \n",
              "3859   2015-12-16               6418    3.5  \n",
              "3860   2015-11-17               6042    3.5  \n",
              "3861   2016-01-20               6751    4.5  \n",
              "3862   2016-03-21               7535    4.5  \n",
              "3863   2016-03-31               7639    4.5  "
            ],
            "text/html": [
              "\n",
              "  <div id=\"df-c7b83ea8-3da8-4f1c-8e45-abba5bb00a78\" class=\"colab-df-container\">\n",
              "    <div>\n",
              "<style scoped>\n",
              "    .dataframe tbody tr th:only-of-type {\n",
              "        vertical-align: middle;\n",
              "    }\n",
              "\n",
              "    .dataframe tbody tr th {\n",
              "        vertical-align: top;\n",
              "    }\n",
              "\n",
              "    .dataframe thead th {\n",
              "        text-align: right;\n",
              "    }\n",
              "</style>\n",
              "<table border=\"1\" class=\"dataframe\">\n",
              "  <thead>\n",
              "    <tr style=\"text-align: right;\">\n",
              "      <th></th>\n",
              "      <th>Service Area</th>\n",
              "      <th>Account Description</th>\n",
              "      <th>Creditor</th>\n",
              "      <th>Journal Date</th>\n",
              "      <th>Journal Reference</th>\n",
              "      <th>Total</th>\n",
              "    </tr>\n",
              "  </thead>\n",
              "  <tbody>\n",
              "    <tr>\n",
              "      <th>3859</th>\n",
              "      <td>Children's Family Services</td>\n",
              "      <td>Food Costs</td>\n",
              "      <td>ZAHRA NEWSAGENT</td>\n",
              "      <td>2015-12-16</td>\n",
              "      <td>6418</td>\n",
              "      <td>3.5</td>\n",
              "    </tr>\n",
              "    <tr>\n",
              "      <th>3860</th>\n",
              "      <td>Children's Family Services</td>\n",
              "      <td>Food Costs</td>\n",
              "      <td>ZAHRA NEWSAGENT</td>\n",
              "      <td>2015-11-17</td>\n",
              "      <td>6042</td>\n",
              "      <td>3.5</td>\n",
              "    </tr>\n",
              "    <tr>\n",
              "      <th>3861</th>\n",
              "      <td>Children's Family Services</td>\n",
              "      <td>Food Costs</td>\n",
              "      <td>ZAHRA NEWSAGENT</td>\n",
              "      <td>2016-01-20</td>\n",
              "      <td>6751</td>\n",
              "      <td>4.5</td>\n",
              "    </tr>\n",
              "    <tr>\n",
              "      <th>3862</th>\n",
              "      <td>Children's Family Services</td>\n",
              "      <td>Food Costs</td>\n",
              "      <td>ZAHRA NEWSAGENT</td>\n",
              "      <td>2016-03-21</td>\n",
              "      <td>7535</td>\n",
              "      <td>4.5</td>\n",
              "    </tr>\n",
              "    <tr>\n",
              "      <th>3863</th>\n",
              "      <td>Children's Family Services</td>\n",
              "      <td>Food Costs</td>\n",
              "      <td>ZAHRA NEWSAGENT</td>\n",
              "      <td>2016-03-31</td>\n",
              "      <td>7639</td>\n",
              "      <td>4.5</td>\n",
              "    </tr>\n",
              "  </tbody>\n",
              "</table>\n",
              "</div>\n",
              "    <div class=\"colab-df-buttons\">\n",
              "\n",
              "  <div class=\"colab-df-container\">\n",
              "    <button class=\"colab-df-convert\" onclick=\"convertToInteractive('df-c7b83ea8-3da8-4f1c-8e45-abba5bb00a78')\"\n",
              "            title=\"Convert this dataframe to an interactive table.\"\n",
              "            style=\"display:none;\">\n",
              "\n",
              "  <svg xmlns=\"http://www.w3.org/2000/svg\" height=\"24px\" viewBox=\"0 -960 960 960\">\n",
              "    <path d=\"M120-120v-720h720v720H120Zm60-500h600v-160H180v160Zm220 220h160v-160H400v160Zm0 220h160v-160H400v160ZM180-400h160v-160H180v160Zm440 0h160v-160H620v160ZM180-180h160v-160H180v160Zm440 0h160v-160H620v160Z\"/>\n",
              "  </svg>\n",
              "    </button>\n",
              "\n",
              "  <style>\n",
              "    .colab-df-container {\n",
              "      display:flex;\n",
              "      gap: 12px;\n",
              "    }\n",
              "\n",
              "    .colab-df-convert {\n",
              "      background-color: #E8F0FE;\n",
              "      border: none;\n",
              "      border-radius: 50%;\n",
              "      cursor: pointer;\n",
              "      display: none;\n",
              "      fill: #1967D2;\n",
              "      height: 32px;\n",
              "      padding: 0 0 0 0;\n",
              "      width: 32px;\n",
              "    }\n",
              "\n",
              "    .colab-df-convert:hover {\n",
              "      background-color: #E2EBFA;\n",
              "      box-shadow: 0px 1px 2px rgba(60, 64, 67, 0.3), 0px 1px 3px 1px rgba(60, 64, 67, 0.15);\n",
              "      fill: #174EA6;\n",
              "    }\n",
              "\n",
              "    .colab-df-buttons div {\n",
              "      margin-bottom: 4px;\n",
              "    }\n",
              "\n",
              "    [theme=dark] .colab-df-convert {\n",
              "      background-color: #3B4455;\n",
              "      fill: #D2E3FC;\n",
              "    }\n",
              "\n",
              "    [theme=dark] .colab-df-convert:hover {\n",
              "      background-color: #434B5C;\n",
              "      box-shadow: 0px 1px 3px 1px rgba(0, 0, 0, 0.15);\n",
              "      filter: drop-shadow(0px 1px 2px rgba(0, 0, 0, 0.3));\n",
              "      fill: #FFFFFF;\n",
              "    }\n",
              "  </style>\n",
              "\n",
              "    <script>\n",
              "      const buttonEl =\n",
              "        document.querySelector('#df-c7b83ea8-3da8-4f1c-8e45-abba5bb00a78 button.colab-df-convert');\n",
              "      buttonEl.style.display =\n",
              "        google.colab.kernel.accessAllowed ? 'block' : 'none';\n",
              "\n",
              "      async function convertToInteractive(key) {\n",
              "        const element = document.querySelector('#df-c7b83ea8-3da8-4f1c-8e45-abba5bb00a78');\n",
              "        const dataTable =\n",
              "          await google.colab.kernel.invokeFunction('convertToInteractive',\n",
              "                                                    [key], {});\n",
              "        if (!dataTable) return;\n",
              "\n",
              "        const docLinkHtml = 'Like what you see? Visit the ' +\n",
              "          '<a target=\"_blank\" href=https://colab.research.google.com/notebooks/data_table.ipynb>data table notebook</a>'\n",
              "          + ' to learn more about interactive tables.';\n",
              "        element.innerHTML = '';\n",
              "        dataTable['output_type'] = 'display_data';\n",
              "        await google.colab.output.renderOutput(dataTable, element);\n",
              "        const docLink = document.createElement('div');\n",
              "        docLink.innerHTML = docLinkHtml;\n",
              "        element.appendChild(docLink);\n",
              "      }\n",
              "    </script>\n",
              "  </div>\n",
              "\n",
              "\n",
              "<div id=\"df-2b0fc228-1380-45ef-b219-913384f45d2c\">\n",
              "  <button class=\"colab-df-quickchart\" onclick=\"quickchart('df-2b0fc228-1380-45ef-b219-913384f45d2c')\"\n",
              "            title=\"Suggest charts\"\n",
              "            style=\"display:none;\">\n",
              "\n",
              "<svg xmlns=\"http://www.w3.org/2000/svg\" height=\"24px\"viewBox=\"0 0 24 24\"\n",
              "     width=\"24px\">\n",
              "    <g>\n",
              "        <path d=\"M19 3H5c-1.1 0-2 .9-2 2v14c0 1.1.9 2 2 2h14c1.1 0 2-.9 2-2V5c0-1.1-.9-2-2-2zM9 17H7v-7h2v7zm4 0h-2V7h2v10zm4 0h-2v-4h2v4z\"/>\n",
              "    </g>\n",
              "</svg>\n",
              "  </button>\n",
              "\n",
              "<style>\n",
              "  .colab-df-quickchart {\n",
              "      --bg-color: #E8F0FE;\n",
              "      --fill-color: #1967D2;\n",
              "      --hover-bg-color: #E2EBFA;\n",
              "      --hover-fill-color: #174EA6;\n",
              "      --disabled-fill-color: #AAA;\n",
              "      --disabled-bg-color: #DDD;\n",
              "  }\n",
              "\n",
              "  [theme=dark] .colab-df-quickchart {\n",
              "      --bg-color: #3B4455;\n",
              "      --fill-color: #D2E3FC;\n",
              "      --hover-bg-color: #434B5C;\n",
              "      --hover-fill-color: #FFFFFF;\n",
              "      --disabled-bg-color: #3B4455;\n",
              "      --disabled-fill-color: #666;\n",
              "  }\n",
              "\n",
              "  .colab-df-quickchart {\n",
              "    background-color: var(--bg-color);\n",
              "    border: none;\n",
              "    border-radius: 50%;\n",
              "    cursor: pointer;\n",
              "    display: none;\n",
              "    fill: var(--fill-color);\n",
              "    height: 32px;\n",
              "    padding: 0;\n",
              "    width: 32px;\n",
              "  }\n",
              "\n",
              "  .colab-df-quickchart:hover {\n",
              "    background-color: var(--hover-bg-color);\n",
              "    box-shadow: 0 1px 2px rgba(60, 64, 67, 0.3), 0 1px 3px 1px rgba(60, 64, 67, 0.15);\n",
              "    fill: var(--button-hover-fill-color);\n",
              "  }\n",
              "\n",
              "  .colab-df-quickchart-complete:disabled,\n",
              "  .colab-df-quickchart-complete:disabled:hover {\n",
              "    background-color: var(--disabled-bg-color);\n",
              "    fill: var(--disabled-fill-color);\n",
              "    box-shadow: none;\n",
              "  }\n",
              "\n",
              "  .colab-df-spinner {\n",
              "    border: 2px solid var(--fill-color);\n",
              "    border-color: transparent;\n",
              "    border-bottom-color: var(--fill-color);\n",
              "    animation:\n",
              "      spin 1s steps(1) infinite;\n",
              "  }\n",
              "\n",
              "  @keyframes spin {\n",
              "    0% {\n",
              "      border-color: transparent;\n",
              "      border-bottom-color: var(--fill-color);\n",
              "      border-left-color: var(--fill-color);\n",
              "    }\n",
              "    20% {\n",
              "      border-color: transparent;\n",
              "      border-left-color: var(--fill-color);\n",
              "      border-top-color: var(--fill-color);\n",
              "    }\n",
              "    30% {\n",
              "      border-color: transparent;\n",
              "      border-left-color: var(--fill-color);\n",
              "      border-top-color: var(--fill-color);\n",
              "      border-right-color: var(--fill-color);\n",
              "    }\n",
              "    40% {\n",
              "      border-color: transparent;\n",
              "      border-right-color: var(--fill-color);\n",
              "      border-top-color: var(--fill-color);\n",
              "    }\n",
              "    60% {\n",
              "      border-color: transparent;\n",
              "      border-right-color: var(--fill-color);\n",
              "    }\n",
              "    80% {\n",
              "      border-color: transparent;\n",
              "      border-right-color: var(--fill-color);\n",
              "      border-bottom-color: var(--fill-color);\n",
              "    }\n",
              "    90% {\n",
              "      border-color: transparent;\n",
              "      border-bottom-color: var(--fill-color);\n",
              "    }\n",
              "  }\n",
              "</style>\n",
              "\n",
              "  <script>\n",
              "    async function quickchart(key) {\n",
              "      const quickchartButtonEl =\n",
              "        document.querySelector('#' + key + ' button');\n",
              "      quickchartButtonEl.disabled = true;  // To prevent multiple clicks.\n",
              "      quickchartButtonEl.classList.add('colab-df-spinner');\n",
              "      try {\n",
              "        const charts = await google.colab.kernel.invokeFunction(\n",
              "            'suggestCharts', [key], {});\n",
              "      } catch (error) {\n",
              "        console.error('Error during call to suggestCharts:', error);\n",
              "      }\n",
              "      quickchartButtonEl.classList.remove('colab-df-spinner');\n",
              "      quickchartButtonEl.classList.add('colab-df-quickchart-complete');\n",
              "    }\n",
              "    (() => {\n",
              "      let quickchartButtonEl =\n",
              "        document.querySelector('#df-2b0fc228-1380-45ef-b219-913384f45d2c button');\n",
              "      quickchartButtonEl.style.display =\n",
              "        google.colab.kernel.accessAllowed ? 'block' : 'none';\n",
              "    })();\n",
              "  </script>\n",
              "</div>\n",
              "\n",
              "    </div>\n",
              "  </div>\n"
            ],
            "application/vnd.google.colaboratory.intrinsic+json": {
              "type": "dataframe",
              "summary": "{\n  \"name\": \"df2\",\n  \"rows\": 5,\n  \"fields\": [\n    {\n      \"column\": \"Service Area\",\n      \"properties\": {\n        \"dtype\": \"category\",\n        \"num_unique_values\": 1,\n        \"samples\": [\n          \"Children's Family Services\"\n        ],\n        \"semantic_type\": \"\",\n        \"description\": \"\"\n      }\n    },\n    {\n      \"column\": \"Account Description\",\n      \"properties\": {\n        \"dtype\": \"category\",\n        \"num_unique_values\": 1,\n        \"samples\": [\n          \"Food Costs\"\n        ],\n        \"semantic_type\": \"\",\n        \"description\": \"\"\n      }\n    },\n    {\n      \"column\": \"Creditor\",\n      \"properties\": {\n        \"dtype\": \"category\",\n        \"num_unique_values\": 1,\n        \"samples\": [\n          \"ZAHRA NEWSAGENT\"\n        ],\n        \"semantic_type\": \"\",\n        \"description\": \"\"\n      }\n    },\n    {\n      \"column\": \"Journal Date\",\n      \"properties\": {\n        \"dtype\": \"date\",\n        \"min\": \"2015-11-17 00:00:00\",\n        \"max\": \"2016-03-31 00:00:00\",\n        \"num_unique_values\": 5,\n        \"samples\": [\n          \"2015-11-17 00:00:00\"\n        ],\n        \"semantic_type\": \"\",\n        \"description\": \"\"\n      }\n    },\n    {\n      \"column\": \"Journal Reference\",\n      \"properties\": {\n        \"dtype\": \"number\",\n        \"std\": 695,\n        \"min\": 6042,\n        \"max\": 7639,\n        \"num_unique_values\": 5,\n        \"samples\": [\n          6042\n        ],\n        \"semantic_type\": \"\",\n        \"description\": \"\"\n      }\n    },\n    {\n      \"column\": \"Total\",\n      \"properties\": {\n        \"dtype\": \"number\",\n        \"std\": 0.5477225575051662,\n        \"min\": 3.5,\n        \"max\": 4.5,\n        \"num_unique_values\": 2,\n        \"samples\": [\n          4.5\n        ],\n        \"semantic_type\": \"\",\n        \"description\": \"\"\n      }\n    }\n  ]\n}"
            }
          },
          "metadata": {},
          "execution_count": 212
        }
      ]
    },
    {
      "cell_type": "code",
      "source": [
        "df3=pd.read_csv(\"PCard 16-17-1.csv\")"
      ],
      "metadata": {
        "id": "MmgknB7tmrCE"
      },
      "execution_count": null,
      "outputs": []
    },
    {
      "cell_type": "code",
      "source": [
        "df3.head(5)"
      ],
      "metadata": {
        "colab": {
          "base_uri": "https://localhost:8080/",
          "height": 206
        },
        "id": "MsT7oIg4m8xa",
        "outputId": "d8000b63-4c18-46e1-ea6c-c9adc494be16"
      },
      "execution_count": null,
      "outputs": [
        {
          "output_type": "execute_result",
          "data": {
            "text/plain": [
              "  Service Area     Account Description          Creditor Journal Date  \\\n",
              "0    Assurance     Travelling Expenses  TICKETOFFICESALE     4/3/2016   \n",
              "1    Assurance     Travelling Expenses  SELFSERVE TICKET     7/3/2016   \n",
              "2    Assurance  Miscellaneous Expenses     BIRMINGHAM CC   22/04/2016   \n",
              "3    Assurance  Miscellaneous Expenses     BIRMINGHAM CC   25/04/2016   \n",
              "4    Assurance  Miscellaneous Expenses         D H C LTD     8/6/2016   \n",
              "\n",
              "   Journal Reference   Total  \n",
              "0               7331   29.10  \n",
              "1               7342   10.00  \n",
              "2               7871   69.00  \n",
              "3               7891   13.00  \n",
              "4               8320  170.85  "
            ],
            "text/html": [
              "\n",
              "  <div id=\"df-8b084a13-d534-46db-b48f-e170171b4e72\" class=\"colab-df-container\">\n",
              "    <div>\n",
              "<style scoped>\n",
              "    .dataframe tbody tr th:only-of-type {\n",
              "        vertical-align: middle;\n",
              "    }\n",
              "\n",
              "    .dataframe tbody tr th {\n",
              "        vertical-align: top;\n",
              "    }\n",
              "\n",
              "    .dataframe thead th {\n",
              "        text-align: right;\n",
              "    }\n",
              "</style>\n",
              "<table border=\"1\" class=\"dataframe\">\n",
              "  <thead>\n",
              "    <tr style=\"text-align: right;\">\n",
              "      <th></th>\n",
              "      <th>Service Area</th>\n",
              "      <th>Account Description</th>\n",
              "      <th>Creditor</th>\n",
              "      <th>Journal Date</th>\n",
              "      <th>Journal Reference</th>\n",
              "      <th>Total</th>\n",
              "    </tr>\n",
              "  </thead>\n",
              "  <tbody>\n",
              "    <tr>\n",
              "      <th>0</th>\n",
              "      <td>Assurance</td>\n",
              "      <td>Travelling Expenses</td>\n",
              "      <td>TICKETOFFICESALE</td>\n",
              "      <td>4/3/2016</td>\n",
              "      <td>7331</td>\n",
              "      <td>29.10</td>\n",
              "    </tr>\n",
              "    <tr>\n",
              "      <th>1</th>\n",
              "      <td>Assurance</td>\n",
              "      <td>Travelling Expenses</td>\n",
              "      <td>SELFSERVE TICKET</td>\n",
              "      <td>7/3/2016</td>\n",
              "      <td>7342</td>\n",
              "      <td>10.00</td>\n",
              "    </tr>\n",
              "    <tr>\n",
              "      <th>2</th>\n",
              "      <td>Assurance</td>\n",
              "      <td>Miscellaneous Expenses</td>\n",
              "      <td>BIRMINGHAM CC</td>\n",
              "      <td>22/04/2016</td>\n",
              "      <td>7871</td>\n",
              "      <td>69.00</td>\n",
              "    </tr>\n",
              "    <tr>\n",
              "      <th>3</th>\n",
              "      <td>Assurance</td>\n",
              "      <td>Miscellaneous Expenses</td>\n",
              "      <td>BIRMINGHAM CC</td>\n",
              "      <td>25/04/2016</td>\n",
              "      <td>7891</td>\n",
              "      <td>13.00</td>\n",
              "    </tr>\n",
              "    <tr>\n",
              "      <th>4</th>\n",
              "      <td>Assurance</td>\n",
              "      <td>Miscellaneous Expenses</td>\n",
              "      <td>D H C LTD</td>\n",
              "      <td>8/6/2016</td>\n",
              "      <td>8320</td>\n",
              "      <td>170.85</td>\n",
              "    </tr>\n",
              "  </tbody>\n",
              "</table>\n",
              "</div>\n",
              "    <div class=\"colab-df-buttons\">\n",
              "\n",
              "  <div class=\"colab-df-container\">\n",
              "    <button class=\"colab-df-convert\" onclick=\"convertToInteractive('df-8b084a13-d534-46db-b48f-e170171b4e72')\"\n",
              "            title=\"Convert this dataframe to an interactive table.\"\n",
              "            style=\"display:none;\">\n",
              "\n",
              "  <svg xmlns=\"http://www.w3.org/2000/svg\" height=\"24px\" viewBox=\"0 -960 960 960\">\n",
              "    <path d=\"M120-120v-720h720v720H120Zm60-500h600v-160H180v160Zm220 220h160v-160H400v160Zm0 220h160v-160H400v160ZM180-400h160v-160H180v160Zm440 0h160v-160H620v160ZM180-180h160v-160H180v160Zm440 0h160v-160H620v160Z\"/>\n",
              "  </svg>\n",
              "    </button>\n",
              "\n",
              "  <style>\n",
              "    .colab-df-container {\n",
              "      display:flex;\n",
              "      gap: 12px;\n",
              "    }\n",
              "\n",
              "    .colab-df-convert {\n",
              "      background-color: #E8F0FE;\n",
              "      border: none;\n",
              "      border-radius: 50%;\n",
              "      cursor: pointer;\n",
              "      display: none;\n",
              "      fill: #1967D2;\n",
              "      height: 32px;\n",
              "      padding: 0 0 0 0;\n",
              "      width: 32px;\n",
              "    }\n",
              "\n",
              "    .colab-df-convert:hover {\n",
              "      background-color: #E2EBFA;\n",
              "      box-shadow: 0px 1px 2px rgba(60, 64, 67, 0.3), 0px 1px 3px 1px rgba(60, 64, 67, 0.15);\n",
              "      fill: #174EA6;\n",
              "    }\n",
              "\n",
              "    .colab-df-buttons div {\n",
              "      margin-bottom: 4px;\n",
              "    }\n",
              "\n",
              "    [theme=dark] .colab-df-convert {\n",
              "      background-color: #3B4455;\n",
              "      fill: #D2E3FC;\n",
              "    }\n",
              "\n",
              "    [theme=dark] .colab-df-convert:hover {\n",
              "      background-color: #434B5C;\n",
              "      box-shadow: 0px 1px 3px 1px rgba(0, 0, 0, 0.15);\n",
              "      filter: drop-shadow(0px 1px 2px rgba(0, 0, 0, 0.3));\n",
              "      fill: #FFFFFF;\n",
              "    }\n",
              "  </style>\n",
              "\n",
              "    <script>\n",
              "      const buttonEl =\n",
              "        document.querySelector('#df-8b084a13-d534-46db-b48f-e170171b4e72 button.colab-df-convert');\n",
              "      buttonEl.style.display =\n",
              "        google.colab.kernel.accessAllowed ? 'block' : 'none';\n",
              "\n",
              "      async function convertToInteractive(key) {\n",
              "        const element = document.querySelector('#df-8b084a13-d534-46db-b48f-e170171b4e72');\n",
              "        const dataTable =\n",
              "          await google.colab.kernel.invokeFunction('convertToInteractive',\n",
              "                                                    [key], {});\n",
              "        if (!dataTable) return;\n",
              "\n",
              "        const docLinkHtml = 'Like what you see? Visit the ' +\n",
              "          '<a target=\"_blank\" href=https://colab.research.google.com/notebooks/data_table.ipynb>data table notebook</a>'\n",
              "          + ' to learn more about interactive tables.';\n",
              "        element.innerHTML = '';\n",
              "        dataTable['output_type'] = 'display_data';\n",
              "        await google.colab.output.renderOutput(dataTable, element);\n",
              "        const docLink = document.createElement('div');\n",
              "        docLink.innerHTML = docLinkHtml;\n",
              "        element.appendChild(docLink);\n",
              "      }\n",
              "    </script>\n",
              "  </div>\n",
              "\n",
              "\n",
              "<div id=\"df-141563c2-4685-406e-ba3e-8e80d921e3dd\">\n",
              "  <button class=\"colab-df-quickchart\" onclick=\"quickchart('df-141563c2-4685-406e-ba3e-8e80d921e3dd')\"\n",
              "            title=\"Suggest charts\"\n",
              "            style=\"display:none;\">\n",
              "\n",
              "<svg xmlns=\"http://www.w3.org/2000/svg\" height=\"24px\"viewBox=\"0 0 24 24\"\n",
              "     width=\"24px\">\n",
              "    <g>\n",
              "        <path d=\"M19 3H5c-1.1 0-2 .9-2 2v14c0 1.1.9 2 2 2h14c1.1 0 2-.9 2-2V5c0-1.1-.9-2-2-2zM9 17H7v-7h2v7zm4 0h-2V7h2v10zm4 0h-2v-4h2v4z\"/>\n",
              "    </g>\n",
              "</svg>\n",
              "  </button>\n",
              "\n",
              "<style>\n",
              "  .colab-df-quickchart {\n",
              "      --bg-color: #E8F0FE;\n",
              "      --fill-color: #1967D2;\n",
              "      --hover-bg-color: #E2EBFA;\n",
              "      --hover-fill-color: #174EA6;\n",
              "      --disabled-fill-color: #AAA;\n",
              "      --disabled-bg-color: #DDD;\n",
              "  }\n",
              "\n",
              "  [theme=dark] .colab-df-quickchart {\n",
              "      --bg-color: #3B4455;\n",
              "      --fill-color: #D2E3FC;\n",
              "      --hover-bg-color: #434B5C;\n",
              "      --hover-fill-color: #FFFFFF;\n",
              "      --disabled-bg-color: #3B4455;\n",
              "      --disabled-fill-color: #666;\n",
              "  }\n",
              "\n",
              "  .colab-df-quickchart {\n",
              "    background-color: var(--bg-color);\n",
              "    border: none;\n",
              "    border-radius: 50%;\n",
              "    cursor: pointer;\n",
              "    display: none;\n",
              "    fill: var(--fill-color);\n",
              "    height: 32px;\n",
              "    padding: 0;\n",
              "    width: 32px;\n",
              "  }\n",
              "\n",
              "  .colab-df-quickchart:hover {\n",
              "    background-color: var(--hover-bg-color);\n",
              "    box-shadow: 0 1px 2px rgba(60, 64, 67, 0.3), 0 1px 3px 1px rgba(60, 64, 67, 0.15);\n",
              "    fill: var(--button-hover-fill-color);\n",
              "  }\n",
              "\n",
              "  .colab-df-quickchart-complete:disabled,\n",
              "  .colab-df-quickchart-complete:disabled:hover {\n",
              "    background-color: var(--disabled-bg-color);\n",
              "    fill: var(--disabled-fill-color);\n",
              "    box-shadow: none;\n",
              "  }\n",
              "\n",
              "  .colab-df-spinner {\n",
              "    border: 2px solid var(--fill-color);\n",
              "    border-color: transparent;\n",
              "    border-bottom-color: var(--fill-color);\n",
              "    animation:\n",
              "      spin 1s steps(1) infinite;\n",
              "  }\n",
              "\n",
              "  @keyframes spin {\n",
              "    0% {\n",
              "      border-color: transparent;\n",
              "      border-bottom-color: var(--fill-color);\n",
              "      border-left-color: var(--fill-color);\n",
              "    }\n",
              "    20% {\n",
              "      border-color: transparent;\n",
              "      border-left-color: var(--fill-color);\n",
              "      border-top-color: var(--fill-color);\n",
              "    }\n",
              "    30% {\n",
              "      border-color: transparent;\n",
              "      border-left-color: var(--fill-color);\n",
              "      border-top-color: var(--fill-color);\n",
              "      border-right-color: var(--fill-color);\n",
              "    }\n",
              "    40% {\n",
              "      border-color: transparent;\n",
              "      border-right-color: var(--fill-color);\n",
              "      border-top-color: var(--fill-color);\n",
              "    }\n",
              "    60% {\n",
              "      border-color: transparent;\n",
              "      border-right-color: var(--fill-color);\n",
              "    }\n",
              "    80% {\n",
              "      border-color: transparent;\n",
              "      border-right-color: var(--fill-color);\n",
              "      border-bottom-color: var(--fill-color);\n",
              "    }\n",
              "    90% {\n",
              "      border-color: transparent;\n",
              "      border-bottom-color: var(--fill-color);\n",
              "    }\n",
              "  }\n",
              "</style>\n",
              "\n",
              "  <script>\n",
              "    async function quickchart(key) {\n",
              "      const quickchartButtonEl =\n",
              "        document.querySelector('#' + key + ' button');\n",
              "      quickchartButtonEl.disabled = true;  // To prevent multiple clicks.\n",
              "      quickchartButtonEl.classList.add('colab-df-spinner');\n",
              "      try {\n",
              "        const charts = await google.colab.kernel.invokeFunction(\n",
              "            'suggestCharts', [key], {});\n",
              "      } catch (error) {\n",
              "        console.error('Error during call to suggestCharts:', error);\n",
              "      }\n",
              "      quickchartButtonEl.classList.remove('colab-df-spinner');\n",
              "      quickchartButtonEl.classList.add('colab-df-quickchart-complete');\n",
              "    }\n",
              "    (() => {\n",
              "      let quickchartButtonEl =\n",
              "        document.querySelector('#df-141563c2-4685-406e-ba3e-8e80d921e3dd button');\n",
              "      quickchartButtonEl.style.display =\n",
              "        google.colab.kernel.accessAllowed ? 'block' : 'none';\n",
              "    })();\n",
              "  </script>\n",
              "</div>\n",
              "\n",
              "    </div>\n",
              "  </div>\n"
            ],
            "application/vnd.google.colaboratory.intrinsic+json": {
              "type": "dataframe",
              "variable_name": "df3",
              "summary": "{\n  \"name\": \"df3\",\n  \"rows\": 1604,\n  \"fields\": [\n    {\n      \"column\": \"Service Area\",\n      \"properties\": {\n        \"dtype\": \"category\",\n        \"num_unique_values\": 12,\n        \"samples\": [\n          \"Regional Enterprise\",\n          \"Customer Support Group\",\n          \"Assurance\"\n        ],\n        \"semantic_type\": \"\",\n        \"description\": \"\"\n      }\n    },\n    {\n      \"column\": \"Account Description\",\n      \"properties\": {\n        \"dtype\": \"category\",\n        \"num_unique_values\": 48,\n        \"samples\": [\n          \"Laundry and Dry Cleaning\",\n          \"Water Services\",\n          \"Other Indirect Employee Expens\"\n        ],\n        \"semantic_type\": \"\",\n        \"description\": \"\"\n      }\n    },\n    {\n      \"column\": \"Creditor\",\n      \"properties\": {\n        \"dtype\": \"category\",\n        \"num_unique_values\": 411,\n        \"samples\": [\n          \"VICTORIA`S HEALTH AND\",\n          \"WWW.BANHAM.COM\",\n          \"RISHIN'S\"\n        ],\n        \"semantic_type\": \"\",\n        \"description\": \"\"\n      }\n    },\n    {\n      \"column\": \"Journal Date\",\n      \"properties\": {\n        \"dtype\": \"category\",\n        \"num_unique_values\": 135,\n        \"samples\": [\n          \"5/4/2016\",\n          \"4/5/2016\",\n          \"25/03/2016\"\n        ],\n        \"semantic_type\": \"\",\n        \"description\": \"\"\n      }\n    },\n    {\n      \"column\": \"Journal Reference\",\n      \"properties\": {\n        \"dtype\": \"number\",\n        \"std\": 628,\n        \"min\": 4318,\n        \"max\": 9328,\n        \"num_unique_values\": 1522,\n        \"samples\": [\n          8990,\n          8251,\n          8981\n        ],\n        \"semantic_type\": \"\",\n        \"description\": \"\"\n      }\n    },\n    {\n      \"column\": \"Total\",\n      \"properties\": {\n        \"dtype\": \"number\",\n        \"std\": 503.1704865417759,\n        \"min\": -1315.2,\n        \"max\": 11487.0,\n        \"num_unique_values\": 1170,\n        \"samples\": [\n          7.14,\n          45.16,\n          53.25\n        ],\n        \"semantic_type\": \"\",\n        \"description\": \"\"\n      }\n    }\n  ]\n}"
            }
          },
          "metadata": {},
          "execution_count": 214
        }
      ]
    },
    {
      "cell_type": "code",
      "source": [
        "df3.shape"
      ],
      "metadata": {
        "colab": {
          "base_uri": "https://localhost:8080/"
        },
        "id": "22L6OD1wMDGk",
        "outputId": "b4a5867e-8e14-44dd-a4ed-87965000ad77"
      },
      "execution_count": null,
      "outputs": [
        {
          "output_type": "execute_result",
          "data": {
            "text/plain": [
              "(1604, 6)"
            ]
          },
          "metadata": {},
          "execution_count": 215
        }
      ]
    },
    {
      "cell_type": "code",
      "source": [
        "df3.info()"
      ],
      "metadata": {
        "colab": {
          "base_uri": "https://localhost:8080/"
        },
        "id": "o5vHI2eSW_oo",
        "outputId": "db002c3e-8bdc-4f55-8f3c-2270154cd14d"
      },
      "execution_count": null,
      "outputs": [
        {
          "output_type": "stream",
          "name": "stdout",
          "text": [
            "<class 'pandas.core.frame.DataFrame'>\n",
            "RangeIndex: 1604 entries, 0 to 1603\n",
            "Data columns (total 6 columns):\n",
            " #   Column               Non-Null Count  Dtype  \n",
            "---  ------               --------------  -----  \n",
            " 0   Service Area         1604 non-null   object \n",
            " 1   Account Description  1604 non-null   object \n",
            " 2   Creditor             1604 non-null   object \n",
            " 3   Journal Date         1604 non-null   object \n",
            " 4   Journal Reference    1604 non-null   int64  \n",
            " 5   Total                1604 non-null   float64\n",
            "dtypes: float64(1), int64(1), object(4)\n",
            "memory usage: 75.3+ KB\n"
          ]
        }
      ]
    },
    {
      "cell_type": "code",
      "source": [
        "df3['Journal Date'] = df3['Journal Date'].astype(str)\n",
        "df3['Journal Date'] = pd.to_datetime(df3['Journal Date'], format=\"%d/%m/%Y\", dayfirst=True, errors='coerce')"
      ],
      "metadata": {
        "id": "m3k95fzWW_xG"
      },
      "execution_count": null,
      "outputs": []
    },
    {
      "cell_type": "code",
      "source": [
        "df3.info()"
      ],
      "metadata": {
        "colab": {
          "base_uri": "https://localhost:8080/"
        },
        "id": "Vu3HLHYIW_1S",
        "outputId": "936987df-3d3e-4bc1-8a97-8d9d209a7759"
      },
      "execution_count": null,
      "outputs": [
        {
          "output_type": "stream",
          "name": "stdout",
          "text": [
            "<class 'pandas.core.frame.DataFrame'>\n",
            "RangeIndex: 1604 entries, 0 to 1603\n",
            "Data columns (total 6 columns):\n",
            " #   Column               Non-Null Count  Dtype         \n",
            "---  ------               --------------  -----         \n",
            " 0   Service Area         1604 non-null   object        \n",
            " 1   Account Description  1604 non-null   object        \n",
            " 2   Creditor             1604 non-null   object        \n",
            " 3   Journal Date         1604 non-null   datetime64[ns]\n",
            " 4   Journal Reference    1604 non-null   int64         \n",
            " 5   Total                1604 non-null   float64       \n",
            "dtypes: datetime64[ns](1), float64(1), int64(1), object(3)\n",
            "memory usage: 75.3+ KB\n"
          ]
        }
      ]
    },
    {
      "cell_type": "markdown",
      "source": [
        "**Renaming columns to defult **\n",
        "Service Area,\tAccount Description,\tCreditor,\tTransaction Date,\tJournal Reference,\tTotal"
      ],
      "metadata": {
        "id": "2kC72DOV5AD4"
      }
    },
    {
      "cell_type": "code",
      "source": [
        "dataframes = [df1, df2, df3]\n",
        "rename_dict = {\n",
        "    'Journal Date': 'Transaction Date',\n",
        "    'JV Value': 'Total',\n",
        "    'JV Reference': 'Journal Reference'\n",
        "}\n",
        "\n",
        "for df in dataframes:\n",
        "    df.rename(columns=rename_dict, inplace=True)\n",
        "for df in dataframes:\n",
        "    df.drop(columns=['JV Date'], inplace=True, errors='ignore')\n",
        "merged_df = pd.concat(dataframes, ignore_index=True)"
      ],
      "metadata": {
        "id": "Uot7iQ8sOqvz"
      },
      "execution_count": null,
      "outputs": []
    },
    {
      "cell_type": "code",
      "source": [
        "merged_df.shape"
      ],
      "metadata": {
        "colab": {
          "base_uri": "https://localhost:8080/"
        },
        "id": "Zn0Zwyv0PWjT",
        "outputId": "f5e0de10-77a0-4d23-a713-e00fa43c7a29"
      },
      "execution_count": null,
      "outputs": [
        {
          "output_type": "execute_result",
          "data": {
            "text/plain": [
              "(10030, 6)"
            ]
          },
          "metadata": {},
          "execution_count": 220
        }
      ]
    },
    {
      "cell_type": "code",
      "source": [
        "df=merged_df"
      ],
      "metadata": {
        "id": "4Hemygj1PfRb"
      },
      "execution_count": null,
      "outputs": []
    },
    {
      "cell_type": "code",
      "source": [
        "df.head()"
      ],
      "metadata": {
        "colab": {
          "base_uri": "https://localhost:8080/",
          "height": 206
        },
        "id": "oENWdG56PmLM",
        "outputId": "04110d88-c244-44fd-d7fa-f2ef43ce3562"
      },
      "execution_count": null,
      "outputs": [
        {
          "output_type": "execute_result",
          "data": {
            "text/plain": [
              "         Service Area             Account Description            Creditor  \\\n",
              "0  Childrens Services                     IT Services       123-REG.CO.UK   \n",
              "1  Childrens Services                  Other Services  ACCESS EXPEDITIONS   \n",
              "2  Childrens Services  Equipment and Materials Repair     AFE SERVICELINE   \n",
              "3  Childrens Services  Equipment and Materials Repair     AFE SERVICELINE   \n",
              "4  Childrens Services  Building Repairs & Maintenance    ALLSOP & FRANCIS   \n",
              "\n",
              "  Transaction Date  Journal Reference    Total  \n",
              "0       2014-04-23                 93   143.81  \n",
              "1       2014-04-03                111  6000.00  \n",
              "2       2014-04-02                  6   309.38  \n",
              "3       2014-04-02                  7   218.76  \n",
              "4       2014-04-15                381   306.00  "
            ],
            "text/html": [
              "\n",
              "  <div id=\"df-30411570-f67b-44a6-9907-b350904a3589\" class=\"colab-df-container\">\n",
              "    <div>\n",
              "<style scoped>\n",
              "    .dataframe tbody tr th:only-of-type {\n",
              "        vertical-align: middle;\n",
              "    }\n",
              "\n",
              "    .dataframe tbody tr th {\n",
              "        vertical-align: top;\n",
              "    }\n",
              "\n",
              "    .dataframe thead th {\n",
              "        text-align: right;\n",
              "    }\n",
              "</style>\n",
              "<table border=\"1\" class=\"dataframe\">\n",
              "  <thead>\n",
              "    <tr style=\"text-align: right;\">\n",
              "      <th></th>\n",
              "      <th>Service Area</th>\n",
              "      <th>Account Description</th>\n",
              "      <th>Creditor</th>\n",
              "      <th>Transaction Date</th>\n",
              "      <th>Journal Reference</th>\n",
              "      <th>Total</th>\n",
              "    </tr>\n",
              "  </thead>\n",
              "  <tbody>\n",
              "    <tr>\n",
              "      <th>0</th>\n",
              "      <td>Childrens Services</td>\n",
              "      <td>IT Services</td>\n",
              "      <td>123-REG.CO.UK</td>\n",
              "      <td>2014-04-23</td>\n",
              "      <td>93</td>\n",
              "      <td>143.81</td>\n",
              "    </tr>\n",
              "    <tr>\n",
              "      <th>1</th>\n",
              "      <td>Childrens Services</td>\n",
              "      <td>Other Services</td>\n",
              "      <td>ACCESS EXPEDITIONS</td>\n",
              "      <td>2014-04-03</td>\n",
              "      <td>111</td>\n",
              "      <td>6000.00</td>\n",
              "    </tr>\n",
              "    <tr>\n",
              "      <th>2</th>\n",
              "      <td>Childrens Services</td>\n",
              "      <td>Equipment and Materials Repair</td>\n",
              "      <td>AFE SERVICELINE</td>\n",
              "      <td>2014-04-02</td>\n",
              "      <td>6</td>\n",
              "      <td>309.38</td>\n",
              "    </tr>\n",
              "    <tr>\n",
              "      <th>3</th>\n",
              "      <td>Childrens Services</td>\n",
              "      <td>Equipment and Materials Repair</td>\n",
              "      <td>AFE SERVICELINE</td>\n",
              "      <td>2014-04-02</td>\n",
              "      <td>7</td>\n",
              "      <td>218.76</td>\n",
              "    </tr>\n",
              "    <tr>\n",
              "      <th>4</th>\n",
              "      <td>Childrens Services</td>\n",
              "      <td>Building Repairs &amp; Maintenance</td>\n",
              "      <td>ALLSOP &amp; FRANCIS</td>\n",
              "      <td>2014-04-15</td>\n",
              "      <td>381</td>\n",
              "      <td>306.00</td>\n",
              "    </tr>\n",
              "  </tbody>\n",
              "</table>\n",
              "</div>\n",
              "    <div class=\"colab-df-buttons\">\n",
              "\n",
              "  <div class=\"colab-df-container\">\n",
              "    <button class=\"colab-df-convert\" onclick=\"convertToInteractive('df-30411570-f67b-44a6-9907-b350904a3589')\"\n",
              "            title=\"Convert this dataframe to an interactive table.\"\n",
              "            style=\"display:none;\">\n",
              "\n",
              "  <svg xmlns=\"http://www.w3.org/2000/svg\" height=\"24px\" viewBox=\"0 -960 960 960\">\n",
              "    <path d=\"M120-120v-720h720v720H120Zm60-500h600v-160H180v160Zm220 220h160v-160H400v160Zm0 220h160v-160H400v160ZM180-400h160v-160H180v160Zm440 0h160v-160H620v160ZM180-180h160v-160H180v160Zm440 0h160v-160H620v160Z\"/>\n",
              "  </svg>\n",
              "    </button>\n",
              "\n",
              "  <style>\n",
              "    .colab-df-container {\n",
              "      display:flex;\n",
              "      gap: 12px;\n",
              "    }\n",
              "\n",
              "    .colab-df-convert {\n",
              "      background-color: #E8F0FE;\n",
              "      border: none;\n",
              "      border-radius: 50%;\n",
              "      cursor: pointer;\n",
              "      display: none;\n",
              "      fill: #1967D2;\n",
              "      height: 32px;\n",
              "      padding: 0 0 0 0;\n",
              "      width: 32px;\n",
              "    }\n",
              "\n",
              "    .colab-df-convert:hover {\n",
              "      background-color: #E2EBFA;\n",
              "      box-shadow: 0px 1px 2px rgba(60, 64, 67, 0.3), 0px 1px 3px 1px rgba(60, 64, 67, 0.15);\n",
              "      fill: #174EA6;\n",
              "    }\n",
              "\n",
              "    .colab-df-buttons div {\n",
              "      margin-bottom: 4px;\n",
              "    }\n",
              "\n",
              "    [theme=dark] .colab-df-convert {\n",
              "      background-color: #3B4455;\n",
              "      fill: #D2E3FC;\n",
              "    }\n",
              "\n",
              "    [theme=dark] .colab-df-convert:hover {\n",
              "      background-color: #434B5C;\n",
              "      box-shadow: 0px 1px 3px 1px rgba(0, 0, 0, 0.15);\n",
              "      filter: drop-shadow(0px 1px 2px rgba(0, 0, 0, 0.3));\n",
              "      fill: #FFFFFF;\n",
              "    }\n",
              "  </style>\n",
              "\n",
              "    <script>\n",
              "      const buttonEl =\n",
              "        document.querySelector('#df-30411570-f67b-44a6-9907-b350904a3589 button.colab-df-convert');\n",
              "      buttonEl.style.display =\n",
              "        google.colab.kernel.accessAllowed ? 'block' : 'none';\n",
              "\n",
              "      async function convertToInteractive(key) {\n",
              "        const element = document.querySelector('#df-30411570-f67b-44a6-9907-b350904a3589');\n",
              "        const dataTable =\n",
              "          await google.colab.kernel.invokeFunction('convertToInteractive',\n",
              "                                                    [key], {});\n",
              "        if (!dataTable) return;\n",
              "\n",
              "        const docLinkHtml = 'Like what you see? Visit the ' +\n",
              "          '<a target=\"_blank\" href=https://colab.research.google.com/notebooks/data_table.ipynb>data table notebook</a>'\n",
              "          + ' to learn more about interactive tables.';\n",
              "        element.innerHTML = '';\n",
              "        dataTable['output_type'] = 'display_data';\n",
              "        await google.colab.output.renderOutput(dataTable, element);\n",
              "        const docLink = document.createElement('div');\n",
              "        docLink.innerHTML = docLinkHtml;\n",
              "        element.appendChild(docLink);\n",
              "      }\n",
              "    </script>\n",
              "  </div>\n",
              "\n",
              "\n",
              "<div id=\"df-cf21365d-e859-4271-a96c-d68e8c6b267e\">\n",
              "  <button class=\"colab-df-quickchart\" onclick=\"quickchart('df-cf21365d-e859-4271-a96c-d68e8c6b267e')\"\n",
              "            title=\"Suggest charts\"\n",
              "            style=\"display:none;\">\n",
              "\n",
              "<svg xmlns=\"http://www.w3.org/2000/svg\" height=\"24px\"viewBox=\"0 0 24 24\"\n",
              "     width=\"24px\">\n",
              "    <g>\n",
              "        <path d=\"M19 3H5c-1.1 0-2 .9-2 2v14c0 1.1.9 2 2 2h14c1.1 0 2-.9 2-2V5c0-1.1-.9-2-2-2zM9 17H7v-7h2v7zm4 0h-2V7h2v10zm4 0h-2v-4h2v4z\"/>\n",
              "    </g>\n",
              "</svg>\n",
              "  </button>\n",
              "\n",
              "<style>\n",
              "  .colab-df-quickchart {\n",
              "      --bg-color: #E8F0FE;\n",
              "      --fill-color: #1967D2;\n",
              "      --hover-bg-color: #E2EBFA;\n",
              "      --hover-fill-color: #174EA6;\n",
              "      --disabled-fill-color: #AAA;\n",
              "      --disabled-bg-color: #DDD;\n",
              "  }\n",
              "\n",
              "  [theme=dark] .colab-df-quickchart {\n",
              "      --bg-color: #3B4455;\n",
              "      --fill-color: #D2E3FC;\n",
              "      --hover-bg-color: #434B5C;\n",
              "      --hover-fill-color: #FFFFFF;\n",
              "      --disabled-bg-color: #3B4455;\n",
              "      --disabled-fill-color: #666;\n",
              "  }\n",
              "\n",
              "  .colab-df-quickchart {\n",
              "    background-color: var(--bg-color);\n",
              "    border: none;\n",
              "    border-radius: 50%;\n",
              "    cursor: pointer;\n",
              "    display: none;\n",
              "    fill: var(--fill-color);\n",
              "    height: 32px;\n",
              "    padding: 0;\n",
              "    width: 32px;\n",
              "  }\n",
              "\n",
              "  .colab-df-quickchart:hover {\n",
              "    background-color: var(--hover-bg-color);\n",
              "    box-shadow: 0 1px 2px rgba(60, 64, 67, 0.3), 0 1px 3px 1px rgba(60, 64, 67, 0.15);\n",
              "    fill: var(--button-hover-fill-color);\n",
              "  }\n",
              "\n",
              "  .colab-df-quickchart-complete:disabled,\n",
              "  .colab-df-quickchart-complete:disabled:hover {\n",
              "    background-color: var(--disabled-bg-color);\n",
              "    fill: var(--disabled-fill-color);\n",
              "    box-shadow: none;\n",
              "  }\n",
              "\n",
              "  .colab-df-spinner {\n",
              "    border: 2px solid var(--fill-color);\n",
              "    border-color: transparent;\n",
              "    border-bottom-color: var(--fill-color);\n",
              "    animation:\n",
              "      spin 1s steps(1) infinite;\n",
              "  }\n",
              "\n",
              "  @keyframes spin {\n",
              "    0% {\n",
              "      border-color: transparent;\n",
              "      border-bottom-color: var(--fill-color);\n",
              "      border-left-color: var(--fill-color);\n",
              "    }\n",
              "    20% {\n",
              "      border-color: transparent;\n",
              "      border-left-color: var(--fill-color);\n",
              "      border-top-color: var(--fill-color);\n",
              "    }\n",
              "    30% {\n",
              "      border-color: transparent;\n",
              "      border-left-color: var(--fill-color);\n",
              "      border-top-color: var(--fill-color);\n",
              "      border-right-color: var(--fill-color);\n",
              "    }\n",
              "    40% {\n",
              "      border-color: transparent;\n",
              "      border-right-color: var(--fill-color);\n",
              "      border-top-color: var(--fill-color);\n",
              "    }\n",
              "    60% {\n",
              "      border-color: transparent;\n",
              "      border-right-color: var(--fill-color);\n",
              "    }\n",
              "    80% {\n",
              "      border-color: transparent;\n",
              "      border-right-color: var(--fill-color);\n",
              "      border-bottom-color: var(--fill-color);\n",
              "    }\n",
              "    90% {\n",
              "      border-color: transparent;\n",
              "      border-bottom-color: var(--fill-color);\n",
              "    }\n",
              "  }\n",
              "</style>\n",
              "\n",
              "  <script>\n",
              "    async function quickchart(key) {\n",
              "      const quickchartButtonEl =\n",
              "        document.querySelector('#' + key + ' button');\n",
              "      quickchartButtonEl.disabled = true;  // To prevent multiple clicks.\n",
              "      quickchartButtonEl.classList.add('colab-df-spinner');\n",
              "      try {\n",
              "        const charts = await google.colab.kernel.invokeFunction(\n",
              "            'suggestCharts', [key], {});\n",
              "      } catch (error) {\n",
              "        console.error('Error during call to suggestCharts:', error);\n",
              "      }\n",
              "      quickchartButtonEl.classList.remove('colab-df-spinner');\n",
              "      quickchartButtonEl.classList.add('colab-df-quickchart-complete');\n",
              "    }\n",
              "    (() => {\n",
              "      let quickchartButtonEl =\n",
              "        document.querySelector('#df-cf21365d-e859-4271-a96c-d68e8c6b267e button');\n",
              "      quickchartButtonEl.style.display =\n",
              "        google.colab.kernel.accessAllowed ? 'block' : 'none';\n",
              "    })();\n",
              "  </script>\n",
              "</div>\n",
              "\n",
              "    </div>\n",
              "  </div>\n"
            ],
            "application/vnd.google.colaboratory.intrinsic+json": {
              "type": "dataframe",
              "variable_name": "df",
              "summary": "{\n  \"name\": \"df\",\n  \"rows\": 10030,\n  \"fields\": [\n    {\n      \"column\": \"Service Area\",\n      \"properties\": {\n        \"dtype\": \"category\",\n        \"num_unique_values\": 24,\n        \"samples\": [\n          \"NSCSO\",\n          \"Commissioning\",\n          \"Childrens Services\"\n        ],\n        \"semantic_type\": \"\",\n        \"description\": \"\"\n      }\n    },\n    {\n      \"column\": \"Account Description\",\n      \"properties\": {\n        \"dtype\": \"category\",\n        \"num_unique_values\": 64,\n        \"samples\": [\n          \"Furniture-Purchase-Repair\",\n          \"Parking Permit Fees\",\n          \"IT Services\"\n        ],\n        \"semantic_type\": \"\",\n        \"description\": \"\"\n      }\n    },\n    {\n      \"column\": \"Creditor\",\n      \"properties\": {\n        \"dtype\": \"category\",\n        \"num_unique_values\": 1605,\n        \"samples\": [\n          \"COMMERCIAL CATERIN\",\n          \"PROPERTY MOVES LTD\",\n          \"ICELAND\"\n        ],\n        \"semantic_type\": \"\",\n        \"description\": \"\"\n      }\n    },\n    {\n      \"column\": \"Transaction Date\",\n      \"properties\": {\n        \"dtype\": \"date\",\n        \"min\": \"2014-04-02 00:00:00\",\n        \"max\": \"2016-09-02 00:00:00\",\n        \"num_unique_values\": 588,\n        \"samples\": [\n          \"2016-04-04 00:00:00\",\n          \"2015-12-23 00:00:00\",\n          \"2016-04-07 00:00:00\"\n        ],\n        \"semantic_type\": \"\",\n        \"description\": \"\"\n      }\n    },\n    {\n      \"column\": \"Journal Reference\",\n      \"properties\": {\n        \"dtype\": \"number\",\n        \"std\": 2399,\n        \"min\": 1,\n        \"max\": 9328,\n        \"num_unique_values\": 7867,\n        \"samples\": [\n          5819,\n          6554,\n          1754\n        ],\n        \"semantic_type\": \"\",\n        \"description\": \"\"\n      }\n    },\n    {\n      \"column\": \"Total\",\n      \"properties\": {\n        \"dtype\": \"number\",\n        \"std\": 411.2707950211024,\n        \"min\": -4707.0,\n        \"max\": 15340.8,\n        \"num_unique_values\": 4758,\n        \"samples\": [\n          18.65,\n          16.7,\n          260.77\n        ],\n        \"semantic_type\": \"\",\n        \"description\": \"\"\n      }\n    }\n  ]\n}"
            }
          },
          "metadata": {},
          "execution_count": 222
        }
      ]
    },
    {
      "cell_type": "code",
      "source": [
        "df.info()"
      ],
      "metadata": {
        "colab": {
          "base_uri": "https://localhost:8080/"
        },
        "id": "6KFvp4qZPti6",
        "outputId": "8b434253-dbb8-4244-c62a-68a3be6d569a"
      },
      "execution_count": null,
      "outputs": [
        {
          "output_type": "stream",
          "name": "stdout",
          "text": [
            "<class 'pandas.core.frame.DataFrame'>\n",
            "RangeIndex: 10030 entries, 0 to 10029\n",
            "Data columns (total 6 columns):\n",
            " #   Column               Non-Null Count  Dtype         \n",
            "---  ------               --------------  -----         \n",
            " 0   Service Area         10030 non-null  object        \n",
            " 1   Account Description  10030 non-null  object        \n",
            " 2   Creditor             10030 non-null  object        \n",
            " 3   Transaction Date     10030 non-null  datetime64[ns]\n",
            " 4   Journal Reference    10030 non-null  int64         \n",
            " 5   Total                10030 non-null  float64       \n",
            "dtypes: datetime64[ns](1), float64(1), int64(1), object(3)\n",
            "memory usage: 470.3+ KB\n"
          ]
        }
      ]
    },
    {
      "cell_type": "code",
      "source": [
        "df.shape"
      ],
      "metadata": {
        "colab": {
          "base_uri": "https://localhost:8080/"
        },
        "id": "DzA94wxmMlCa",
        "outputId": "aa48f2d3-2806-42fe-9bd6-3431e5ba0393"
      },
      "execution_count": null,
      "outputs": [
        {
          "output_type": "execute_result",
          "data": {
            "text/plain": [
              "(10030, 6)"
            ]
          },
          "metadata": {},
          "execution_count": 224
        }
      ]
    },
    {
      "cell_type": "code",
      "source": [
        "duplicates = df[df.duplicated(keep=False)]  # keep=False shows all duplicate rows including first occurrence\n",
        "\n",
        "# Display the duplicate rows\n",
        "print(\"Completely Duplicate Rows:\")\n",
        "print(duplicates)\n",
        "duplicates.to_csv('duplicates.csv', index=False)"
      ],
      "metadata": {
        "colab": {
          "base_uri": "https://localhost:8080/"
        },
        "id": "J4VfgZU8FJvg",
        "outputId": "dec4ad63-a11e-458b-e6a0-12753bac2285"
      },
      "execution_count": null,
      "outputs": [
        {
          "output_type": "stream",
          "name": "stdout",
          "text": [
            "Completely Duplicate Rows:\n",
            "                        Service Area             Account Description  \\\n",
            "2048                 Family Services  Equipment and Materials Purcha   \n",
            "2049                 Family Services  Other Transfer Payments to Soc   \n",
            "2050  Deputy Chief Operating Officer                     IT Services   \n",
            "2051                       Education  Private Contractors - Third Pa   \n",
            "2052                       Education  Equipment and Materials Repair   \n",
            "...                              ...                             ...   \n",
            "2883          Adults and Communities                         Postage   \n",
            "2884          Adults and Communities                         Postage   \n",
            "2885                    Street Scene  Equipment and Materials Purcha   \n",
            "2886                    Street Scene  Equipment and Materials Purcha   \n",
            "2887                 Family Services  Private Contractors - Third Pa   \n",
            "\n",
            "                 Creditor Transaction Date  Journal Reference   Total  \n",
            "2048      A  Y LOCKSMITHS       2014-10-06               3247    3.99  \n",
            "2049    AA DRIVING SCHOOL       2014-10-15               3512  245.50  \n",
            "2050  ADOBE SYSTEMS SOFTW       2014-10-06               3335  114.33  \n",
            "2051      AFE SERVICELINE       2014-10-13               3313  374.24  \n",
            "2052      AFE SERVICELINE       2014-10-13               3120  400.00  \n",
            "...                   ...              ...                ...     ...  \n",
            "2883    WWW.ROYALMAIL.COM       2014-10-30               3334  124.00  \n",
            "2884    WWW.ROYALMAIL.COM       2014-10-09               3333  124.00  \n",
            "2885  WWW.STANTONHOPE.CO.       2014-10-28               3114   40.80  \n",
            "2886  WWW.STANTONHOPE.CO.       2014-10-13               3109  145.14  \n",
            "2887  amazonpayments.co.u       2014-10-30               3417   52.09  \n",
            "\n",
            "[840 rows x 6 columns]\n"
          ]
        }
      ]
    },
    {
      "cell_type": "code",
      "source": [
        "df = df.drop_duplicates()\n",
        "\n",
        "# Display the DataFrame without duplicates\n",
        "print(\"DataFrame without duplicate rows:\")\n",
        "print(df)"
      ],
      "metadata": {
        "colab": {
          "base_uri": "https://localhost:8080/"
        },
        "id": "Pbaalv5pFRN5",
        "outputId": "4b1c1461-3301-4bbf-de4f-780978f3fc0e"
      },
      "execution_count": null,
      "outputs": [
        {
          "output_type": "stream",
          "name": "stdout",
          "text": [
            "DataFrame without duplicate rows:\n",
            "              Service Area             Account Description  \\\n",
            "0       Childrens Services                     IT Services   \n",
            "1       Childrens Services                  Other Services   \n",
            "2       Childrens Services  Equipment and Materials Repair   \n",
            "3       Childrens Services  Equipment and Materials Repair   \n",
            "4       Childrens Services  Building Repairs & Maintenance   \n",
            "...                    ...                             ...   \n",
            "10025        Public Health  Equipment and Materials Purcha   \n",
            "10026        Commissioning                        Training   \n",
            "10027        Commissioning                        Training   \n",
            "10028        Commissioning                        Training   \n",
            "10029  Regional Enterprise                        Training   \n",
            "\n",
            "                    Creditor Transaction Date  Journal Reference    Total  \n",
            "0              123-REG.CO.UK       2014-04-23                 93   143.81  \n",
            "1         ACCESS EXPEDITIONS       2014-04-03                111  6000.00  \n",
            "2            AFE SERVICELINE       2014-04-02                  6   309.38  \n",
            "3            AFE SERVICELINE       2014-04-02                  7   218.76  \n",
            "4           ALLSOP & FRANCIS       2014-04-15                381   306.00  \n",
            "...                      ...              ...                ...      ...  \n",
            "10025     VALUE PRODUCTS LTD       2016-06-22               8486     4.55  \n",
            "10026   THE COACHING ACADEMY       2016-04-21               7844   600.00  \n",
            "10027   THE COACHING ACADEMY       2016-06-29               8565   450.00  \n",
            "10028   THE COACHING ACADEMY       2016-08-18               9144  1500.00  \n",
            "10029  PUBLIC SECTOR CONNECT       2016-07-19               8692   100.00  \n",
            "\n",
            "[9610 rows x 6 columns]\n"
          ]
        }
      ]
    },
    {
      "cell_type": "code",
      "source": [
        "df.to_csv('merged_data_without_dup.csv', index=False)"
      ],
      "metadata": {
        "id": "e0BIwmZbgR_d"
      },
      "execution_count": null,
      "outputs": []
    },
    {
      "cell_type": "markdown",
      "source": [],
      "metadata": {
        "id": "zUCwQLTJBzgw"
      }
    },
    {
      "cell_type": "markdown",
      "source": [],
      "metadata": {
        "id": "F1jUkVct936C"
      }
    },
    {
      "cell_type": "code",
      "source": [
        "sns.countplot(x='Service Area',data=df, palette='Set2' )\n",
        "plt.xticks(rotation=90)\n",
        "plt.legend(title=\"Service Area Counts\", loc='upper right')\n",
        "\n",
        "plt.show()\n"
      ],
      "metadata": {
        "colab": {
          "base_uri": "https://localhost:8080/",
          "height": 758
        },
        "id": "nvzaHq5rpG3Z",
        "outputId": "d2a5562c-c42a-4fd7-ffa9-6fe136d94bf5"
      },
      "execution_count": null,
      "outputs": [
        {
          "output_type": "stream",
          "name": "stderr",
          "text": [
            "<ipython-input-228-51114ac21f8a>:1: FutureWarning: \n",
            "\n",
            "Passing `palette` without assigning `hue` is deprecated and will be removed in v0.14.0. Assign the `x` variable to `hue` and set `legend=False` for the same effect.\n",
            "\n",
            "  sns.countplot(x='Service Area',data=df, palette='Set2' )\n",
            "WARNING:matplotlib.legend:No artists with labels found to put in legend.  Note that artists whose label start with an underscore are ignored when legend() is called with no argument.\n"
          ]
        },
        {
          "output_type": "display_data",
          "data": {
            "text/plain": [
              "<Figure size 640x480 with 1 Axes>"
            ],
            "image/png": "[encoded data removed]"
          },
          "metadata": {}
        }
      ]
    },
    {
      "cell_type": "code",
      "source": [
        "df['Service Area'].unique()"
      ],
      "metadata": {
        "colab": {
          "base_uri": "https://localhost:8080/"
        },
        "id": "oBTfscTWXWff",
        "outputId": "ebf2aa3a-a0d9-4047-da20-8ba647443861"
      },
      "execution_count": null,
      "outputs": [
        {
          "output_type": "execute_result",
          "data": {
            "text/plain": [
              "array(['Childrens Services', 'Control Accounts', 'Street Scene',\n",
              "       'Governance', 'Deputy Chief Operating Officer', 'Public Health',\n",
              "       'Adults and Communities', 'Internal Audit & CAFT', 'NSCSO',\n",
              "       'CSG Managed Budget', 'Strategic Commissioning Board',\n",
              "       'Family Services', \"Children's Service DSG\", 'Education',\n",
              "       'Commercial', \"Children's Family Services\", 'Commissioning',\n",
              "       'Streetscene', 'Parking & Infrastructure',\n",
              "       \"Children's Education & Skills\", 'Customer Support Group',\n",
              "       'Assurance', 'Regional Enterprise', 'Corporate Accounting'],\n",
              "      dtype=object)"
            ]
          },
          "metadata": {},
          "execution_count": 229
        }
      ]
    },
    {
      "cell_type": "code",
      "source": [
        "#sns.countplot(x='Service Area',data=df3, hue='Account Description', palette='Set2')\n",
        "#plt.xticks(rotation=90)\n",
        "#plt.legend(bbox_to_anchor=(1.05, 1), loc='upper left')"
      ],
      "metadata": {
        "id": "qSoogbBRseY5"
      },
      "execution_count": null,
      "outputs": []
    },
    {
      "cell_type": "code",
      "source": [
        "sns.histplot(df['Total'],kde=True, color='skyblue')\n",
        "plt.xlim(-500,1000)\n",
        "plt.title('Distribution of Total')\n",
        "plt.show()\n"
      ],
      "metadata": {
        "colab": {
          "base_uri": "https://localhost:8080/",
          "height": 472
        },
        "id": "P_i9cLYps2jw",
        "outputId": "c910f0df-b9fe-4174-fc30-2d9241a823fb"
      },
      "execution_count": null,
      "outputs": [
        {
          "output_type": "display_data",
          "data": {
            "text/plain": [
              "<Figure size 640x480 with 1 Axes>"
            ],
            "image/png": "[encoded data removed]"
          },
          "metadata": {}
        }
      ]
    },
    {
      "cell_type": "code",
      "source": [
        "from scipy import stats\n",
        "\n",
        "# Perform Shapiro-Wilk test\n",
        "shapiro_statistic, p_value = stats.shapiro(df[\"Total\"])\n",
        "\n",
        "print(f\"Shapiro-Wilk Statistic: {shapiro_statistic}\")\n",
        "print(f\"P-value: {p_value}\")"
      ],
      "metadata": {
        "colab": {
          "base_uri": "https://localhost:8080/"
        },
        "id": "_sgnG6QrYKNP",
        "outputId": "329e79b9-85f6-4d81-e8db-caf30bfd22bf"
      },
      "execution_count": null,
      "outputs": [
        {
          "output_type": "stream",
          "name": "stdout",
          "text": [
            "Shapiro-Wilk Statistic: 0.18561828690646698\n",
            "P-value: 9.207788030777092e-109\n"
          ]
        },
        {
          "output_type": "stream",
          "name": "stderr",
          "text": [
            "/usr/local/lib/python3.10/dist-packages/scipy/stats/_axis_nan_policy.py:531: UserWarning: scipy.stats.shapiro: For N > 5000, computed p-value may not be accurate. Current N is 9610.\n",
            "  res = hypotest_fun_out(*samples, **kwds)\n"
          ]
        }
      ]
    },
    {
      "cell_type": "code",
      "source": [
        "# Descriptive Statistics\n",
        "def descriptive_statistics(df, column):\n",
        "    print(f\"Descriptive statistics for column: {column}\")\n",
        "    print(\"Mean:\", df[column].mean())\n",
        "    print(\"Median:\", df[column].median())\n",
        "    print(\"Mode:\", df[column].mode())\n",
        "    print(\"Standard Deviation:\", df[column].std())\n",
        "    print(\"Variance:\", df[column].var())\n",
        "    print(\"Minimum:\", df[column].min())\n",
        "    print(\"Maximum:\", df[column].max())\n",
        "    print(\"Range:\", df[column].max() - df[column].min())\n",
        "    print(\"25th Percentile:\", df[column].quantile(0.25))\n",
        "    print(\"50th Percentile (Median):\", df[column].quantile(0.50))\n",
        "    print(\"75th Percentile:\", df[column].quantile(0.75))\n",
        "    print(\"Skewness:\", df[column].skew())\n",
        "    print(\"Kurtosis:\", df[column].kurt())\n",
        "column = \"Total\"\n",
        "descriptive_statistics(df, column)"
      ],
      "metadata": {
        "colab": {
          "base_uri": "https://localhost:8080/"
        },
        "id": "MXoGW1JsGGXS",
        "outputId": "fb0ab431-c24e-449f-e829-f02ae858db87"
      },
      "execution_count": null,
      "outputs": [
        {
          "output_type": "stream",
          "name": "stdout",
          "text": [
            "Descriptive statistics for column: Total\n",
            "Mean: 100.6490395421436\n",
            "Median: 25.575000000000003\n",
            "Mode: 0    20.0\n",
            "Name: Total, dtype: float64\n",
            "Standard Deviation: 411.46920907026345\n",
            "Variance: 169306.9100129082\n",
            "Minimum: -4707.0\n",
            "Maximum: 15340.8\n",
            "Range: 20047.8\n",
            "25th Percentile: 10.0\n",
            "50th Percentile (Median): 25.575000000000003\n",
            "75th Percentile: 90.0\n",
            "Skewness: 16.857842924932452\n",
            "Kurtosis: 414.38949575812796\n"
          ]
        }
      ]
    },
    {
      "cell_type": "code",
      "source": [
        "summary_stats = df.groupby('Service Area')['Total'].agg(['mean', 'median', 'std', 'min', 'max', 'count'])\n",
        "\n",
        "# Displaying the summary statistics\n",
        "print(summary_stats)"
      ],
      "metadata": {
        "colab": {
          "base_uri": "https://localhost:8080/"
        },
        "id": "rECHUWI8m1J7",
        "outputId": "87795597-635c-4dcb-fcc7-ac93c3d9c281"
      },
      "execution_count": null,
      "outputs": [
        {
          "output_type": "stream",
          "name": "stdout",
          "text": [
            "                                       mean   median          std      min  \\\n",
            "Service Area                                                                 \n",
            "Adults and Communities           153.226387  105.000   223.301837   -16.22   \n",
            "Assurance                         70.462642   12.510   325.407521 -1315.20   \n",
            "CSG Managed Budget              1971.842778  630.900  2436.480313   -44.99   \n",
            "Children's Education & Skills     95.407741   19.170   141.041386  -301.35   \n",
            "Children's Family Services        65.552035   23.430   126.926141  -971.70   \n",
            "Children's Service DSG           128.391602   60.000   171.468917   -50.69   \n",
            "Childrens Services                70.626245   23.080   215.164655  -500.00   \n",
            "Commercial                       304.783333  262.750   437.660009  -450.00   \n",
            "Commissioning                    161.574419   58.625   370.555280  -780.00   \n",
            "Control Accounts                  23.838750    8.135    31.462986     3.06   \n",
            "Corporate Accounting             132.982500  144.990    70.003861    50.00   \n",
            "Customer Support Group          1548.854792  276.000  2784.528496 -4707.00   \n",
            "Deputy Chief Operating Officer    36.888319   10.000    72.427270     2.15   \n",
            "Education                        134.896211   44.500   170.098092     0.50   \n",
            "Family Services                   62.309078   23.400   112.718449  -133.20   \n",
            "Governance                      1780.312500  348.465  2848.261569    53.94   \n",
            "Internal Audit & CAFT             65.104545   23.400   115.227128     4.00   \n",
            "NSCSO                            151.833333  145.500   145.103699    10.00   \n",
            "Parking & Infrastructure         156.184000   51.020   199.176960    28.43   \n",
            "Public Health                      0.733333    4.550    12.567451   -13.30   \n",
            "Regional Enterprise              375.400000   60.000   710.412415    12.00   \n",
            "Strategic Commissioning Board    244.000000  244.000          NaN   244.00   \n",
            "Street Scene                      64.929744   41.730    79.292731     2.99   \n",
            "Streetscene                      172.742607  167.500   206.759922  -527.52   \n",
            "\n",
            "                                     max  count  \n",
            "Service Area                                     \n",
            "Adults and Communities           1391.04    155  \n",
            "Assurance                        4342.20    246  \n",
            "CSG Managed Budget               8058.00     36  \n",
            "Children's Education & Skills     987.47    642  \n",
            "Children's Family Services       2262.91   5318  \n",
            "Children's Service DSG           1500.00    231  \n",
            "Childrens Services               6000.00   1297  \n",
            "Commercial                       1008.00      9  \n",
            "Commissioning                    3984.00    258  \n",
            "Control Accounts                   83.31      8  \n",
            "Corporate Accounting              191.95      4  \n",
            "Customer Support Group          15340.80     96  \n",
            "Deputy Chief Operating Officer    460.00    113  \n",
            "Education                         830.10     95  \n",
            "Family Services                   989.29    770  \n",
            "Governance                       6388.20      8  \n",
            "Internal Audit & CAFT             403.20     11  \n",
            "NSCSO                             300.00      3  \n",
            "Parking & Infrastructure          500.00      5  \n",
            "Public Health                      10.95      3  \n",
            "Regional Enterprise              1645.00      5  \n",
            "Strategic Commissioning Board     244.00      1  \n",
            "Street Scene                      400.00     39  \n",
            "Streetscene                      2295.60    257  \n"
          ]
        }
      ]
    },
    {
      "cell_type": "code",
      "source": [
        "\n",
        "plt.figure(figsize=(16, 10))\n",
        "sns.boxplot(x=\"Service Area\", y=\"Total\", data=df, palette='rainbow', showfliers=True)\n",
        "\n",
        "plt.xticks(rotation=90)\n",
        "\n",
        "plt.ylim(df['Total'].min() * 1.1, df['Total'].max() * 1.1)\n",
        "\n",
        "plt.tight_layout()\n",
        "\n",
        "plt.show()\n"
      ],
      "metadata": {
        "colab": {
          "base_uri": "https://localhost:8080/",
          "height": 1000
        },
        "id": "9OSRlbgLnly8",
        "outputId": "ae9dd24f-f73f-48de-fec3-d671ab71259e"
      },
      "execution_count": null,
      "outputs": [
        {
          "output_type": "stream",
          "name": "stderr",
          "text": [
            "<ipython-input-234-823aac68e9c9>:2: FutureWarning: \n",
            "\n",
            "Passing `palette` without assigning `hue` is deprecated and will be removed in v0.14.0. Assign the `x` variable to `hue` and set `legend=False` for the same effect.\n",
            "\n",
            "  sns.boxplot(x=\"Service Area\", y=\"Total\", data=df, palette='rainbow', showfliers=True)\n"
          ]
        },
        {
          "output_type": "display_data",
          "data": {
            "text/plain": [
              "<Figure size 1600x1000 with 1 Axes>"
            ],
            "image/png": "[encoded data removed]"
          },
          "metadata": {}
        }
      ]
    },
    {
      "cell_type": "code",
      "source": [
        "def find_outliers(data):\n",
        "    Q1 = data.quantile(0.25)\n",
        "    Q3 = data.quantile(0.75)\n",
        "    IQR = Q3 - Q1\n",
        "    lower_bound = Q1 - 1.5 * IQR\n",
        "    upper_bound = Q3 + 1.5 * IQR\n",
        "    # Return the values that are outliers\n",
        "    return data[(data < lower_bound) | (data > upper_bound)]\n",
        "\n",
        "outliers = df.groupby('Service Area')['Total'].apply(find_outliers).reset_index()\n",
        "\n",
        "# Drop rows where there are no outliers\n",
        "outliers = outliers.dropna()\n",
        "print(outliers)\n",
        "# Display the outliers for each service area\n",
        "#import ace_tools as tools;\n",
        "#tools.display_dataframe_to_user(name=\"Outliers by Service Area\", dataframe=outliers)"
      ],
      "metadata": {
        "colab": {
          "base_uri": "https://localhost:8080/"
        },
        "id": "E6rsVyQzWL5T",
        "outputId": "e9dafba9-eb3f-459d-9709-340a58e26f5c"
      },
      "execution_count": null,
      "outputs": [
        {
          "output_type": "stream",
          "name": "stdout",
          "text": [
            "                Service Area  level_1   Total\n",
            "0     Adults and Communities      214  815.50\n",
            "1     Adults and Communities      215  815.50\n",
            "2     Adults and Communities      307  400.00\n",
            "3     Adults and Communities      524  411.00\n",
            "4     Adults and Communities      877  354.00\n",
            "...                      ...      ...     ...\n",
            "1007             Streetscene     9561  583.12\n",
            "1008             Streetscene     9565  652.50\n",
            "1009             Streetscene     9568  652.50\n",
            "1010             Streetscene     9572  652.50\n",
            "1011             Streetscene     9575  652.50\n",
            "\n",
            "[1012 rows x 3 columns]\n"
          ]
        }
      ]
    },
    {
      "cell_type": "code",
      "source": [
        "#plt.subplot(nrows,ncols,plot_number)\n",
        "#plt.subplot(1,2,1)\n",
        "#sns.countplot(x='Service Area',data=df3,palette='rainbow')\n",
        "#plt.subplot(1,2,2)\n",
        "#sns.countplot(x='Creditor',data=df3, palette='rainbow')"
      ],
      "metadata": {
        "id": "RqU-PzIquMWW"
      },
      "execution_count": null,
      "outputs": []
    },
    {
      "cell_type": "markdown",
      "source": [
        "There is not missing value here"
      ],
      "metadata": {
        "id": "XX6LKZQ-yuNe"
      }
    },
    {
      "cell_type": "code",
      "source": [
        "df['Account Description'].value_counts()"
      ],
      "metadata": {
        "colab": {
          "base_uri": "https://localhost:8080/",
          "height": 490
        },
        "id": "uJNodq1u9iBH",
        "outputId": "9c1b13b9-cfcf-43fa-8d26-503569beec2b"
      },
      "execution_count": null,
      "outputs": [
        {
          "output_type": "execute_result",
          "data": {
            "text/plain": [
              "Account Description\n",
              "Equipment and Materials Purcha    2075\n",
              "Food Costs                        1792\n",
              "Travelling Expenses                923\n",
              "Other Transfer Payments to Soc     564\n",
              "Other Services                     538\n",
              "                                  ... \n",
              "Fixtures and fittings                1\n",
              "Gas                                  1\n",
              "Employer's National Insurance        1\n",
              "Operating Leases - Transport         1\n",
              "Advertising for staff                1\n",
              "Name: count, Length: 64, dtype: int64"
            ],
            "text/html": [
              "<div>\n",
              "<style scoped>\n",
              "    .dataframe tbody tr th:only-of-type {\n",
              "        vertical-align: middle;\n",
              "    }\n",
              "\n",
              "    .dataframe tbody tr th {\n",
              "        vertical-align: top;\n",
              "    }\n",
              "\n",
              "    .dataframe thead th {\n",
              "        text-align: right;\n",
              "    }\n",
              "</style>\n",
              "<table border=\"1\" class=\"dataframe\">\n",
              "  <thead>\n",
              "    <tr style=\"text-align: right;\">\n",
              "      <th></th>\n",
              "      <th>count</th>\n",
              "    </tr>\n",
              "    <tr>\n",
              "      <th>Account Description</th>\n",
              "      <th></th>\n",
              "    </tr>\n",
              "  </thead>\n",
              "  <tbody>\n",
              "    <tr>\n",
              "      <th>Equipment and Materials Purcha</th>\n",
              "      <td>2075</td>\n",
              "    </tr>\n",
              "    <tr>\n",
              "      <th>Food Costs</th>\n",
              "      <td>1792</td>\n",
              "    </tr>\n",
              "    <tr>\n",
              "      <th>Travelling Expenses</th>\n",
              "      <td>923</td>\n",
              "    </tr>\n",
              "    <tr>\n",
              "      <th>Other Transfer Payments to Soc</th>\n",
              "      <td>564</td>\n",
              "    </tr>\n",
              "    <tr>\n",
              "      <th>Other Services</th>\n",
              "      <td>538</td>\n",
              "    </tr>\n",
              "    <tr>\n",
              "      <th>...</th>\n",
              "      <td>...</td>\n",
              "    </tr>\n",
              "    <tr>\n",
              "      <th>Fixtures and fittings</th>\n",
              "      <td>1</td>\n",
              "    </tr>\n",
              "    <tr>\n",
              "      <th>Gas</th>\n",
              "      <td>1</td>\n",
              "    </tr>\n",
              "    <tr>\n",
              "      <th>Employer's National Insurance</th>\n",
              "      <td>1</td>\n",
              "    </tr>\n",
              "    <tr>\n",
              "      <th>Operating Leases - Transport</th>\n",
              "      <td>1</td>\n",
              "    </tr>\n",
              "    <tr>\n",
              "      <th>Advertising for staff</th>\n",
              "      <td>1</td>\n",
              "    </tr>\n",
              "  </tbody>\n",
              "</table>\n",
              "<p>64 rows × 1 columns</p>\n",
              "</div><br><label><b>dtype:</b> int64</label>"
            ]
          },
          "metadata": {},
          "execution_count": 236
        }
      ]
    },
    {
      "cell_type": "code",
      "source": [
        "df['Account Description'].value_counts().idxmax()"
      ],
      "metadata": {
        "colab": {
          "base_uri": "https://localhost:8080/",
          "height": 35
        },
        "id": "7i_TzH0c9t9C",
        "outputId": "0a4cbd66-7072-49f5-8682-815d40beb564"
      },
      "execution_count": null,
      "outputs": [
        {
          "output_type": "execute_result",
          "data": {
            "text/plain": [
              "'Equipment and Materials Purcha'"
            ],
            "application/vnd.google.colaboratory.intrinsic+json": {
              "type": "string"
            }
          },
          "metadata": {},
          "execution_count": 237
        }
      ]
    },
    {
      "cell_type": "code",
      "source": [
        "df['Account Description'].value_counts().max()"
      ],
      "metadata": {
        "colab": {
          "base_uri": "https://localhost:8080/"
        },
        "id": "shWLUg8q-ZQP",
        "outputId": "1367d286-d344-4b27-f0f3-1b382479c084"
      },
      "execution_count": null,
      "outputs": [
        {
          "output_type": "execute_result",
          "data": {
            "text/plain": [
              "2075"
            ]
          },
          "metadata": {},
          "execution_count": 238
        }
      ]
    },
    {
      "cell_type": "code",
      "source": [
        "df['Account Description'].value_counts().idxmin()"
      ],
      "metadata": {
        "colab": {
          "base_uri": "https://localhost:8080/",
          "height": 35
        },
        "id": "R_QXauaC99YD",
        "outputId": "a63e4d94-4f28-4d66-d941-29300ff9632c"
      },
      "execution_count": null,
      "outputs": [
        {
          "output_type": "execute_result",
          "data": {
            "text/plain": [
              "'Catering Recharge'"
            ],
            "application/vnd.google.colaboratory.intrinsic+json": {
              "type": "string"
            }
          },
          "metadata": {},
          "execution_count": 239
        }
      ]
    },
    {
      "cell_type": "code",
      "source": [
        "df['Account Description'].value_counts().min()"
      ],
      "metadata": {
        "colab": {
          "base_uri": "https://localhost:8080/"
        },
        "id": "YBKD7SbG-RfM",
        "outputId": "0c6fcf6d-e71c-4809-b858-18c17af4c5b4"
      },
      "execution_count": null,
      "outputs": [
        {
          "output_type": "execute_result",
          "data": {
            "text/plain": [
              "1"
            ]
          },
          "metadata": {},
          "execution_count": 240
        }
      ]
    },
    {
      "cell_type": "code",
      "source": [
        "expenses=df[df['Total'] > 0]\n",
        "Total_expenses= expenses['Total'].sum()\n",
        "print(Total_expenses)"
      ],
      "metadata": {
        "id": "JhL7ucfk3Zmf",
        "colab": {
          "base_uri": "https://localhost:8080/"
        },
        "outputId": "04e59c63-3743-479d-93e7-bb9c8c958cf7"
      },
      "execution_count": null,
      "outputs": [
        {
          "output_type": "stream",
          "name": "stdout",
          "text": [
            "986188.04\n"
          ]
        }
      ]
    },
    {
      "cell_type": "markdown",
      "source": [
        "###Refund Analysis"
      ],
      "metadata": {
        "id": "MqRiHFJZ2u_O"
      }
    },
    {
      "cell_type": "code",
      "source": [
        "refunds =df[df['Total']<0]\n",
        "print(refunds)"
      ],
      "metadata": {
        "id": "8avTxcVa20rx",
        "colab": {
          "base_uri": "https://localhost:8080/"
        },
        "outputId": "6b074532-8f47-4043-a1c7-ff1f68c5f394"
      },
      "execution_count": null,
      "outputs": [
        {
          "output_type": "stream",
          "name": "stdout",
          "text": [
            "                    Service Area     Account Description  \\\n",
            "22            Childrens Services              Food Costs   \n",
            "119           Childrens Services  Miscellaneous Expenses   \n",
            "164           Childrens Services              Food Costs   \n",
            "269           Childrens Services              Food Costs   \n",
            "282           Childrens Services              Food Costs   \n",
            "...                          ...                     ...   \n",
            "9777  Children's Family Services              Food Costs   \n",
            "9872      Customer Support Group          Equipment Hire   \n",
            "9873      Customer Support Group          Equipment Hire   \n",
            "9915  Children's Family Services              Food Costs   \n",
            "9948  Children's Family Services              Food Costs   \n",
            "\n",
            "                              Creditor Transaction Date  Journal Reference  \\\n",
            "22                  ASDA HOME DELIVERY       2014-04-15                 50   \n",
            "119                GRO HM PASSPORT OFF       2014-04-16                279   \n",
            "164                  JS ONLINE GROCERY       2014-04-23                262   \n",
            "269                   TESCO STORE 3539       2014-04-29                385   \n",
            "282                   TESCO STORES 644       2014-04-02                 70   \n",
            "...                                ...              ...                ...   \n",
            "9777            SAINSBURYS TO YOU 0637       2016-04-12               7735   \n",
            "9872  BRENTWOOD COMMUNICATIOCHELMSFORD       2016-08-19               9173   \n",
            "9873                PINKCASINOINTERNET       2016-08-19               9174   \n",
            "9915                  TESCO STORE 3539       2016-06-21               8468   \n",
            "9948            SAINSBURYS TO YOU 0637       2016-03-08               7366   \n",
            "\n",
            "       Total  \n",
            "22     -6.90  \n",
            "119   -23.40  \n",
            "164    -1.95  \n",
            "269    -4.00  \n",
            "282  -230.30  \n",
            "...      ...  \n",
            "9777   -0.67  \n",
            "9872 -174.00  \n",
            "9873 -100.00  \n",
            "9915   -7.24  \n",
            "9948   -2.50  \n",
            "\n",
            "[283 rows x 6 columns]\n"
          ]
        }
      ]
    },
    {
      "cell_type": "code",
      "source": [
        "refunds_by_service = refunds.groupby('Service Area')['Total'].sum()\n",
        "print(refunds_by_service)"
      ],
      "metadata": {
        "id": "NO9SQLB320zc",
        "colab": {
          "base_uri": "https://localhost:8080/"
        },
        "outputId": "b637017f-0d9c-4227-ba31-4e646b6c9d6d"
      },
      "execution_count": null,
      "outputs": [
        {
          "output_type": "stream",
          "name": "stdout",
          "text": [
            "Service Area\n",
            "Adults and Communities            -16.22\n",
            "Assurance                       -1365.19\n",
            "CSG Managed Budget                -44.99\n",
            "Children's Education & Skills    -930.44\n",
            "Children's Family Services      -6873.29\n",
            "Children's Service DSG            -96.96\n",
            "Childrens Services              -1794.09\n",
            "Commercial                       -450.00\n",
            "Commissioning                   -1049.80\n",
            "Customer Support Group          -5159.80\n",
            "Family Services                  -616.54\n",
            "Public Health                     -13.30\n",
            "Streetscene                      -540.15\n",
            "Name: Total, dtype: float64\n"
          ]
        }
      ]
    },
    {
      "cell_type": "code",
      "source": [
        "refunds_by_account = refunds.groupby('Account Description')['Total'].sum()\n",
        "print(refunds_by_account)"
      ],
      "metadata": {
        "id": "9_niaPi72050",
        "colab": {
          "base_uri": "https://localhost:8080/"
        },
        "outputId": "36a8f307-8506-4486-edb4-b1c1551d9555"
      },
      "execution_count": null,
      "outputs": [
        {
          "output_type": "stream",
          "name": "stdout",
          "text": [
            "Account Description\n",
            "Books-CDs-Audio-Video             -144.68\n",
            "Building Repairs & Maintenance    -583.28\n",
            "Cleaning and domestic material     -49.86\n",
            "Conference Expenses               -178.80\n",
            "Consumable Catering Supplies       -66.55\n",
            "E25 - Catering Supplies             -1.05\n",
            "Education CFR Administrative S     -65.83\n",
            "Equipment Hire                    -274.00\n",
            "Equipment and Materials Purcha   -4352.37\n",
            "Fixtures and fittings            -1315.20\n",
            "Food Costs                       -1192.44\n",
            "Hardware Purchases                  -6.00\n",
            "IT Services                        -19.40\n",
            "Legal and Court Fees             -4903.45\n",
            "Miscellaneous Expenses            -400.48\n",
            "Other Services                    -997.62\n",
            "Other Transfer Payments to Soc    -597.66\n",
            "Other Vehicle Costs                -49.99\n",
            "Private Contractors - Third Pa   -1198.11\n",
            "Professional Services             -780.00\n",
            "Stationery                       -1129.18\n",
            "Training                           -16.22\n",
            "Travelling Expenses               -128.60\n",
            "Vehicle Running Costs             -500.00\n",
            "Name: Total, dtype: float64\n"
          ]
        }
      ]
    },
    {
      "cell_type": "code",
      "source": [
        "refunds_by_Creditor = refunds.groupby('Creditor')['Total'].sum()\n",
        "print(refunds_by_Creditor)"
      ],
      "metadata": {
        "id": "o_lBuOxC208q",
        "colab": {
          "base_uri": "https://localhost:8080/"
        },
        "outputId": "cc8b9ba6-8a45-4e69-a3ae-320fc4d78521"
      },
      "execution_count": null,
      "outputs": [
        {
          "output_type": "stream",
          "name": "stdout",
          "text": [
            "Creditor\n",
            " Sainsburys S/mkts        -50.00\n",
            "AMAZON EU                -835.29\n",
            "AMAZON PRIME              -65.83\n",
            "AMAZON UK MARKETPLACE    -299.36\n",
            "AO RETAIL LIMITED         -30.00\n",
            "                           ...  \n",
            "WWW.DOORCONTROLSDIR       -88.14\n",
            "WWW.EUREKADIRECT.CO.UK    -13.20\n",
            "WWW.FLEETMINICABS.C       -69.25\n",
            "WWW.JOHNLEWIS.COM        -101.00\n",
            "WWW.QVCUK.COM             -27.95\n",
            "Name: Total, Length: 93, dtype: float64\n"
          ]
        }
      ]
    },
    {
      "cell_type": "code",
      "source": [
        "refunds=df[df['Total'] < 0]\n",
        "Total_refunds= refunds['Total'].sum()\n",
        "print(Total_refunds)"
      ],
      "metadata": {
        "id": "z4DHMoqi20_R",
        "colab": {
          "base_uri": "https://localhost:8080/"
        },
        "outputId": "144860cb-72fc-4c2f-910e-73a5779d4402"
      },
      "execution_count": null,
      "outputs": [
        {
          "output_type": "stream",
          "name": "stdout",
          "text": [
            "-18950.77\n"
          ]
        }
      ]
    },
    {
      "cell_type": "code",
      "source": [
        "refunds.shape"
      ],
      "metadata": {
        "colab": {
          "base_uri": "https://localhost:8080/"
        },
        "id": "41SaGMdBIoHu",
        "outputId": "2da9e6a7-256f-474e-d641-d5abe282bf6f"
      },
      "execution_count": null,
      "outputs": [
        {
          "output_type": "execute_result",
          "data": {
            "text/plain": [
              "(283, 6)"
            ]
          },
          "metadata": {},
          "execution_count": 247
        }
      ]
    },
    {
      "cell_type": "markdown",
      "source": [
        "##Adding minus and positive"
      ],
      "metadata": {
        "id": "6mCHP6Phcazp"
      }
    },
    {
      "cell_type": "code",
      "source": [
        "#df.to_csv('clean_df3.csv')"
      ],
      "metadata": {
        "id": "YptbAmvmDDWg"
      },
      "execution_count": null,
      "outputs": []
    },
    {
      "cell_type": "code",
      "source": [
        "df.sort_values(by=['Service Area', 'Account Description', 'Creditor', 'Transaction Date'], inplace=True)\n",
        "\n",
        "# Create a copy of the dataframe to track rows to drop\n",
        "df_to_drop = pd.DataFrame()\n",
        "\n",
        "for index, row in df.iterrows():\n",
        "    if pd.notnull(row['Total']) and isinstance(row['Total'], (int, float)) and row['Total'] < 0:\n",
        "        # Find matching rows with the same Service Area, Account Description, Creditor, and Date condition\n",
        "        matching_rows = df[(df['Service Area'] == row['Service Area']) &\n",
        "                           (df['Account Description'] == row['Account Description'])\n",
        "                           &\n",
        "                           (df['Transaction Date'] <= row['Transaction Date'])]\n",
        "                          # (df['Creditor'] == row['Creditor'])\n",
        "        if not matching_rows.empty:\n",
        "            # Assume the first matching row is the counterpart\n",
        "            positive_index = matching_rows.index[0]\n",
        "\n",
        "            # Mark both positive and negative rows to be removed\n",
        "            df_to_drop = pd.concat([df_to_drop, df.loc[[index, positive_index]]])\n",
        "\n",
        "# Drop the rows from the original dataset\n",
        "df_cleaned = df.drop(df_to_drop.index)\n",
        "\n",
        "# Output the cleaned dataset\n",
        "print(\"Cleaned Data:\")\n",
        "print(df_cleaned)"
      ],
      "metadata": {
        "colab": {
          "base_uri": "https://localhost:8080/"
        },
        "id": "OO1ozZW8f03R",
        "outputId": "f2c7353e-d67a-4e48-92e6-cf12cdc625d4"
      },
      "execution_count": null,
      "outputs": [
        {
          "output_type": "stream",
          "name": "stderr",
          "text": [
            "<ipython-input-249-5fe5e8eeff2d>:1: SettingWithCopyWarning: \n",
            "A value is trying to be set on a copy of a slice from a DataFrame\n",
            "\n",
            "See the caveats in the documentation: https://pandas.pydata.org/pandas-docs/stable/user_guide/indexing.html#returning-a-view-versus-a-copy\n",
            "  df.sort_values(by=['Service Area', 'Account Description', 'Creditor', 'Transaction Date'], inplace=True)\n"
          ]
        },
        {
          "output_type": "stream",
          "name": "stdout",
          "text": [
            "Cleaned Data:\n",
            "                Service Area    Account Description             Creditor  \\\n",
            "3367  Adults and Communities  Books-CDs-Audio-Video            Amazon EU   \n",
            "3368  Adults and Communities  Books-CDs-Audio-Video            Amazon EU   \n",
            "3391  Adults and Communities  Books-CDs-Audio-Video  Amazon Mktplce EU-U   \n",
            "3742  Adults and Communities  Books-CDs-Audio-Video  Amazon Mktplce EU-U   \n",
            "3741  Adults and Communities  Books-CDs-Audio-Video  Amazon Mktplce EU-U   \n",
            "...                      ...                    ...                  ...   \n",
            "8116             Streetscene  Vehicle Running Costs      WWW.DVLA.GOV.UK   \n",
            "8117             Streetscene  Vehicle Running Costs      WWW.DVLA.GOV.UK   \n",
            "9566             Streetscene  Vehicle Running Costs      WWW.DVLA.GOV.UK   \n",
            "9568             Streetscene  Vehicle Running Costs      WWW.DVLA.GOV.UK   \n",
            "4104             Streetscene  Vehicle Running Costs   WWW.METROLINE.CO.U   \n",
            "\n",
            "     Transaction Date  Journal Reference   Total  \n",
            "3367       2014-12-11               4189  231.90  \n",
            "3368       2014-12-11               4190  117.21  \n",
            "3391       2014-12-22               4191   30.80  \n",
            "3742       2015-01-12               4574   18.67  \n",
            "3741       2015-01-14               4575   47.43  \n",
            "...               ...                ...     ...  \n",
            "8116       2016-02-25               7215  227.50  \n",
            "8117       2016-02-25               7216  227.50  \n",
            "9566       2016-03-21               7520  227.50  \n",
            "9568       2016-03-21               7522  652.50  \n",
            "4104       2015-01-29               4796  108.00  \n",
            "\n",
            "[9261 rows x 6 columns]\n"
          ]
        }
      ]
    },
    {
      "cell_type": "code",
      "source": [
        "refund_1=df[df['Total']<0]\n",
        "print(refund_1)\n",
        "refund_1.to_csv(\"refund.csv\")"
      ],
      "metadata": {
        "colab": {
          "base_uri": "https://localhost:8080/"
        },
        "id": "wVAp-i6tILts",
        "outputId": "d608a5f6-3189-4510-d076-43ccca64b1a2"
      },
      "execution_count": null,
      "outputs": [
        {
          "output_type": "stream",
          "name": "stdout",
          "text": [
            "                       Service Area             Account Description  \\\n",
            "4614         Adults and Communities                        Training   \n",
            "8617                      Assurance           Fixtures and fittings   \n",
            "8646                      Assurance             Other Vehicle Costs   \n",
            "843              CSG Managed Budget           Books-CDs-Audio-Video   \n",
            "3914  Children's Education & Skills    Consumable Catering Supplies   \n",
            "...                             ...                             ...   \n",
            "1709                Family Services             Travelling Expenses   \n",
            "833                   Public Health           Books-CDs-Audio-Video   \n",
            "4176                    Streetscene           Books-CDs-Audio-Video   \n",
            "3423                    Streetscene  Building Repairs & Maintenance   \n",
            "4217                    Streetscene  Equipment and Materials Purcha   \n",
            "\n",
            "                                 Creditor Transaction Date  Journal Reference  \\\n",
            "4614                            AMAZON EU       2015-08-31               5189   \n",
            "8617  MARQUEE CARPETS LIMITEWALTHAM CROSS       2016-08-19               9175   \n",
            "8646                        HALFORDS 0370       2016-06-13               8353   \n",
            "843                   Amazon Mktplce EU-U       2014-06-12               1194   \n",
            "3914                          REMMERCOLTD       2015-01-05               4362   \n",
            "...                                   ...              ...                ...   \n",
            "1709                        TRAINLINE.COM       2014-08-22               1868   \n",
            "833                   Amazon Mktplce EU-U       2014-06-03               1192   \n",
            "4176                  Amazon Svcs EuropeS       2015-02-20               4837   \n",
            "3423                  DISCOUNT FLOORING -       2014-12-15               4334   \n",
            "4217                  Amazon UK Marketpla       2015-02-20               4838   \n",
            "\n",
            "        Total  \n",
            "4614   -16.22  \n",
            "8617 -1315.20  \n",
            "8646   -49.99  \n",
            "843    -44.99  \n",
            "3914   -66.55  \n",
            "...       ...  \n",
            "1709   -26.45  \n",
            "833    -13.30  \n",
            "4176    -7.14  \n",
            "3423  -527.52  \n",
            "4217    -5.49  \n",
            "\n",
            "[283 rows x 6 columns]\n"
          ]
        }
      ]
    },
    {
      "cell_type": "code",
      "source": [
        "df_cleaned.to_csv('cleaned_data_noduplicat_norefund.csv', index=False)"
      ],
      "metadata": {
        "id": "EPvGckfQf1A9"
      },
      "execution_count": null,
      "outputs": []
    },
    {
      "cell_type": "code",
      "source": [
        "df=df_cleaned"
      ],
      "metadata": {
        "id": "A2AL1hzof1En"
      },
      "execution_count": null,
      "outputs": []
    },
    {
      "cell_type": "code",
      "source": [
        "df.shape"
      ],
      "metadata": {
        "colab": {
          "base_uri": "https://localhost:8080/"
        },
        "id": "_JuEMMfDf1JD",
        "outputId": "f9d2ebcf-6d00-4927-b5e7-538c57a26d1e"
      },
      "execution_count": null,
      "outputs": [
        {
          "output_type": "execute_result",
          "data": {
            "text/plain": [
              "(9261, 6)"
            ]
          },
          "metadata": {},
          "execution_count": 255
        }
      ]
    },
    {
      "cell_type": "code",
      "source": [
        "df.info()"
      ],
      "metadata": {
        "colab": {
          "base_uri": "https://localhost:8080/"
        },
        "id": "MdofToCDf1Mx",
        "outputId": "21c221dd-b018-43b5-b33a-416dcb1ee73d"
      },
      "execution_count": null,
      "outputs": [
        {
          "output_type": "stream",
          "name": "stdout",
          "text": [
            "<class 'pandas.core.frame.DataFrame'>\n",
            "Index: 9261 entries, 3367 to 4104\n",
            "Data columns (total 6 columns):\n",
            " #   Column               Non-Null Count  Dtype         \n",
            "---  ------               --------------  -----         \n",
            " 0   Service Area         9261 non-null   object        \n",
            " 1   Account Description  9261 non-null   object        \n",
            " 2   Creditor             9261 non-null   object        \n",
            " 3   Transaction Date     9261 non-null   datetime64[ns]\n",
            " 4   Journal Reference    9261 non-null   int64         \n",
            " 5   Total                9261 non-null   float64       \n",
            "dtypes: datetime64[ns](1), float64(1), int64(1), object(3)\n",
            "memory usage: 506.5+ KB\n"
          ]
        }
      ]
    },
    {
      "cell_type": "code",
      "source": [
        "df.head(5)"
      ],
      "metadata": {
        "colab": {
          "base_uri": "https://localhost:8080/",
          "height": 206
        },
        "id": "NYx33cprf1Qo",
        "outputId": "69325c3f-b377-4d47-c0c1-ca65c26e5342"
      },
      "execution_count": null,
      "outputs": [
        {
          "output_type": "execute_result",
          "data": {
            "text/plain": [
              "                Service Area    Account Description             Creditor  \\\n",
              "3367  Adults and Communities  Books-CDs-Audio-Video            Amazon EU   \n",
              "3368  Adults and Communities  Books-CDs-Audio-Video            Amazon EU   \n",
              "3391  Adults and Communities  Books-CDs-Audio-Video  Amazon Mktplce EU-U   \n",
              "3742  Adults and Communities  Books-CDs-Audio-Video  Amazon Mktplce EU-U   \n",
              "3741  Adults and Communities  Books-CDs-Audio-Video  Amazon Mktplce EU-U   \n",
              "\n",
              "     Transaction Date  Journal Reference   Total  \n",
              "3367       2014-12-11               4189  231.90  \n",
              "3368       2014-12-11               4190  117.21  \n",
              "3391       2014-12-22               4191   30.80  \n",
              "3742       2015-01-12               4574   18.67  \n",
              "3741       2015-01-14               4575   47.43  "
            ],
            "text/html": [
              "\n",
              "  <div id=\"df-004d280f-04e3-4599-91a2-7fa9fc52a6da\" class=\"colab-df-container\">\n",
              "    <div>\n",
              "<style scoped>\n",
              "    .dataframe tbody tr th:only-of-type {\n",
              "        vertical-align: middle;\n",
              "    }\n",
              "\n",
              "    .dataframe tbody tr th {\n",
              "        vertical-align: top;\n",
              "    }\n",
              "\n",
              "    .dataframe thead th {\n",
              "        text-align: right;\n",
              "    }\n",
              "</style>\n",
              "<table border=\"1\" class=\"dataframe\">\n",
              "  <thead>\n",
              "    <tr style=\"text-align: right;\">\n",
              "      <th></th>\n",
              "      <th>Service Area</th>\n",
              "      <th>Account Description</th>\n",
              "      <th>Creditor</th>\n",
              "      <th>Transaction Date</th>\n",
              "      <th>Journal Reference</th>\n",
              "      <th>Total</th>\n",
              "    </tr>\n",
              "  </thead>\n",
              "  <tbody>\n",
              "    <tr>\n",
              "      <th>3367</th>\n",
              "      <td>Adults and Communities</td>\n",
              "      <td>Books-CDs-Audio-Video</td>\n",
              "      <td>Amazon EU</td>\n",
              "      <td>2014-12-11</td>\n",
              "      <td>4189</td>\n",
              "      <td>231.90</td>\n",
              "    </tr>\n",
              "    <tr>\n",
              "      <th>3368</th>\n",
              "      <td>Adults and Communities</td>\n",
              "      <td>Books-CDs-Audio-Video</td>\n",
              "      <td>Amazon EU</td>\n",
              "      <td>2014-12-11</td>\n",
              "      <td>4190</td>\n",
              "      <td>117.21</td>\n",
              "    </tr>\n",
              "    <tr>\n",
              "      <th>3391</th>\n",
              "      <td>Adults and Communities</td>\n",
              "      <td>Books-CDs-Audio-Video</td>\n",
              "      <td>Amazon Mktplce EU-U</td>\n",
              "      <td>2014-12-22</td>\n",
              "      <td>4191</td>\n",
              "      <td>30.80</td>\n",
              "    </tr>\n",
              "    <tr>\n",
              "      <th>3742</th>\n",
              "      <td>Adults and Communities</td>\n",
              "      <td>Books-CDs-Audio-Video</td>\n",
              "      <td>Amazon Mktplce EU-U</td>\n",
              "      <td>2015-01-12</td>\n",
              "      <td>4574</td>\n",
              "      <td>18.67</td>\n",
              "    </tr>\n",
              "    <tr>\n",
              "      <th>3741</th>\n",
              "      <td>Adults and Communities</td>\n",
              "      <td>Books-CDs-Audio-Video</td>\n",
              "      <td>Amazon Mktplce EU-U</td>\n",
              "      <td>2015-01-14</td>\n",
              "      <td>4575</td>\n",
              "      <td>47.43</td>\n",
              "    </tr>\n",
              "  </tbody>\n",
              "</table>\n",
              "</div>\n",
              "    <div class=\"colab-df-buttons\">\n",
              "\n",
              "  <div class=\"colab-df-container\">\n",
              "    <button class=\"colab-df-convert\" onclick=\"convertToInteractive('df-004d280f-04e3-4599-91a2-7fa9fc52a6da')\"\n",
              "            title=\"Convert this dataframe to an interactive table.\"\n",
              "            style=\"display:none;\">\n",
              "\n",
              "  <svg xmlns=\"http://www.w3.org/2000/svg\" height=\"24px\" viewBox=\"0 -960 960 960\">\n",
              "    <path d=\"M120-120v-720h720v720H120Zm60-500h600v-160H180v160Zm220 220h160v-160H400v160Zm0 220h160v-160H400v160ZM180-400h160v-160H180v160Zm440 0h160v-160H620v160ZM180-180h160v-160H180v160Zm440 0h160v-160H620v160Z\"/>\n",
              "  </svg>\n",
              "    </button>\n",
              "\n",
              "  <style>\n",
              "    .colab-df-container {\n",
              "      display:flex;\n",
              "      gap: 12px;\n",
              "    }\n",
              "\n",
              "    .colab-df-convert {\n",
              "      background-color: #E8F0FE;\n",
              "      border: none;\n",
              "      border-radius: 50%;\n",
              "      cursor: pointer;\n",
              "      display: none;\n",
              "      fill: #1967D2;\n",
              "      height: 32px;\n",
              "      padding: 0 0 0 0;\n",
              "      width: 32px;\n",
              "    }\n",
              "\n",
              "    .colab-df-convert:hover {\n",
              "      background-color: #E2EBFA;\n",
              "      box-shadow: 0px 1px 2px rgba(60, 64, 67, 0.3), 0px 1px 3px 1px rgba(60, 64, 67, 0.15);\n",
              "      fill: #174EA6;\n",
              "    }\n",
              "\n",
              "    .colab-df-buttons div {\n",
              "      margin-bottom: 4px;\n",
              "    }\n",
              "\n",
              "    [theme=dark] .colab-df-convert {\n",
              "      background-color: #3B4455;\n",
              "      fill: #D2E3FC;\n",
              "    }\n",
              "\n",
              "    [theme=dark] .colab-df-convert:hover {\n",
              "      background-color: #434B5C;\n",
              "      box-shadow: 0px 1px 3px 1px rgba(0, 0, 0, 0.15);\n",
              "      filter: drop-shadow(0px 1px 2px rgba(0, 0, 0, 0.3));\n",
              "      fill: #FFFFFF;\n",
              "    }\n",
              "  </style>\n",
              "\n",
              "    <script>\n",
              "      const buttonEl =\n",
              "        document.querySelector('#df-004d280f-04e3-4599-91a2-7fa9fc52a6da button.colab-df-convert');\n",
              "      buttonEl.style.display =\n",
              "        google.colab.kernel.accessAllowed ? 'block' : 'none';\n",
              "\n",
              "      async function convertToInteractive(key) {\n",
              "        const element = document.querySelector('#df-004d280f-04e3-4599-91a2-7fa9fc52a6da');\n",
              "        const dataTable =\n",
              "          await google.colab.kernel.invokeFunction('convertToInteractive',\n",
              "                                                    [key], {});\n",
              "        if (!dataTable) return;\n",
              "\n",
              "        const docLinkHtml = 'Like what you see? Visit the ' +\n",
              "          '<a target=\"_blank\" href=https://colab.research.google.com/notebooks/data_table.ipynb>data table notebook</a>'\n",
              "          + ' to learn more about interactive tables.';\n",
              "        element.innerHTML = '';\n",
              "        dataTable['output_type'] = 'display_data';\n",
              "        await google.colab.output.renderOutput(dataTable, element);\n",
              "        const docLink = document.createElement('div');\n",
              "        docLink.innerHTML = docLinkHtml;\n",
              "        element.appendChild(docLink);\n",
              "      }\n",
              "    </script>\n",
              "  </div>\n",
              "\n",
              "\n",
              "<div id=\"df-6e111651-c31d-4fea-8f14-c562beabffde\">\n",
              "  <button class=\"colab-df-quickchart\" onclick=\"quickchart('df-6e111651-c31d-4fea-8f14-c562beabffde')\"\n",
              "            title=\"Suggest charts\"\n",
              "            style=\"display:none;\">\n",
              "\n",
              "<svg xmlns=\"http://www.w3.org/2000/svg\" height=\"24px\"viewBox=\"0 0 24 24\"\n",
              "     width=\"24px\">\n",
              "    <g>\n",
              "        <path d=\"M19 3H5c-1.1 0-2 .9-2 2v14c0 1.1.9 2 2 2h14c1.1 0 2-.9 2-2V5c0-1.1-.9-2-2-2zM9 17H7v-7h2v7zm4 0h-2V7h2v10zm4 0h-2v-4h2v4z\"/>\n",
              "    </g>\n",
              "</svg>\n",
              "  </button>\n",
              "\n",
              "<style>\n",
              "  .colab-df-quickchart {\n",
              "      --bg-color: #E8F0FE;\n",
              "      --fill-color: #1967D2;\n",
              "      --hover-bg-color: #E2EBFA;\n",
              "      --hover-fill-color: #174EA6;\n",
              "      --disabled-fill-color: #AAA;\n",
              "      --disabled-bg-color: #DDD;\n",
              "  }\n",
              "\n",
              "  [theme=dark] .colab-df-quickchart {\n",
              "      --bg-color: #3B4455;\n",
              "      --fill-color: #D2E3FC;\n",
              "      --hover-bg-color: #434B5C;\n",
              "      --hover-fill-color: #FFFFFF;\n",
              "      --disabled-bg-color: #3B4455;\n",
              "      --disabled-fill-color: #666;\n",
              "  }\n",
              "\n",
              "  .colab-df-quickchart {\n",
              "    background-color: var(--bg-color);\n",
              "    border: none;\n",
              "    border-radius: 50%;\n",
              "    cursor: pointer;\n",
              "    display: none;\n",
              "    fill: var(--fill-color);\n",
              "    height: 32px;\n",
              "    padding: 0;\n",
              "    width: 32px;\n",
              "  }\n",
              "\n",
              "  .colab-df-quickchart:hover {\n",
              "    background-color: var(--hover-bg-color);\n",
              "    box-shadow: 0 1px 2px rgba(60, 64, 67, 0.3), 0 1px 3px 1px rgba(60, 64, 67, 0.15);\n",
              "    fill: var(--button-hover-fill-color);\n",
              "  }\n",
              "\n",
              "  .colab-df-quickchart-complete:disabled,\n",
              "  .colab-df-quickchart-complete:disabled:hover {\n",
              "    background-color: var(--disabled-bg-color);\n",
              "    fill: var(--disabled-fill-color);\n",
              "    box-shadow: none;\n",
              "  }\n",
              "\n",
              "  .colab-df-spinner {\n",
              "    border: 2px solid var(--fill-color);\n",
              "    border-color: transparent;\n",
              "    border-bottom-color: var(--fill-color);\n",
              "    animation:\n",
              "      spin 1s steps(1) infinite;\n",
              "  }\n",
              "\n",
              "  @keyframes spin {\n",
              "    0% {\n",
              "      border-color: transparent;\n",
              "      border-bottom-color: var(--fill-color);\n",
              "      border-left-color: var(--fill-color);\n",
              "    }\n",
              "    20% {\n",
              "      border-color: transparent;\n",
              "      border-left-color: var(--fill-color);\n",
              "      border-top-color: var(--fill-color);\n",
              "    }\n",
              "    30% {\n",
              "      border-color: transparent;\n",
              "      border-left-color: var(--fill-color);\n",
              "      border-top-color: var(--fill-color);\n",
              "      border-right-color: var(--fill-color);\n",
              "    }\n",
              "    40% {\n",
              "      border-color: transparent;\n",
              "      border-right-color: var(--fill-color);\n",
              "      border-top-color: var(--fill-color);\n",
              "    }\n",
              "    60% {\n",
              "      border-color: transparent;\n",
              "      border-right-color: var(--fill-color);\n",
              "    }\n",
              "    80% {\n",
              "      border-color: transparent;\n",
              "      border-right-color: var(--fill-color);\n",
              "      border-bottom-color: var(--fill-color);\n",
              "    }\n",
              "    90% {\n",
              "      border-color: transparent;\n",
              "      border-bottom-color: var(--fill-color);\n",
              "    }\n",
              "  }\n",
              "</style>\n",
              "\n",
              "  <script>\n",
              "    async function quickchart(key) {\n",
              "      const quickchartButtonEl =\n",
              "        document.querySelector('#' + key + ' button');\n",
              "      quickchartButtonEl.disabled = true;  // To prevent multiple clicks.\n",
              "      quickchartButtonEl.classList.add('colab-df-spinner');\n",
              "      try {\n",
              "        const charts = await google.colab.kernel.invokeFunction(\n",
              "            'suggestCharts', [key], {});\n",
              "      } catch (error) {\n",
              "        console.error('Error during call to suggestCharts:', error);\n",
              "      }\n",
              "      quickchartButtonEl.classList.remove('colab-df-spinner');\n",
              "      quickchartButtonEl.classList.add('colab-df-quickchart-complete');\n",
              "    }\n",
              "    (() => {\n",
              "      let quickchartButtonEl =\n",
              "        document.querySelector('#df-6e111651-c31d-4fea-8f14-c562beabffde button');\n",
              "      quickchartButtonEl.style.display =\n",
              "        google.colab.kernel.accessAllowed ? 'block' : 'none';\n",
              "    })();\n",
              "  </script>\n",
              "</div>\n",
              "\n",
              "    </div>\n",
              "  </div>\n"
            ],
            "application/vnd.google.colaboratory.intrinsic+json": {
              "type": "dataframe",
              "variable_name": "df",
              "summary": "{\n  \"name\": \"df\",\n  \"rows\": 9261,\n  \"fields\": [\n    {\n      \"column\": \"Service Area\",\n      \"properties\": {\n        \"dtype\": \"category\",\n        \"num_unique_values\": 24,\n        \"samples\": [\n          \"Commissioning\",\n          \"Internal Audit & CAFT\",\n          \"Adults and Communities\"\n        ],\n        \"semantic_type\": \"\",\n        \"description\": \"\"\n      }\n    },\n    {\n      \"column\": \"Account Description\",\n      \"properties\": {\n        \"dtype\": \"category\",\n        \"num_unique_values\": 63,\n        \"samples\": [\n          \"Clothing - Uniforms\",\n          \"Catering Recharge\",\n          \"Books-CDs-Audio-Video\"\n        ],\n        \"semantic_type\": \"\",\n        \"description\": \"\"\n      }\n    },\n    {\n      \"column\": \"Creditor\",\n      \"properties\": {\n        \"dtype\": \"category\",\n        \"num_unique_values\": 1570,\n        \"samples\": [\n          \"CANNONS - SEYMOUR\",\n          \"MAGSUBCRIPTIONS COM\",\n          \"HANDY MOVES\"\n        ],\n        \"semantic_type\": \"\",\n        \"description\": \"\"\n      }\n    },\n    {\n      \"column\": \"Transaction Date\",\n      \"properties\": {\n        \"dtype\": \"date\",\n        \"min\": \"2014-04-02 00:00:00\",\n        \"max\": \"2016-09-02 00:00:00\",\n        \"num_unique_values\": 588,\n        \"samples\": [\n          \"2014-07-23 00:00:00\",\n          \"2014-12-09 00:00:00\",\n          \"2014-06-30 00:00:00\"\n        ],\n        \"semantic_type\": \"\",\n        \"description\": \"\"\n      }\n    },\n    {\n      \"column\": \"Journal Reference\",\n      \"properties\": {\n        \"dtype\": \"number\",\n        \"std\": 2434,\n        \"min\": 1,\n        \"max\": 9328,\n        \"num_unique_values\": 7605,\n        \"samples\": [\n          3058,\n          7922,\n          387\n        ],\n        \"semantic_type\": \"\",\n        \"description\": \"\"\n      }\n    },\n    {\n      \"column\": \"Total\",\n      \"properties\": {\n        \"dtype\": \"number\",\n        \"std\": 414.3058245961443,\n        \"min\": 0.0,\n        \"max\": 15340.8,\n        \"num_unique_values\": 4538,\n        \"samples\": [\n          24.99,\n          23.59,\n          105.37\n        ],\n        \"semantic_type\": \"\",\n        \"description\": \"\"\n      }\n    }\n  ]\n}"
            }
          },
          "metadata": {},
          "execution_count": 257
        }
      ]
    },
    {
      "cell_type": "code",
      "source": [
        "summary_stats = df.groupby('Service Area')['Total'].agg(['mean', 'median', 'std', 'min', 'max', 'count'])\n",
        "\n",
        "# Displaying the summary statistics\n",
        "print(summary_stats)"
      ],
      "metadata": {
        "colab": {
          "base_uri": "https://localhost:8080/"
        },
        "id": "z6GEfC1DjNk7",
        "outputId": "a60abfed-5383-43c2-c5af-80d3d0170e63"
      },
      "execution_count": null,
      "outputs": [
        {
          "output_type": "stream",
          "name": "stdout",
          "text": [
            "                                       mean   median          std     min  \\\n",
            "Service Area                                                                \n",
            "Adults and Communities           154.600588  105.000   224.316876    3.29   \n",
            "Assurance                         76.779177   12.520   314.905001    0.37   \n",
            "CSG Managed Budget              2088.306765  729.000  2458.574721    4.86   \n",
            "Children's Education & Skills     98.204543   19.170   140.216984    0.24   \n",
            "Children's Family Services        69.359722   25.300   125.676430    0.00   \n",
            "Children's Service DSG           129.537257   60.600   170.533715    1.10   \n",
            "Childrens Services                73.090294   23.400   216.257972    0.55   \n",
            "Commercial                       391.864286  262.750   384.816592   15.00   \n",
            "Commissioning                    166.462869   59.000   368.014127    0.29   \n",
            "Control Accounts                  23.838750    8.135    31.462986    3.06   \n",
            "Corporate Accounting             132.982500  144.990    70.003861   50.00   \n",
            "Customer Support Group          1720.135506  300.000  2782.040126    8.24   \n",
            "Deputy Chief Operating Officer    36.888319   10.000    72.427270    2.15   \n",
            "Education                        134.896211   44.500   170.098092    0.50   \n",
            "Family Services                   65.630814   25.170   113.667373    0.35   \n",
            "Governance                      1780.312500  348.465  2848.261569   53.94   \n",
            "Internal Audit & CAFT             65.104545   23.400   115.227128    4.00   \n",
            "NSCSO                            151.833333  145.500   145.103699   10.00   \n",
            "Parking & Infrastructure         156.184000   51.020   199.176960   28.43   \n",
            "Public Health                      7.750000    7.750     4.525483    4.55   \n",
            "Regional Enterprise              375.400000   60.000   710.412415   12.00   \n",
            "Strategic Commissioning Board    244.000000  244.000          NaN  244.00   \n",
            "Street Scene                      64.929744   41.730    79.292731    2.99   \n",
            "Streetscene                      176.870757  167.500   202.029108    2.49   \n",
            "\n",
            "                                     max  count  \n",
            "Service Area                                     \n",
            "Adults and Communities           1391.04    153  \n",
            "Assurance                        4342.20    243  \n",
            "CSG Managed Budget               8058.00     34  \n",
            "Children's Education & Skills     987.47    623  \n",
            "Children's Family Services       2262.91   5105  \n",
            "Children's Service DSG           1500.00    226  \n",
            "Childrens Services               6000.00   1260  \n",
            "Commercial                       1008.00      7  \n",
            "Commissioning                    3984.00    251  \n",
            "Control Accounts                   83.31      8  \n",
            "Corporate Accounting              191.95      4  \n",
            "Customer Support Group          15340.80     89  \n",
            "Deputy Chief Operating Officer    460.00    113  \n",
            "Education                         830.10     95  \n",
            "Family Services                   989.29    725  \n",
            "Governance                       6388.20      8  \n",
            "Internal Audit & CAFT             403.20     11  \n",
            "NSCSO                             300.00      3  \n",
            "Parking & Infrastructure          500.00      5  \n",
            "Public Health                      10.95      2  \n",
            "Regional Enterprise              1645.00      5  \n",
            "Strategic Commissioning Board     244.00      1  \n",
            "Street Scene                      400.00     39  \n",
            "Streetscene                      2295.60    251  \n"
          ]
        }
      ]
    },
    {
      "cell_type": "code",
      "source": [
        "refunds_1 =df[df['Total']<0]\n",
        "print(refunds_1)"
      ],
      "metadata": {
        "colab": {
          "base_uri": "https://localhost:8080/"
        },
        "id": "RwK6gjBNkcoN",
        "outputId": "3cfe7200-97e1-4e95-ab90-65d5e0a3025f"
      },
      "execution_count": null,
      "outputs": [
        {
          "output_type": "stream",
          "name": "stdout",
          "text": [
            "                    Service Area             Account Description  \\\n",
            "8617                   Assurance           Fixtures and fittings   \n",
            "3117  Children's Family Services  Private Contractors - Third Pa   \n",
            "833                Public Health           Books-CDs-Audio-Video   \n",
            "\n",
            "                                 Creditor Transaction Date  Journal Reference  \\\n",
            "8617  MARQUEE CARPETS LIMITEWALTHAM CROSS       2016-08-19               9175   \n",
            "3117                             HSS HIRE       2014-11-06               3745   \n",
            "833                   Amazon Mktplce EU-U       2014-06-03               1192   \n",
            "\n",
            "        Total  \n",
            "8617 -1315.20  \n",
            "3117   -32.08  \n",
            "833    -13.30  \n"
          ]
        }
      ]
    },
    {
      "cell_type": "code",
      "source": [
        "df.head(10)"
      ],
      "metadata": {
        "colab": {
          "base_uri": "https://localhost:8080/",
          "height": 363
        },
        "id": "xOgFgUhXEOmP",
        "outputId": "be09e3bd-233f-449c-cb6f-8e9c4c8466d7"
      },
      "execution_count": null,
      "outputs": [
        {
          "output_type": "execute_result",
          "data": {
            "text/plain": [
              "                    Service Area  transaction_count  average_jv_value  \\\n",
              "0         Adults and Communities                162        153.057469   \n",
              "1                      Assurance                243         76.779177   \n",
              "2             CSG Managed Budget                 38       2244.011316   \n",
              "3  Children's Education & Skills                624         97.843958   \n",
              "4     Children's Family Services               5082         69.048605   \n",
              "5         Children's Service DSG                237        132.493966   \n",
              "6             Childrens Services               1282         73.374961   \n",
              "7                     Commercial                  7        391.864286   \n",
              "8                  Commissioning                250        166.433080   \n",
              "9               Control Accounts                  8         23.838750   \n",
              "\n",
              "   median_jv_value  total_jv_value  Cluster  \n",
              "0          105.000        24795.31        0  \n",
              "1           12.520        18657.34        0  \n",
              "2          997.500        85272.43        2  \n",
              "3           19.170        61054.63        0  \n",
              "4           25.160       350905.01        1  \n",
              "5           65.590        31401.07        0  \n",
              "6           23.475        94066.70        0  \n",
              "7          262.750         2743.05        0  \n",
              "8           59.000        41608.27        0  \n",
              "9            8.135          190.71        0  "
            ],
            "text/html": [
              "\n",
              "  <div id=\"df-d82c626c-0bd9-47b0-86f5-d96d6cd3ac10\" class=\"colab-df-container\">\n",
              "    <div>\n",
              "<style scoped>\n",
              "    .dataframe tbody tr th:only-of-type {\n",
              "        vertical-align: middle;\n",
              "    }\n",
              "\n",
              "    .dataframe tbody tr th {\n",
              "        vertical-align: top;\n",
              "    }\n",
              "\n",
              "    .dataframe thead th {\n",
              "        text-align: right;\n",
              "    }\n",
              "</style>\n",
              "<table border=\"1\" class=\"dataframe\">\n",
              "  <thead>\n",
              "    <tr style=\"text-align: right;\">\n",
              "      <th></th>\n",
              "      <th>Service Area</th>\n",
              "      <th>transaction_count</th>\n",
              "      <th>average_jv_value</th>\n",
              "      <th>median_jv_value</th>\n",
              "      <th>total_jv_value</th>\n",
              "      <th>Cluster</th>\n",
              "    </tr>\n",
              "  </thead>\n",
              "  <tbody>\n",
              "    <tr>\n",
              "      <th>0</th>\n",
              "      <td>Adults and Communities</td>\n",
              "      <td>162</td>\n",
              "      <td>153.057469</td>\n",
              "      <td>105.000</td>\n",
              "      <td>24795.31</td>\n",
              "      <td>0</td>\n",
              "    </tr>\n",
              "    <tr>\n",
              "      <th>1</th>\n",
              "      <td>Assurance</td>\n",
              "      <td>243</td>\n",
              "      <td>76.779177</td>\n",
              "      <td>12.520</td>\n",
              "      <td>18657.34</td>\n",
              "      <td>0</td>\n",
              "    </tr>\n",
              "    <tr>\n",
              "      <th>2</th>\n",
              "      <td>CSG Managed Budget</td>\n",
              "      <td>38</td>\n",
              "      <td>2244.011316</td>\n",
              "      <td>997.500</td>\n",
              "      <td>85272.43</td>\n",
              "      <td>2</td>\n",
              "    </tr>\n",
              "    <tr>\n",
              "      <th>3</th>\n",
              "      <td>Children's Education &amp; Skills</td>\n",
              "      <td>624</td>\n",
              "      <td>97.843958</td>\n",
              "      <td>19.170</td>\n",
              "      <td>61054.63</td>\n",
              "      <td>0</td>\n",
              "    </tr>\n",
              "    <tr>\n",
              "      <th>4</th>\n",
              "      <td>Children's Family Services</td>\n",
              "      <td>5082</td>\n",
              "      <td>69.048605</td>\n",
              "      <td>25.160</td>\n",
              "      <td>350905.01</td>\n",
              "      <td>1</td>\n",
              "    </tr>\n",
              "    <tr>\n",
              "      <th>5</th>\n",
              "      <td>Children's Service DSG</td>\n",
              "      <td>237</td>\n",
              "      <td>132.493966</td>\n",
              "      <td>65.590</td>\n",
              "      <td>31401.07</td>\n",
              "      <td>0</td>\n",
              "    </tr>\n",
              "    <tr>\n",
              "      <th>6</th>\n",
              "      <td>Childrens Services</td>\n",
              "      <td>1282</td>\n",
              "      <td>73.374961</td>\n",
              "      <td>23.475</td>\n",
              "      <td>94066.70</td>\n",
              "      <td>0</td>\n",
              "    </tr>\n",
              "    <tr>\n",
              "      <th>7</th>\n",
              "      <td>Commercial</td>\n",
              "      <td>7</td>\n",
              "      <td>391.864286</td>\n",
              "      <td>262.750</td>\n",
              "      <td>2743.05</td>\n",
              "      <td>0</td>\n",
              "    </tr>\n",
              "    <tr>\n",
              "      <th>8</th>\n",
              "      <td>Commissioning</td>\n",
              "      <td>250</td>\n",
              "      <td>166.433080</td>\n",
              "      <td>59.000</td>\n",
              "      <td>41608.27</td>\n",
              "      <td>0</td>\n",
              "    </tr>\n",
              "    <tr>\n",
              "      <th>9</th>\n",
              "      <td>Control Accounts</td>\n",
              "      <td>8</td>\n",
              "      <td>23.838750</td>\n",
              "      <td>8.135</td>\n",
              "      <td>190.71</td>\n",
              "      <td>0</td>\n",
              "    </tr>\n",
              "  </tbody>\n",
              "</table>\n",
              "</div>\n",
              "    <div class=\"colab-df-buttons\">\n",
              "\n",
              "  <div class=\"colab-df-container\">\n",
              "    <button class=\"colab-df-convert\" onclick=\"convertToInteractive('df-d82c626c-0bd9-47b0-86f5-d96d6cd3ac10')\"\n",
              "            title=\"Convert this dataframe to an interactive table.\"\n",
              "            style=\"display:none;\">\n",
              "\n",
              "  <svg xmlns=\"http://www.w3.org/2000/svg\" height=\"24px\" viewBox=\"0 -960 960 960\">\n",
              "    <path d=\"M120-120v-720h720v720H120Zm60-500h600v-160H180v160Zm220 220h160v-160H400v160Zm0 220h160v-160H400v160ZM180-400h160v-160H180v160Zm440 0h160v-160H620v160ZM180-180h160v-160H180v160Zm440 0h160v-160H620v160Z\"/>\n",
              "  </svg>\n",
              "    </button>\n",
              "\n",
              "  <style>\n",
              "    .colab-df-container {\n",
              "      display:flex;\n",
              "      gap: 12px;\n",
              "    }\n",
              "\n",
              "    .colab-df-convert {\n",
              "      background-color: #E8F0FE;\n",
              "      border: none;\n",
              "      border-radius: 50%;\n",
              "      cursor: pointer;\n",
              "      display: none;\n",
              "      fill: #1967D2;\n",
              "      height: 32px;\n",
              "      padding: 0 0 0 0;\n",
              "      width: 32px;\n",
              "    }\n",
              "\n",
              "    .colab-df-convert:hover {\n",
              "      background-color: #E2EBFA;\n",
              "      box-shadow: 0px 1px 2px rgba(60, 64, 67, 0.3), 0px 1px 3px 1px rgba(60, 64, 67, 0.15);\n",
              "      fill: #174EA6;\n",
              "    }\n",
              "\n",
              "    .colab-df-buttons div {\n",
              "      margin-bottom: 4px;\n",
              "    }\n",
              "\n",
              "    [theme=dark] .colab-df-convert {\n",
              "      background-color: #3B4455;\n",
              "      fill: #D2E3FC;\n",
              "    }\n",
              "\n",
              "    [theme=dark] .colab-df-convert:hover {\n",
              "      background-color: #434B5C;\n",
              "      box-shadow: 0px 1px 3px 1px rgba(0, 0, 0, 0.15);\n",
              "      filter: drop-shadow(0px 1px 2px rgba(0, 0, 0, 0.3));\n",
              "      fill: #FFFFFF;\n",
              "    }\n",
              "  </style>\n",
              "\n",
              "    <script>\n",
              "      const buttonEl =\n",
              "        document.querySelector('#df-d82c626c-0bd9-47b0-86f5-d96d6cd3ac10 button.colab-df-convert');\n",
              "      buttonEl.style.display =\n",
              "        google.colab.kernel.accessAllowed ? 'block' : 'none';\n",
              "\n",
              "      async function convertToInteractive(key) {\n",
              "        const element = document.querySelector('#df-d82c626c-0bd9-47b0-86f5-d96d6cd3ac10');\n",
              "        const dataTable =\n",
              "          await google.colab.kernel.invokeFunction('convertToInteractive',\n",
              "                                                    [key], {});\n",
              "        if (!dataTable) return;\n",
              "\n",
              "        const docLinkHtml = 'Like what you see? Visit the ' +\n",
              "          '<a target=\"_blank\" href=https://colab.research.google.com/notebooks/data_table.ipynb>data table notebook</a>'\n",
              "          + ' to learn more about interactive tables.';\n",
              "        element.innerHTML = '';\n",
              "        dataTable['output_type'] = 'display_data';\n",
              "        await google.colab.output.renderOutput(dataTable, element);\n",
              "        const docLink = document.createElement('div');\n",
              "        docLink.innerHTML = docLinkHtml;\n",
              "        element.appendChild(docLink);\n",
              "      }\n",
              "    </script>\n",
              "  </div>\n",
              "\n",
              "\n",
              "<div id=\"df-a62bffe2-760e-40e6-9bb3-c6f3c69d3849\">\n",
              "  <button class=\"colab-df-quickchart\" onclick=\"quickchart('df-a62bffe2-760e-40e6-9bb3-c6f3c69d3849')\"\n",
              "            title=\"Suggest charts\"\n",
              "            style=\"display:none;\">\n",
              "\n",
              "<svg xmlns=\"http://www.w3.org/2000/svg\" height=\"24px\"viewBox=\"0 0 24 24\"\n",
              "     width=\"24px\">\n",
              "    <g>\n",
              "        <path d=\"M19 3H5c-1.1 0-2 .9-2 2v14c0 1.1.9 2 2 2h14c1.1 0 2-.9 2-2V5c0-1.1-.9-2-2-2zM9 17H7v-7h2v7zm4 0h-2V7h2v10zm4 0h-2v-4h2v4z\"/>\n",
              "    </g>\n",
              "</svg>\n",
              "  </button>\n",
              "\n",
              "<style>\n",
              "  .colab-df-quickchart {\n",
              "      --bg-color: #E8F0FE;\n",
              "      --fill-color: #1967D2;\n",
              "      --hover-bg-color: #E2EBFA;\n",
              "      --hover-fill-color: #174EA6;\n",
              "      --disabled-fill-color: #AAA;\n",
              "      --disabled-bg-color: #DDD;\n",
              "  }\n",
              "\n",
              "  [theme=dark] .colab-df-quickchart {\n",
              "      --bg-color: #3B4455;\n",
              "      --fill-color: #D2E3FC;\n",
              "      --hover-bg-color: #434B5C;\n",
              "      --hover-fill-color: #FFFFFF;\n",
              "      --disabled-bg-color: #3B4455;\n",
              "      --disabled-fill-color: #666;\n",
              "  }\n",
              "\n",
              "  .colab-df-quickchart {\n",
              "    background-color: var(--bg-color);\n",
              "    border: none;\n",
              "    border-radius: 50%;\n",
              "    cursor: pointer;\n",
              "    display: none;\n",
              "    fill: var(--fill-color);\n",
              "    height: 32px;\n",
              "    padding: 0;\n",
              "    width: 32px;\n",
              "  }\n",
              "\n",
              "  .colab-df-quickchart:hover {\n",
              "    background-color: var(--hover-bg-color);\n",
              "    box-shadow: 0 1px 2px rgba(60, 64, 67, 0.3), 0 1px 3px 1px rgba(60, 64, 67, 0.15);\n",
              "    fill: var(--button-hover-fill-color);\n",
              "  }\n",
              "\n",
              "  .colab-df-quickchart-complete:disabled,\n",
              "  .colab-df-quickchart-complete:disabled:hover {\n",
              "    background-color: var(--disabled-bg-color);\n",
              "    fill: var(--disabled-fill-color);\n",
              "    box-shadow: none;\n",
              "  }\n",
              "\n",
              "  .colab-df-spinner {\n",
              "    border: 2px solid var(--fill-color);\n",
              "    border-color: transparent;\n",
              "    border-bottom-color: var(--fill-color);\n",
              "    animation:\n",
              "      spin 1s steps(1) infinite;\n",
              "  }\n",
              "\n",
              "  @keyframes spin {\n",
              "    0% {\n",
              "      border-color: transparent;\n",
              "      border-bottom-color: var(--fill-color);\n",
              "      border-left-color: var(--fill-color);\n",
              "    }\n",
              "    20% {\n",
              "      border-color: transparent;\n",
              "      border-left-color: var(--fill-color);\n",
              "      border-top-color: var(--fill-color);\n",
              "    }\n",
              "    30% {\n",
              "      border-color: transparent;\n",
              "      border-left-color: var(--fill-color);\n",
              "      border-top-color: var(--fill-color);\n",
              "      border-right-color: var(--fill-color);\n",
              "    }\n",
              "    40% {\n",
              "      border-color: transparent;\n",
              "      border-right-color: var(--fill-color);\n",
              "      border-top-color: var(--fill-color);\n",
              "    }\n",
              "    60% {\n",
              "      border-color: transparent;\n",
              "      border-right-color: var(--fill-color);\n",
              "    }\n",
              "    80% {\n",
              "      border-color: transparent;\n",
              "      border-right-color: var(--fill-color);\n",
              "      border-bottom-color: var(--fill-color);\n",
              "    }\n",
              "    90% {\n",
              "      border-color: transparent;\n",
              "      border-bottom-color: var(--fill-color);\n",
              "    }\n",
              "  }\n",
              "</style>\n",
              "\n",
              "  <script>\n",
              "    async function quickchart(key) {\n",
              "      const quickchartButtonEl =\n",
              "        document.querySelector('#' + key + ' button');\n",
              "      quickchartButtonEl.disabled = true;  // To prevent multiple clicks.\n",
              "      quickchartButtonEl.classList.add('colab-df-spinner');\n",
              "      try {\n",
              "        const charts = await google.colab.kernel.invokeFunction(\n",
              "            'suggestCharts', [key], {});\n",
              "      } catch (error) {\n",
              "        console.error('Error during call to suggestCharts:', error);\n",
              "      }\n",
              "      quickchartButtonEl.classList.remove('colab-df-spinner');\n",
              "      quickchartButtonEl.classList.add('colab-df-quickchart-complete');\n",
              "    }\n",
              "    (() => {\n",
              "      let quickchartButtonEl =\n",
              "        document.querySelector('#df-a62bffe2-760e-40e6-9bb3-c6f3c69d3849 button');\n",
              "      quickchartButtonEl.style.display =\n",
              "        google.colab.kernel.accessAllowed ? 'block' : 'none';\n",
              "    })();\n",
              "  </script>\n",
              "</div>\n",
              "\n",
              "    </div>\n",
              "  </div>\n"
            ],
            "application/vnd.google.colaboratory.intrinsic+json": {
              "type": "dataframe",
              "variable_name": "df",
              "summary": "{\n  \"name\": \"df\",\n  \"rows\": 24,\n  \"fields\": [\n    {\n      \"column\": \"Service Area\",\n      \"properties\": {\n        \"dtype\": \"string\",\n        \"num_unique_values\": 24,\n        \"samples\": [\n          \"Commissioning\",\n          \"Internal Audit & CAFT\",\n          \"Adults and Communities\"\n        ],\n        \"semantic_type\": \"\",\n        \"description\": \"\"\n      }\n    },\n    {\n      \"column\": \"transaction_count\",\n      \"properties\": {\n        \"dtype\": \"number\",\n        \"std\": 1049,\n        \"min\": 1,\n        \"max\": 5082,\n        \"num_unique_values\": 23,\n        \"samples\": [\n          9,\n          8,\n          162\n        ],\n        \"semantic_type\": \"\",\n        \"description\": \"\"\n      }\n    },\n    {\n      \"column\": \"average_jv_value\",\n      \"properties\": {\n        \"dtype\": \"number\",\n        \"std\": 593.1228530904098,\n        \"min\": 7.75,\n        \"max\": 2244.0113157894734,\n        \"num_unique_values\": 24,\n        \"samples\": [\n          166.43308,\n          67.92916666666666,\n          153.05746913580248\n        ],\n        \"semantic_type\": \"\",\n        \"description\": \"\"\n      }\n    },\n    {\n      \"column\": \"median_jv_value\",\n      \"properties\": {\n        \"dtype\": \"number\",\n        \"std\": 205.85893389602936,\n        \"min\": 7.75,\n        \"max\": 997.5,\n        \"num_unique_values\": 24,\n        \"samples\": [\n          59.0,\n          26.7,\n          105.0\n        ],\n        \"semantic_type\": \"\",\n        \"description\": \"\"\n      }\n    },\n    {\n      \"column\": \"total_jv_value\",\n      \"properties\": {\n        \"dtype\": \"number\",\n        \"std\": 76232.08474762151,\n        \"min\": 15.5,\n        \"max\": 350905.01,\n        \"num_unique_values\": 24,\n        \"samples\": [\n          41608.27,\n          815.15,\n          24795.31\n        ],\n        \"semantic_type\": \"\",\n        \"description\": \"\"\n      }\n    },\n    {\n      \"column\": \"Cluster\",\n      \"properties\": {\n        \"dtype\": \"int32\",\n        \"num_unique_values\": 3,\n        \"samples\": [\n          0,\n          2,\n          1\n        ],\n        \"semantic_type\": \"\",\n        \"description\": \"\"\n      }\n    }\n  ]\n}"
            }
          },
          "metadata": {},
          "execution_count": 291
        }
      ]
    },
    {
      "cell_type": "code",
      "source": [
        "df.info()"
      ],
      "metadata": {
        "colab": {
          "base_uri": "https://localhost:8080/"
        },
        "id": "Q9JMnY2iETUK",
        "outputId": "428a255e-ef07-4ef5-a92b-ed0038c992cc"
      },
      "execution_count": null,
      "outputs": [
        {
          "output_type": "stream",
          "name": "stdout",
          "text": [
            "<class 'pandas.core.frame.DataFrame'>\n",
            "RangeIndex: 24 entries, 0 to 23\n",
            "Data columns (total 6 columns):\n",
            " #   Column             Non-Null Count  Dtype  \n",
            "---  ------             --------------  -----  \n",
            " 0   Service Area       24 non-null     object \n",
            " 1   transaction_count  24 non-null     int64  \n",
            " 2   average_jv_value   24 non-null     float64\n",
            " 3   median_jv_value    24 non-null     float64\n",
            " 4   total_jv_value     24 non-null     float64\n",
            " 5   Cluster            24 non-null     int32  \n",
            "dtypes: float64(3), int32(1), int64(1), object(1)\n",
            "memory usage: 1.2+ KB\n"
          ]
        }
      ]
    },
    {
      "cell_type": "code",
      "source": [],
      "metadata": {
        "id": "VzSWNgfqElIh"
      },
      "execution_count": null,
      "outputs": []
    },
    {
      "cell_type": "markdown",
      "source": [
        "#starting quarters"
      ],
      "metadata": {
        "id": "K0Q90x9I94RW"
      }
    },
    {
      "cell_type": "code",
      "source": [
        "df['Year'] = df['Transaction Date'].dt.year\n",
        "df['Quarter'] = df['Transaction Date'].dt.to_period('Q')\n",
        "df.head()"
      ],
      "metadata": {
        "colab": {
          "base_uri": "https://localhost:8080/",
          "height": 547
        },
        "id": "Q-VBfZqn9wzq",
        "outputId": "f8af405e-0fa7-4020-c775-bf032c53f64d"
      },
      "execution_count": null,
      "outputs": [
        {
          "output_type": "error",
          "ename": "KeyError",
          "evalue": "'Transaction Date'",
          "traceback": [
            "\u001b[0;31m---------------------------------------------------------------------------\u001b[0m",
            "\u001b[0;31mKeyError\u001b[0m                                  Traceback (most recent call last)",
            "\u001b[0;32m/usr/local/lib/python3.10/dist-packages/pandas/core/indexes/base.py\u001b[0m in \u001b[0;36mget_loc\u001b[0;34m(self, key)\u001b[0m\n\u001b[1;32m   3790\u001b[0m         \u001b[0;32mtry\u001b[0m\u001b[0;34m:\u001b[0m\u001b[0;34m\u001b[0m\u001b[0;34m\u001b[0m\u001b[0m\n\u001b[0;32m-> 3791\u001b[0;31m             \u001b[0;32mreturn\u001b[0m \u001b[0mself\u001b[0m\u001b[0;34m.\u001b[0m\u001b[0m_engine\u001b[0m\u001b[0;34m.\u001b[0m\u001b[0mget_loc\u001b[0m\u001b[0;34m(\u001b[0m\u001b[0mcasted_key\u001b[0m\u001b[0;34m)\u001b[0m\u001b[0;34m\u001b[0m\u001b[0;34m\u001b[0m\u001b[0m\n\u001b[0m\u001b[1;32m   3792\u001b[0m         \u001b[0;32mexcept\u001b[0m \u001b[0mKeyError\u001b[0m \u001b[0;32mas\u001b[0m \u001b[0merr\u001b[0m\u001b[0;34m:\u001b[0m\u001b[0;34m\u001b[0m\u001b[0;34m\u001b[0m\u001b[0m\n",
            "\u001b[0;32mindex.pyx\u001b[0m in \u001b[0;36mpandas._libs.index.IndexEngine.get_loc\u001b[0;34m()\u001b[0m\n",
            "\u001b[0;32mindex.pyx\u001b[0m in \u001b[0;36mpandas._libs.index.IndexEngine.get_loc\u001b[0;34m()\u001b[0m\n",
            "\u001b[0;32mpandas/_libs/hashtable_class_helper.pxi\u001b[0m in \u001b[0;36mpandas._libs.hashtable.PyObjectHashTable.get_item\u001b[0;34m()\u001b[0m\n",
            "\u001b[0;32mpandas/_libs/hashtable_class_helper.pxi\u001b[0m in \u001b[0;36mpandas._libs.hashtable.PyObjectHashTable.get_item\u001b[0;34m()\u001b[0m\n",
            "\u001b[0;31mKeyError\u001b[0m: 'Transaction Date'",
            "\nThe above exception was the direct cause of the following exception:\n",
            "\u001b[0;31mKeyError\u001b[0m                                  Traceback (most recent call last)",
            "\u001b[0;32m<ipython-input-293-35542809ddf6>\u001b[0m in \u001b[0;36m<cell line: 1>\u001b[0;34m()\u001b[0m\n\u001b[0;32m----> 1\u001b[0;31m \u001b[0mdf\u001b[0m\u001b[0;34m[\u001b[0m\u001b[0;34m'Year'\u001b[0m\u001b[0;34m]\u001b[0m \u001b[0;34m=\u001b[0m \u001b[0mdf\u001b[0m\u001b[0;34m[\u001b[0m\u001b[0;34m'Transaction Date'\u001b[0m\u001b[0;34m]\u001b[0m\u001b[0;34m.\u001b[0m\u001b[0mdt\u001b[0m\u001b[0;34m.\u001b[0m\u001b[0myear\u001b[0m\u001b[0;34m\u001b[0m\u001b[0;34m\u001b[0m\u001b[0m\n\u001b[0m\u001b[1;32m      2\u001b[0m \u001b[0mdf\u001b[0m\u001b[0;34m[\u001b[0m\u001b[0;34m'Quarter'\u001b[0m\u001b[0;34m]\u001b[0m \u001b[0;34m=\u001b[0m \u001b[0mdf\u001b[0m\u001b[0;34m[\u001b[0m\u001b[0;34m'Transaction Date'\u001b[0m\u001b[0;34m]\u001b[0m\u001b[0;34m.\u001b[0m\u001b[0mdt\u001b[0m\u001b[0;34m.\u001b[0m\u001b[0mto_period\u001b[0m\u001b[0;34m(\u001b[0m\u001b[0;34m'Q'\u001b[0m\u001b[0;34m)\u001b[0m\u001b[0;34m\u001b[0m\u001b[0;34m\u001b[0m\u001b[0m\n\u001b[1;32m      3\u001b[0m \u001b[0mdf\u001b[0m\u001b[0;34m.\u001b[0m\u001b[0mhead\u001b[0m\u001b[0;34m(\u001b[0m\u001b[0;34m)\u001b[0m\u001b[0;34m\u001b[0m\u001b[0;34m\u001b[0m\u001b[0m\n",
            "\u001b[0;32m/usr/local/lib/python3.10/dist-packages/pandas/core/frame.py\u001b[0m in \u001b[0;36m__getitem__\u001b[0;34m(self, key)\u001b[0m\n\u001b[1;32m   3891\u001b[0m             \u001b[0;32mif\u001b[0m \u001b[0mself\u001b[0m\u001b[0;34m.\u001b[0m\u001b[0mcolumns\u001b[0m\u001b[0;34m.\u001b[0m\u001b[0mnlevels\u001b[0m \u001b[0;34m>\u001b[0m \u001b[0;36m1\u001b[0m\u001b[0;34m:\u001b[0m\u001b[0;34m\u001b[0m\u001b[0;34m\u001b[0m\u001b[0m\n\u001b[1;32m   3892\u001b[0m                 \u001b[0;32mreturn\u001b[0m \u001b[0mself\u001b[0m\u001b[0;34m.\u001b[0m\u001b[0m_getitem_multilevel\u001b[0m\u001b[0;34m(\u001b[0m\u001b[0mkey\u001b[0m\u001b[0;34m)\u001b[0m\u001b[0;34m\u001b[0m\u001b[0;34m\u001b[0m\u001b[0m\n\u001b[0;32m-> 3893\u001b[0;31m             \u001b[0mindexer\u001b[0m \u001b[0;34m=\u001b[0m \u001b[0mself\u001b[0m\u001b[0;34m.\u001b[0m\u001b[0mcolumns\u001b[0m\u001b[0;34m.\u001b[0m\u001b[0mget_loc\u001b[0m\u001b[0;34m(\u001b[0m\u001b[0mkey\u001b[0m\u001b[0;34m)\u001b[0m\u001b[0;34m\u001b[0m\u001b[0;34m\u001b[0m\u001b[0m\n\u001b[0m\u001b[1;32m   3894\u001b[0m             \u001b[0;32mif\u001b[0m \u001b[0mis_integer\u001b[0m\u001b[0;34m(\u001b[0m\u001b[0mindexer\u001b[0m\u001b[0;34m)\u001b[0m\u001b[0;34m:\u001b[0m\u001b[0;34m\u001b[0m\u001b[0;34m\u001b[0m\u001b[0m\n\u001b[1;32m   3895\u001b[0m                 \u001b[0mindexer\u001b[0m \u001b[0;34m=\u001b[0m \u001b[0;34m[\u001b[0m\u001b[0mindexer\u001b[0m\u001b[0;34m]\u001b[0m\u001b[0;34m\u001b[0m\u001b[0;34m\u001b[0m\u001b[0m\n",
            "\u001b[0;32m/usr/local/lib/python3.10/dist-packages/pandas/core/indexes/base.py\u001b[0m in \u001b[0;36mget_loc\u001b[0;34m(self, key)\u001b[0m\n\u001b[1;32m   3796\u001b[0m             ):\n\u001b[1;32m   3797\u001b[0m                 \u001b[0;32mraise\u001b[0m \u001b[0mInvalidIndexError\u001b[0m\u001b[0;34m(\u001b[0m\u001b[0mkey\u001b[0m\u001b[0;34m)\u001b[0m\u001b[0;34m\u001b[0m\u001b[0;34m\u001b[0m\u001b[0m\n\u001b[0;32m-> 3798\u001b[0;31m             \u001b[0;32mraise\u001b[0m \u001b[0mKeyError\u001b[0m\u001b[0;34m(\u001b[0m\u001b[0mkey\u001b[0m\u001b[0;34m)\u001b[0m \u001b[0;32mfrom\u001b[0m \u001b[0merr\u001b[0m\u001b[0;34m\u001b[0m\u001b[0;34m\u001b[0m\u001b[0m\n\u001b[0m\u001b[1;32m   3799\u001b[0m         \u001b[0;32mexcept\u001b[0m \u001b[0mTypeError\u001b[0m\u001b[0;34m:\u001b[0m\u001b[0;34m\u001b[0m\u001b[0;34m\u001b[0m\u001b[0m\n\u001b[1;32m   3800\u001b[0m             \u001b[0;31m# If we have a listlike key, _check_indexing_error will raise\u001b[0m\u001b[0;34m\u001b[0m\u001b[0;34m\u001b[0m\u001b[0m\n",
            "\u001b[0;31mKeyError\u001b[0m: 'Transaction Date'"
          ]
        }
      ]
    },
    {
      "cell_type": "code",
      "source": [
        "summary_df = df.groupby(['Service Area', 'Quarter']).agg(\n",
        "    transaction_count=('Total', 'size'),\n",
        "    average_transaction=('Total', 'mean'),\n",
        "    sum_transaction=('Total', 'sum')\n",
        ").reset_index()\n",
        "summary_df.head()"
      ],
      "metadata": {
        "id": "FtYMT2y3-8gZ",
        "colab": {
          "base_uri": "https://localhost:8080/",
          "height": 373
        },
        "outputId": "591b0fca-da83-437c-f579-291409755d4c"
      },
      "execution_count": null,
      "outputs": [
        {
          "output_type": "error",
          "ename": "KeyError",
          "evalue": "'Quarter'",
          "traceback": [
            "\u001b[0;31m---------------------------------------------------------------------------\u001b[0m",
            "\u001b[0;31mKeyError\u001b[0m                                  Traceback (most recent call last)",
            "\u001b[0;32m<ipython-input-294-346cad75962b>\u001b[0m in \u001b[0;36m<cell line: 1>\u001b[0;34m()\u001b[0m\n\u001b[0;32m----> 1\u001b[0;31m summary_df = df.groupby(['Service Area', 'Quarter']).agg(\n\u001b[0m\u001b[1;32m      2\u001b[0m     \u001b[0mtransaction_count\u001b[0m\u001b[0;34m=\u001b[0m\u001b[0;34m(\u001b[0m\u001b[0;34m'Total'\u001b[0m\u001b[0;34m,\u001b[0m \u001b[0;34m'size'\u001b[0m\u001b[0;34m)\u001b[0m\u001b[0;34m,\u001b[0m\u001b[0;34m\u001b[0m\u001b[0;34m\u001b[0m\u001b[0m\n\u001b[1;32m      3\u001b[0m     \u001b[0maverage_transaction\u001b[0m\u001b[0;34m=\u001b[0m\u001b[0;34m(\u001b[0m\u001b[0;34m'Total'\u001b[0m\u001b[0;34m,\u001b[0m \u001b[0;34m'mean'\u001b[0m\u001b[0;34m)\u001b[0m\u001b[0;34m,\u001b[0m\u001b[0;34m\u001b[0m\u001b[0;34m\u001b[0m\u001b[0m\n\u001b[1;32m      4\u001b[0m     \u001b[0msum_transaction\u001b[0m\u001b[0;34m=\u001b[0m\u001b[0;34m(\u001b[0m\u001b[0;34m'Total'\u001b[0m\u001b[0;34m,\u001b[0m \u001b[0;34m'sum'\u001b[0m\u001b[0;34m)\u001b[0m\u001b[0;34m\u001b[0m\u001b[0;34m\u001b[0m\u001b[0m\n\u001b[1;32m      5\u001b[0m ).reset_index()\n",
            "\u001b[0;32m/usr/local/lib/python3.10/dist-packages/pandas/core/frame.py\u001b[0m in \u001b[0;36mgroupby\u001b[0;34m(self, by, axis, level, as_index, sort, group_keys, observed, dropna)\u001b[0m\n\u001b[1;32m   8867\u001b[0m             \u001b[0;32mraise\u001b[0m \u001b[0mTypeError\u001b[0m\u001b[0;34m(\u001b[0m\u001b[0;34m\"You have to supply one of 'by' and 'level'\"\u001b[0m\u001b[0;34m)\u001b[0m\u001b[0;34m\u001b[0m\u001b[0;34m\u001b[0m\u001b[0m\n\u001b[1;32m   8868\u001b[0m \u001b[0;34m\u001b[0m\u001b[0m\n\u001b[0;32m-> 8869\u001b[0;31m         return DataFrameGroupBy(\n\u001b[0m\u001b[1;32m   8870\u001b[0m             \u001b[0mobj\u001b[0m\u001b[0;34m=\u001b[0m\u001b[0mself\u001b[0m\u001b[0;34m,\u001b[0m\u001b[0;34m\u001b[0m\u001b[0;34m\u001b[0m\u001b[0m\n\u001b[1;32m   8871\u001b[0m             \u001b[0mkeys\u001b[0m\u001b[0;34m=\u001b[0m\u001b[0mby\u001b[0m\u001b[0;34m,\u001b[0m\u001b[0;34m\u001b[0m\u001b[0;34m\u001b[0m\u001b[0m\n",
            "\u001b[0;32m/usr/local/lib/python3.10/dist-packages/pandas/core/groupby/groupby.py\u001b[0m in \u001b[0;36m__init__\u001b[0;34m(self, obj, keys, axis, level, grouper, exclusions, selection, as_index, sort, group_keys, observed, dropna)\u001b[0m\n\u001b[1;32m   1276\u001b[0m \u001b[0;34m\u001b[0m\u001b[0m\n\u001b[1;32m   1277\u001b[0m         \u001b[0;32mif\u001b[0m \u001b[0mgrouper\u001b[0m \u001b[0;32mis\u001b[0m \u001b[0;32mNone\u001b[0m\u001b[0;34m:\u001b[0m\u001b[0;34m\u001b[0m\u001b[0;34m\u001b[0m\u001b[0m\n\u001b[0;32m-> 1278\u001b[0;31m             grouper, exclusions, obj = get_grouper(\n\u001b[0m\u001b[1;32m   1279\u001b[0m                 \u001b[0mobj\u001b[0m\u001b[0;34m,\u001b[0m\u001b[0;34m\u001b[0m\u001b[0;34m\u001b[0m\u001b[0m\n\u001b[1;32m   1280\u001b[0m                 \u001b[0mkeys\u001b[0m\u001b[0;34m,\u001b[0m\u001b[0;34m\u001b[0m\u001b[0;34m\u001b[0m\u001b[0m\n",
            "\u001b[0;32m/usr/local/lib/python3.10/dist-packages/pandas/core/groupby/grouper.py\u001b[0m in \u001b[0;36mget_grouper\u001b[0;34m(obj, key, axis, level, sort, observed, validate, dropna)\u001b[0m\n\u001b[1;32m   1007\u001b[0m                 \u001b[0min_axis\u001b[0m\u001b[0;34m,\u001b[0m \u001b[0mlevel\u001b[0m\u001b[0;34m,\u001b[0m \u001b[0mgpr\u001b[0m \u001b[0;34m=\u001b[0m \u001b[0;32mFalse\u001b[0m\u001b[0;34m,\u001b[0m \u001b[0mgpr\u001b[0m\u001b[0;34m,\u001b[0m \u001b[0;32mNone\u001b[0m\u001b[0;34m\u001b[0m\u001b[0;34m\u001b[0m\u001b[0m\n\u001b[1;32m   1008\u001b[0m             \u001b[0;32melse\u001b[0m\u001b[0;34m:\u001b[0m\u001b[0;34m\u001b[0m\u001b[0;34m\u001b[0m\u001b[0m\n\u001b[0;32m-> 1009\u001b[0;31m                 \u001b[0;32mraise\u001b[0m \u001b[0mKeyError\u001b[0m\u001b[0;34m(\u001b[0m\u001b[0mgpr\u001b[0m\u001b[0;34m)\u001b[0m\u001b[0;34m\u001b[0m\u001b[0;34m\u001b[0m\u001b[0m\n\u001b[0m\u001b[1;32m   1010\u001b[0m         \u001b[0;32melif\u001b[0m \u001b[0misinstance\u001b[0m\u001b[0;34m(\u001b[0m\u001b[0mgpr\u001b[0m\u001b[0;34m,\u001b[0m \u001b[0mGrouper\u001b[0m\u001b[0;34m)\u001b[0m \u001b[0;32mand\u001b[0m \u001b[0mgpr\u001b[0m\u001b[0;34m.\u001b[0m\u001b[0mkey\u001b[0m \u001b[0;32mis\u001b[0m \u001b[0;32mnot\u001b[0m \u001b[0;32mNone\u001b[0m\u001b[0;34m:\u001b[0m\u001b[0;34m\u001b[0m\u001b[0;34m\u001b[0m\u001b[0m\n\u001b[1;32m   1011\u001b[0m             \u001b[0;31m# Add key to exclusions\u001b[0m\u001b[0;34m\u001b[0m\u001b[0;34m\u001b[0m\u001b[0m\n",
            "\u001b[0;31mKeyError\u001b[0m: 'Quarter'"
          ]
        }
      ]
    },
    {
      "cell_type": "code",
      "source": [
        "print(summary_df.dtypes)"
      ],
      "metadata": {
        "colab": {
          "base_uri": "https://localhost:8080/"
        },
        "id": "6YCkGz4_3I-y",
        "outputId": "c98a3197-d6af-47fb-a59f-2ab72c5395c9"
      },
      "execution_count": null,
      "outputs": [
        {
          "output_type": "stream",
          "name": "stdout",
          "text": [
            "Service Area                  object\n",
            "Quarter                period[Q-DEC]\n",
            "transaction_count              int64\n",
            "average_transaction          float64\n",
            "dtype: object\n"
          ]
        }
      ]
    },
    {
      "cell_type": "code",
      "source": [
        "service_areas = summary_df['Service Area'].unique()\n",
        "print(service_areas)"
      ],
      "metadata": {
        "colab": {
          "base_uri": "https://localhost:8080/"
        },
        "id": "PVbPJWMkShrO",
        "outputId": "2df61c06-1e8f-4271-e294-39a5c81ed797"
      },
      "execution_count": null,
      "outputs": [
        {
          "output_type": "stream",
          "name": "stdout",
          "text": [
            "['Adults and Communities' 'Assurance' 'CSG Managed Budget'\n",
            " \"Children's Education & Skills\" \"Children's Family Services\"\n",
            " \"Children's Service DSG\" 'Childrens Services' 'Commercial'\n",
            " 'Commissioning' 'Control Accounts' 'Corporate Accounting'\n",
            " 'Customer Support Group' 'Deputy Chief Operating Officer' 'Education'\n",
            " 'Family Services' 'Governance' 'Internal Audit & CAFT' 'NSCSO'\n",
            " 'Parking & Infrastructure' 'Public Health' 'Regional Enterprise'\n",
            " 'Strategic Commissioning Board' 'Street Scene' 'Streetscene']\n"
          ]
        }
      ]
    },
    {
      "cell_type": "code",
      "source": [
        "print(f\"Number of unique service areas: {len(service_areas)}\")"
      ],
      "metadata": {
        "colab": {
          "base_uri": "https://localhost:8080/"
        },
        "id": "0OAsUn5iTM4L",
        "outputId": "f845c39d-bb33-417a-c4b5-a13b2b37f801"
      },
      "execution_count": null,
      "outputs": [
        {
          "output_type": "stream",
          "name": "stdout",
          "text": [
            "Number of unique service areas: 24\n"
          ]
        }
      ]
    },
    {
      "cell_type": "code",
      "source": [
        "summary_df['Quarter_str'] = summary_df['Quarter'].astype(str)\n",
        "\n",
        "service_areas = summary_df['Service Area'].unique()\n",
        "\n",
        "fig, axes = plt.subplots(6, 4, figsize=(20, 15))\n",
        "axes = axes.flatten()\n",
        "\n",
        "for i, service_area in enumerate(service_areas):\n",
        "    service_area_data = summary_df[summary_df['Service Area'] == service_area]\n",
        "    sns.lineplot(ax=axes[i], x='Quarter_str', y='sum_transaction', data=service_area_data, marker=\"o\")\n",
        "    axes[i].set_xticklabels(axes[i].get_xticklabels(), rotation=45)\n",
        "\n",
        "    axes[i].set_xlabel('Year-Quarter')\n",
        "    axes[i].set_ylabel('sum_transaction')\n",
        "    axes[i].set_title(f'Sum_Transaction Trends for {service_area}')\n",
        "\n",
        "plt.tight_layout()\n",
        "plt.savefig('Sum_Transaction.png')\n",
        "plt.show()"
      ],
      "metadata": {
        "id": "AY-5U_6yNfMM"
      },
      "execution_count": null,
      "outputs": []
    },
    {
      "cell_type": "code",
      "source": [
        "\n",
        "service_areas = summary_df['Service Area'].unique()\n",
        "fig, axes = plt.subplots(6, 4, figsize=(20, 15))\n",
        "axes = axes.flatten()\n",
        "\n",
        "for i, service_area in enumerate(service_areas):\n",
        "    service_area_data = summary_df[summary_df['Service Area'] == service_area]\n",
        "    sns.lineplot(ax=axes[i], x='Quarter_str', y='transaction_count', data=service_area_data, marker=\"o\")\n",
        "    axes[i].set_xticklabels(axes[i].get_xticklabels(), rotation=45)\n",
        "\n",
        "    axes[i].set_xlabel('Year-Quarter')\n",
        "    axes[i].set_ylabel('transaction_count')\n",
        "    axes[i].set_title(f'Transaction_count Trends for {service_area}')\n",
        "\n",
        "plt.tight_layout()\n",
        "plt.savefig('Transaction_count Trends.png')\n",
        "plt.show()"
      ],
      "metadata": {
        "colab": {
          "base_uri": "https://localhost:8080/",
          "height": 856
        },
        "id": "oCcMceDGE_VH",
        "outputId": "c612fc6b-072b-4235-859c-0386267ff846"
      },
      "execution_count": null,
      "outputs": [
        {
          "output_type": "stream",
          "name": "stderr",
          "text": [
            "<ipython-input-289-36faacb094c8>:8: UserWarning: FixedFormatter should only be used together with FixedLocator\n",
            "  axes[i].set_xticklabels(axes[i].get_xticklabels(), rotation=45)\n",
            "<ipython-input-289-36faacb094c8>:8: UserWarning: FixedFormatter should only be used together with FixedLocator\n",
            "  axes[i].set_xticklabels(axes[i].get_xticklabels(), rotation=45)\n",
            "<ipython-input-289-36faacb094c8>:8: UserWarning: FixedFormatter should only be used together with FixedLocator\n",
            "  axes[i].set_xticklabels(axes[i].get_xticklabels(), rotation=45)\n"
          ]
        },
        {
          "output_type": "display_data",
          "data": {
            "text/plain": [
              "<Figure size 2000x1500 with 24 Axes>"
            ],
            "image/png": "[encoded data removed]"
          },
          "metadata": {}
        }
      ]
    },
    {
      "cell_type": "code",
      "source": [
        "\n"
      ],
      "metadata": {
        "colab": {
          "base_uri": "https://localhost:8080/",
          "height": 909
        },
        "id": "X1BgId9sUwV1",
        "outputId": "6dc766ce-0730-4914-d16d-85788f1bac81"
      },
      "execution_count": null,
      "outputs": [
        {
          "output_type": "stream",
          "name": "stderr",
          "text": [
            "<ipython-input-288-89c42133bf60>:9: UserWarning: FixedFormatter should only be used together with FixedLocator\n",
            "  axes[i].set_xticklabels(axes[i].get_xticklabels(), rotation=45)\n",
            "<ipython-input-288-89c42133bf60>:9: UserWarning: FixedFormatter should only be used together with FixedLocator\n",
            "  axes[i].set_xticklabels(axes[i].get_xticklabels(), rotation=45)\n",
            "<ipython-input-288-89c42133bf60>:9: UserWarning: FixedFormatter should only be used together with FixedLocator\n",
            "  axes[i].set_xticklabels(axes[i].get_xticklabels(), rotation=45)\n",
            "<ipython-input-288-89c42133bf60>:15: UserWarning: Tight layout not applied. tight_layout cannot make axes height small enough to accommodate all axes decorations.\n",
            "  plt.tight_layout()\n"
          ]
        },
        {
          "output_type": "display_data",
          "data": {
            "text/plain": [
              "<Figure size 2000x1500 with 24 Axes>"
            ],
            "image/png": "[encoded data removed]"
          },
          "metadata": {}
        }
      ]
    },
    {
      "cell_type": "markdown",
      "source": [
        "starting machine learning"
      ],
      "metadata": {
        "id": "KEDZlAdD9oTn"
      }
    },
    {
      "cell_type": "code",
      "source": [
        "from sklearn.preprocessing import StandardScaler"
      ],
      "metadata": {
        "id": "6gZJs1uJQxzW"
      },
      "execution_count": null,
      "outputs": []
    },
    {
      "cell_type": "code",
      "source": [
        "service_area_stats = df.groupby('Service Area').agg(\n",
        "    transaction_count=('Total', 'count'),\n",
        "    average_jv_value=('Total', 'mean'),\n",
        "    median_jv_value=('Total', 'median'),\n",
        "    total_jv_value=('Total', 'sum')\n",
        ").reset_index()\n",
        "\n",
        "# Display the result\n",
        "print(service_area_stats)"
      ],
      "metadata": {
        "colab": {
          "base_uri": "https://localhost:8080/"
        },
        "id": "aQ2dWfcfv1k7",
        "outputId": "6f4daec9-a445-4322-d5af-021cc6864288"
      },
      "execution_count": null,
      "outputs": [
        {
          "output_type": "stream",
          "name": "stdout",
          "text": [
            "                      Service Area  transaction_count  average_jv_value  \\\n",
            "0           Adults and Communities                162        153.057469   \n",
            "1                        Assurance                243         76.779177   \n",
            "2               CSG Managed Budget                 38       2244.011316   \n",
            "3    Children's Education & Skills                624         97.843958   \n",
            "4       Children's Family Services               5082         69.048605   \n",
            "5           Children's Service DSG                237        132.493966   \n",
            "6               Childrens Services               1282         73.374961   \n",
            "7                       Commercial                  7        391.864286   \n",
            "8                    Commissioning                250        166.433080   \n",
            "9                 Control Accounts                  8         23.838750   \n",
            "10            Corporate Accounting                  4        132.982500   \n",
            "11          Customer Support Group                 91       1686.207253   \n",
            "12  Deputy Chief Operating Officer                137         36.622555   \n",
            "13                       Education                130        136.706385   \n",
            "14                 Family Services               1002         64.123623   \n",
            "15                      Governance                  9       1588.493333   \n",
            "16           Internal Audit & CAFT                 12         67.929167   \n",
            "17                           NSCSO                  3        151.833333   \n",
            "18        Parking & Infrastructure                  5        156.184000   \n",
            "19                   Public Health                  2          7.750000   \n",
            "20             Regional Enterprise                  5        375.400000   \n",
            "21   Strategic Commissioning Board                  1        244.000000   \n",
            "22                    Street Scene                 51         75.760980   \n",
            "23                     Streetscene                251        176.400637   \n",
            "\n",
            "    median_jv_value  total_jv_value  \n",
            "0           105.000        24795.31  \n",
            "1            12.520        18657.34  \n",
            "2           997.500        85272.43  \n",
            "3            19.170        61054.63  \n",
            "4            25.160       350905.01  \n",
            "5            65.590        31401.07  \n",
            "6            23.475        94066.70  \n",
            "7           262.750         2743.05  \n",
            "8            59.000        41608.27  \n",
            "9             8.135          190.71  \n",
            "10          144.990          531.93  \n",
            "11          288.000       153444.86  \n",
            "12           10.000         5017.29  \n",
            "13           47.695        17771.83  \n",
            "14           23.400        64251.87  \n",
            "15          252.000        14296.44  \n",
            "16           26.700          815.15  \n",
            "17          145.500          455.50  \n",
            "18           51.020          780.92  \n",
            "19            7.750           15.50  \n",
            "20           60.000         1877.00  \n",
            "21          244.000          244.00  \n",
            "22           43.670         3863.81  \n",
            "23          167.500        44276.56  \n"
          ]
        }
      ]
    },
    {
      "cell_type": "code",
      "source": [
        "service_area_stats.head()"
      ],
      "metadata": {
        "colab": {
          "base_uri": "https://localhost:8080/",
          "height": 206
        },
        "id": "JdwYQYuay0W5",
        "outputId": "5a61135d-e958-4b50-fa9b-7ee0493737f1"
      },
      "execution_count": null,
      "outputs": [
        {
          "output_type": "execute_result",
          "data": {
            "text/plain": [
              "                    Service Area  transaction_count  average_jv_value  \\\n",
              "0         Adults and Communities                162        153.057469   \n",
              "1                      Assurance                243         76.779177   \n",
              "2             CSG Managed Budget                 38       2244.011316   \n",
              "3  Children's Education & Skills                624         97.843958   \n",
              "4     Children's Family Services               5082         69.048605   \n",
              "\n",
              "   median_jv_value  total_jv_value  \n",
              "0           105.00        24795.31  \n",
              "1            12.52        18657.34  \n",
              "2           997.50        85272.43  \n",
              "3            19.17        61054.63  \n",
              "4            25.16       350905.01  "
            ],
            "text/html": [
              "\n",
              "  <div id=\"df-c467e72c-604d-43dd-b26a-7c278d61c115\" class=\"colab-df-container\">\n",
              "    <div>\n",
              "<style scoped>\n",
              "    .dataframe tbody tr th:only-of-type {\n",
              "        vertical-align: middle;\n",
              "    }\n",
              "\n",
              "    .dataframe tbody tr th {\n",
              "        vertical-align: top;\n",
              "    }\n",
              "\n",
              "    .dataframe thead th {\n",
              "        text-align: right;\n",
              "    }\n",
              "</style>\n",
              "<table border=\"1\" class=\"dataframe\">\n",
              "  <thead>\n",
              "    <tr style=\"text-align: right;\">\n",
              "      <th></th>\n",
              "      <th>Service Area</th>\n",
              "      <th>transaction_count</th>\n",
              "      <th>average_jv_value</th>\n",
              "      <th>median_jv_value</th>\n",
              "      <th>total_jv_value</th>\n",
              "    </tr>\n",
              "  </thead>\n",
              "  <tbody>\n",
              "    <tr>\n",
              "      <th>0</th>\n",
              "      <td>Adults and Communities</td>\n",
              "      <td>162</td>\n",
              "      <td>153.057469</td>\n",
              "      <td>105.00</td>\n",
              "      <td>24795.31</td>\n",
              "    </tr>\n",
              "    <tr>\n",
              "      <th>1</th>\n",
              "      <td>Assurance</td>\n",
              "      <td>243</td>\n",
              "      <td>76.779177</td>\n",
              "      <td>12.52</td>\n",
              "      <td>18657.34</td>\n",
              "    </tr>\n",
              "    <tr>\n",
              "      <th>2</th>\n",
              "      <td>CSG Managed Budget</td>\n",
              "      <td>38</td>\n",
              "      <td>2244.011316</td>\n",
              "      <td>997.50</td>\n",
              "      <td>85272.43</td>\n",
              "    </tr>\n",
              "    <tr>\n",
              "      <th>3</th>\n",
              "      <td>Children's Education &amp; Skills</td>\n",
              "      <td>624</td>\n",
              "      <td>97.843958</td>\n",
              "      <td>19.17</td>\n",
              "      <td>61054.63</td>\n",
              "    </tr>\n",
              "    <tr>\n",
              "      <th>4</th>\n",
              "      <td>Children's Family Services</td>\n",
              "      <td>5082</td>\n",
              "      <td>69.048605</td>\n",
              "      <td>25.16</td>\n",
              "      <td>350905.01</td>\n",
              "    </tr>\n",
              "  </tbody>\n",
              "</table>\n",
              "</div>\n",
              "    <div class=\"colab-df-buttons\">\n",
              "\n",
              "  <div class=\"colab-df-container\">\n",
              "    <button class=\"colab-df-convert\" onclick=\"convertToInteractive('df-c467e72c-604d-43dd-b26a-7c278d61c115')\"\n",
              "            title=\"Convert this dataframe to an interactive table.\"\n",
              "            style=\"display:none;\">\n",
              "\n",
              "  <svg xmlns=\"http://www.w3.org/2000/svg\" height=\"24px\" viewBox=\"0 -960 960 960\">\n",
              "    <path d=\"M120-120v-720h720v720H120Zm60-500h600v-160H180v160Zm220 220h160v-160H400v160Zm0 220h160v-160H400v160ZM180-400h160v-160H180v160Zm440 0h160v-160H620v160ZM180-180h160v-160H180v160Zm440 0h160v-160H620v160Z\"/>\n",
              "  </svg>\n",
              "    </button>\n",
              "\n",
              "  <style>\n",
              "    .colab-df-container {\n",
              "      display:flex;\n",
              "      gap: 12px;\n",
              "    }\n",
              "\n",
              "    .colab-df-convert {\n",
              "      background-color: #E8F0FE;\n",
              "      border: none;\n",
              "      border-radius: 50%;\n",
              "      cursor: pointer;\n",
              "      display: none;\n",
              "      fill: #1967D2;\n",
              "      height: 32px;\n",
              "      padding: 0 0 0 0;\n",
              "      width: 32px;\n",
              "    }\n",
              "\n",
              "    .colab-df-convert:hover {\n",
              "      background-color: #E2EBFA;\n",
              "      box-shadow: 0px 1px 2px rgba(60, 64, 67, 0.3), 0px 1px 3px 1px rgba(60, 64, 67, 0.15);\n",
              "      fill: #174EA6;\n",
              "    }\n",
              "\n",
              "    .colab-df-buttons div {\n",
              "      margin-bottom: 4px;\n",
              "    }\n",
              "\n",
              "    [theme=dark] .colab-df-convert {\n",
              "      background-color: #3B4455;\n",
              "      fill: #D2E3FC;\n",
              "    }\n",
              "\n",
              "    [theme=dark] .colab-df-convert:hover {\n",
              "      background-color: #434B5C;\n",
              "      box-shadow: 0px 1px 3px 1px rgba(0, 0, 0, 0.15);\n",
              "      filter: drop-shadow(0px 1px 2px rgba(0, 0, 0, 0.3));\n",
              "      fill: #FFFFFF;\n",
              "    }\n",
              "  </style>\n",
              "\n",
              "    <script>\n",
              "      const buttonEl =\n",
              "        document.querySelector('#df-c467e72c-604d-43dd-b26a-7c278d61c115 button.colab-df-convert');\n",
              "      buttonEl.style.display =\n",
              "        google.colab.kernel.accessAllowed ? 'block' : 'none';\n",
              "\n",
              "      async function convertToInteractive(key) {\n",
              "        const element = document.querySelector('#df-c467e72c-604d-43dd-b26a-7c278d61c115');\n",
              "        const dataTable =\n",
              "          await google.colab.kernel.invokeFunction('convertToInteractive',\n",
              "                                                    [key], {});\n",
              "        if (!dataTable) return;\n",
              "\n",
              "        const docLinkHtml = 'Like what you see? Visit the ' +\n",
              "          '<a target=\"_blank\" href=https://colab.research.google.com/notebooks/data_table.ipynb>data table notebook</a>'\n",
              "          + ' to learn more about interactive tables.';\n",
              "        element.innerHTML = '';\n",
              "        dataTable['output_type'] = 'display_data';\n",
              "        await google.colab.output.renderOutput(dataTable, element);\n",
              "        const docLink = document.createElement('div');\n",
              "        docLink.innerHTML = docLinkHtml;\n",
              "        element.appendChild(docLink);\n",
              "      }\n",
              "    </script>\n",
              "  </div>\n",
              "\n",
              "\n",
              "<div id=\"df-ee79e6d1-e70d-4e7e-a328-e63194601a6d\">\n",
              "  <button class=\"colab-df-quickchart\" onclick=\"quickchart('df-ee79e6d1-e70d-4e7e-a328-e63194601a6d')\"\n",
              "            title=\"Suggest charts\"\n",
              "            style=\"display:none;\">\n",
              "\n",
              "<svg xmlns=\"http://www.w3.org/2000/svg\" height=\"24px\"viewBox=\"0 0 24 24\"\n",
              "     width=\"24px\">\n",
              "    <g>\n",
              "        <path d=\"M19 3H5c-1.1 0-2 .9-2 2v14c0 1.1.9 2 2 2h14c1.1 0 2-.9 2-2V5c0-1.1-.9-2-2-2zM9 17H7v-7h2v7zm4 0h-2V7h2v10zm4 0h-2v-4h2v4z\"/>\n",
              "    </g>\n",
              "</svg>\n",
              "  </button>\n",
              "\n",
              "<style>\n",
              "  .colab-df-quickchart {\n",
              "      --bg-color: #E8F0FE;\n",
              "      --fill-color: #1967D2;\n",
              "      --hover-bg-color: #E2EBFA;\n",
              "      --hover-fill-color: #174EA6;\n",
              "      --disabled-fill-color: #AAA;\n",
              "      --disabled-bg-color: #DDD;\n",
              "  }\n",
              "\n",
              "  [theme=dark] .colab-df-quickchart {\n",
              "      --bg-color: #3B4455;\n",
              "      --fill-color: #D2E3FC;\n",
              "      --hover-bg-color: #434B5C;\n",
              "      --hover-fill-color: #FFFFFF;\n",
              "      --disabled-bg-color: #3B4455;\n",
              "      --disabled-fill-color: #666;\n",
              "  }\n",
              "\n",
              "  .colab-df-quickchart {\n",
              "    background-color: var(--bg-color);\n",
              "    border: none;\n",
              "    border-radius: 50%;\n",
              "    cursor: pointer;\n",
              "    display: none;\n",
              "    fill: var(--fill-color);\n",
              "    height: 32px;\n",
              "    padding: 0;\n",
              "    width: 32px;\n",
              "  }\n",
              "\n",
              "  .colab-df-quickchart:hover {\n",
              "    background-color: var(--hover-bg-color);\n",
              "    box-shadow: 0 1px 2px rgba(60, 64, 67, 0.3), 0 1px 3px 1px rgba(60, 64, 67, 0.15);\n",
              "    fill: var(--button-hover-fill-color);\n",
              "  }\n",
              "\n",
              "  .colab-df-quickchart-complete:disabled,\n",
              "  .colab-df-quickchart-complete:disabled:hover {\n",
              "    background-color: var(--disabled-bg-color);\n",
              "    fill: var(--disabled-fill-color);\n",
              "    box-shadow: none;\n",
              "  }\n",
              "\n",
              "  .colab-df-spinner {\n",
              "    border: 2px solid var(--fill-color);\n",
              "    border-color: transparent;\n",
              "    border-bottom-color: var(--fill-color);\n",
              "    animation:\n",
              "      spin 1s steps(1) infinite;\n",
              "  }\n",
              "\n",
              "  @keyframes spin {\n",
              "    0% {\n",
              "      border-color: transparent;\n",
              "      border-bottom-color: var(--fill-color);\n",
              "      border-left-color: var(--fill-color);\n",
              "    }\n",
              "    20% {\n",
              "      border-color: transparent;\n",
              "      border-left-color: var(--fill-color);\n",
              "      border-top-color: var(--fill-color);\n",
              "    }\n",
              "    30% {\n",
              "      border-color: transparent;\n",
              "      border-left-color: var(--fill-color);\n",
              "      border-top-color: var(--fill-color);\n",
              "      border-right-color: var(--fill-color);\n",
              "    }\n",
              "    40% {\n",
              "      border-color: transparent;\n",
              "      border-right-color: var(--fill-color);\n",
              "      border-top-color: var(--fill-color);\n",
              "    }\n",
              "    60% {\n",
              "      border-color: transparent;\n",
              "      border-right-color: var(--fill-color);\n",
              "    }\n",
              "    80% {\n",
              "      border-color: transparent;\n",
              "      border-right-color: var(--fill-color);\n",
              "      border-bottom-color: var(--fill-color);\n",
              "    }\n",
              "    90% {\n",
              "      border-color: transparent;\n",
              "      border-bottom-color: var(--fill-color);\n",
              "    }\n",
              "  }\n",
              "</style>\n",
              "\n",
              "  <script>\n",
              "    async function quickchart(key) {\n",
              "      const quickchartButtonEl =\n",
              "        document.querySelector('#' + key + ' button');\n",
              "      quickchartButtonEl.disabled = true;  // To prevent multiple clicks.\n",
              "      quickchartButtonEl.classList.add('colab-df-spinner');\n",
              "      try {\n",
              "        const charts = await google.colab.kernel.invokeFunction(\n",
              "            'suggestCharts', [key], {});\n",
              "      } catch (error) {\n",
              "        console.error('Error during call to suggestCharts:', error);\n",
              "      }\n",
              "      quickchartButtonEl.classList.remove('colab-df-spinner');\n",
              "      quickchartButtonEl.classList.add('colab-df-quickchart-complete');\n",
              "    }\n",
              "    (() => {\n",
              "      let quickchartButtonEl =\n",
              "        document.querySelector('#df-ee79e6d1-e70d-4e7e-a328-e63194601a6d button');\n",
              "      quickchartButtonEl.style.display =\n",
              "        google.colab.kernel.accessAllowed ? 'block' : 'none';\n",
              "    })();\n",
              "  </script>\n",
              "</div>\n",
              "\n",
              "    </div>\n",
              "  </div>\n"
            ],
            "application/vnd.google.colaboratory.intrinsic+json": {
              "type": "dataframe",
              "variable_name": "service_area_stats",
              "summary": "{\n  \"name\": \"service_area_stats\",\n  \"rows\": 24,\n  \"fields\": [\n    {\n      \"column\": \"Service Area\",\n      \"properties\": {\n        \"dtype\": \"string\",\n        \"num_unique_values\": 24,\n        \"samples\": [\n          \"Commissioning\",\n          \"Internal Audit & CAFT\",\n          \"Adults and Communities\"\n        ],\n        \"semantic_type\": \"\",\n        \"description\": \"\"\n      }\n    },\n    {\n      \"column\": \"transaction_count\",\n      \"properties\": {\n        \"dtype\": \"number\",\n        \"std\": 1049,\n        \"min\": 1,\n        \"max\": 5082,\n        \"num_unique_values\": 23,\n        \"samples\": [\n          9,\n          8,\n          162\n        ],\n        \"semantic_type\": \"\",\n        \"description\": \"\"\n      }\n    },\n    {\n      \"column\": \"average_jv_value\",\n      \"properties\": {\n        \"dtype\": \"number\",\n        \"std\": 593.1228530904098,\n        \"min\": 7.75,\n        \"max\": 2244.0113157894734,\n        \"num_unique_values\": 24,\n        \"samples\": [\n          166.43308,\n          67.92916666666666,\n          153.05746913580248\n        ],\n        \"semantic_type\": \"\",\n        \"description\": \"\"\n      }\n    },\n    {\n      \"column\": \"median_jv_value\",\n      \"properties\": {\n        \"dtype\": \"number\",\n        \"std\": 205.85893389602936,\n        \"min\": 7.75,\n        \"max\": 997.5,\n        \"num_unique_values\": 24,\n        \"samples\": [\n          59.0,\n          26.7,\n          105.0\n        ],\n        \"semantic_type\": \"\",\n        \"description\": \"\"\n      }\n    },\n    {\n      \"column\": \"total_jv_value\",\n      \"properties\": {\n        \"dtype\": \"number\",\n        \"std\": 76232.08474762151,\n        \"min\": 15.5,\n        \"max\": 350905.01,\n        \"num_unique_values\": 24,\n        \"samples\": [\n          41608.27,\n          815.15,\n          24795.31\n        ],\n        \"semantic_type\": \"\",\n        \"description\": \"\"\n      }\n    }\n  ]\n}"
            }
          },
          "metadata": {},
          "execution_count": 154
        }
      ]
    },
    {
      "cell_type": "code",
      "source": [
        "from sklearn.cluster import KMeans\n",
        "from sklearn.preprocessing import StandardScaler"
      ],
      "metadata": {
        "id": "CSrNx0pewY6_"
      },
      "execution_count": null,
      "outputs": []
    },
    {
      "cell_type": "code",
      "source": [
        "df = pd.DataFrame(service_area_stats)\n",
        "\n",
        "# Selecting columns for similarity measurement\n",
        "features = ['transaction_count', 'average_jv_value', 'median_jv_value', 'total_jv_value']\n",
        "\n",
        "# Normalizing the data\n",
        "scaler = StandardScaler()\n",
        "normalized_data = scaler.fit_transform(df[features])\n",
        "\n",
        "# Elbow method to determine optimal number of clusters\n",
        "inertia = []\n",
        "K = range(1, 10)\n",
        "for k in K:\n",
        "    kmeans = KMeans(n_clusters=k, random_state=42)\n",
        "    kmeans.fit(normalized_data)\n",
        "    inertia.append(kmeans.inertia_)\n",
        "\n",
        "# Plotting the elbow graph\n",
        "plt.figure(figsize=(8, 5))\n",
        "plt.plot(K, inertia, 'bo-', markersize=8)\n",
        "plt.title('Elbow Method for Optimal Number of Clusters')\n",
        "plt.xlabel('Number of clusters (k)')\n",
        "plt.ylabel('Inertia')\n",
        "plt.grid(True)\n",
        "plt.show()\n"
      ],
      "metadata": {
        "colab": {
          "base_uri": "https://localhost:8080/",
          "height": 819
        },
        "id": "-pjW-uviwgDs",
        "outputId": "5f729cf9-d354-4284-9708-a5e216c2d911"
      },
      "execution_count": null,
      "outputs": [
        {
          "output_type": "stream",
          "name": "stderr",
          "text": [
            "/usr/local/lib/python3.10/dist-packages/sklearn/cluster/_kmeans.py:1416: FutureWarning: The default value of `n_init` will change from 10 to 'auto' in 1.4. Set the value of `n_init` explicitly to suppress the warning\n",
            "  super()._check_params_vs_input(X, default_n_init=10)\n",
            "/usr/local/lib/python3.10/dist-packages/sklearn/cluster/_kmeans.py:1416: FutureWarning: The default value of `n_init` will change from 10 to 'auto' in 1.4. Set the value of `n_init` explicitly to suppress the warning\n",
            "  super()._check_params_vs_input(X, default_n_init=10)\n",
            "/usr/local/lib/python3.10/dist-packages/sklearn/cluster/_kmeans.py:1416: FutureWarning: The default value of `n_init` will change from 10 to 'auto' in 1.4. Set the value of `n_init` explicitly to suppress the warning\n",
            "  super()._check_params_vs_input(X, default_n_init=10)\n",
            "/usr/local/lib/python3.10/dist-packages/sklearn/cluster/_kmeans.py:1416: FutureWarning: The default value of `n_init` will change from 10 to 'auto' in 1.4. Set the value of `n_init` explicitly to suppress the warning\n",
            "  super()._check_params_vs_input(X, default_n_init=10)\n",
            "/usr/local/lib/python3.10/dist-packages/sklearn/cluster/_kmeans.py:1416: FutureWarning: The default value of `n_init` will change from 10 to 'auto' in 1.4. Set the value of `n_init` explicitly to suppress the warning\n",
            "  super()._check_params_vs_input(X, default_n_init=10)\n",
            "/usr/local/lib/python3.10/dist-packages/sklearn/cluster/_kmeans.py:1416: FutureWarning: The default value of `n_init` will change from 10 to 'auto' in 1.4. Set the value of `n_init` explicitly to suppress the warning\n",
            "  super()._check_params_vs_input(X, default_n_init=10)\n",
            "/usr/local/lib/python3.10/dist-packages/sklearn/cluster/_kmeans.py:1416: FutureWarning: The default value of `n_init` will change from 10 to 'auto' in 1.4. Set the value of `n_init` explicitly to suppress the warning\n",
            "  super()._check_params_vs_input(X, default_n_init=10)\n",
            "/usr/local/lib/python3.10/dist-packages/sklearn/cluster/_kmeans.py:1416: FutureWarning: The default value of `n_init` will change from 10 to 'auto' in 1.4. Set the value of `n_init` explicitly to suppress the warning\n",
            "  super()._check_params_vs_input(X, default_n_init=10)\n",
            "/usr/local/lib/python3.10/dist-packages/sklearn/cluster/_kmeans.py:1416: FutureWarning: The default value of `n_init` will change from 10 to 'auto' in 1.4. Set the value of `n_init` explicitly to suppress the warning\n",
            "  super()._check_params_vs_input(X, default_n_init=10)\n"
          ]
        },
        {
          "output_type": "display_data",
          "data": {
            "text/plain": [
              "<Figure size 800x500 with 1 Axes>"
            ],
            "image/png": "[encoded data removed]"
          },
          "metadata": {}
        }
      ]
    },
    {
      "cell_type": "code",
      "source": [
        "# Optional: Use the optimal number of clusters (determined from elbow) for K-means clustering\n",
        "optimal_k = 3  # Example: You will set this based on the elbow point from the graph\n",
        "kmeans = KMeans(n_clusters=optimal_k, random_state=42)\n",
        "df['Cluster'] = kmeans.fit_predict(normalized_data)\n",
        "\n",
        "# Visualizing the clusters\n",
        "plt.figure(figsize=(10, 6))\n",
        "plt.scatter(normalized_data[:, 0], normalized_data[:, 1], c=df['Cluster'], cmap='viridis', s=100)\n",
        "plt.title(f'K-Means Clustering with {optimal_k} Clusters')\n",
        "plt.xlabel('Normalized transaction_count')\n",
        "plt.ylabel('Normalized average_jv_value')\n",
        "plt.colorbar(label='Cluster')\n",
        "plt.grid(True)\n",
        "plt.show()\n",
        "\n",
        "# Displaying the resulting DataFrame\n",
        "print(df[['Service Area', 'Cluster']])"
      ],
      "metadata": {
        "colab": {
          "base_uri": "https://localhost:8080/",
          "height": 1000
        },
        "id": "SZZ4YZq4wjnE",
        "outputId": "c194cb44-8839-4a58-bdfa-4bfbeee71050"
      },
      "execution_count": null,
      "outputs": [
        {
          "output_type": "stream",
          "name": "stderr",
          "text": [
            "/usr/local/lib/python3.10/dist-packages/sklearn/cluster/_kmeans.py:1416: FutureWarning: The default value of `n_init` will change from 10 to 'auto' in 1.4. Set the value of `n_init` explicitly to suppress the warning\n",
            "  super()._check_params_vs_input(X, default_n_init=10)\n"
          ]
        },
        {
          "output_type": "display_data",
          "data": {
            "text/plain": [
              "<Figure size 1000x600 with 2 Axes>"
            ],
            "image/png": "[encoded data removed]"
          },
          "metadata": {}
        },
        {
          "output_type": "stream",
          "name": "stdout",
          "text": [
            "                      Service Area  Cluster\n",
            "0           Adults and Communities        0\n",
            "1                        Assurance        0\n",
            "2               CSG Managed Budget        2\n",
            "3    Children's Education & Skills        0\n",
            "4       Children's Family Services        1\n",
            "5           Children's Service DSG        0\n",
            "6               Childrens Services        0\n",
            "7                       Commercial        0\n",
            "8                    Commissioning        0\n",
            "9                 Control Accounts        0\n",
            "10            Corporate Accounting        0\n",
            "11          Customer Support Group        2\n",
            "12  Deputy Chief Operating Officer        0\n",
            "13                       Education        0\n",
            "14                 Family Services        0\n",
            "15                      Governance        2\n",
            "16           Internal Audit & CAFT        0\n",
            "17                           NSCSO        0\n",
            "18        Parking & Infrastructure        0\n",
            "19                   Public Health        0\n",
            "20             Regional Enterprise        0\n",
            "21   Strategic Commissioning Board        0\n",
            "22                    Street Scene        0\n",
            "23                     Streetscene        0\n"
          ]
        }
      ]
    }
  ]
}